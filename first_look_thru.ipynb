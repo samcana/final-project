{
 "cells": [
  {
   "cell_type": "code",
   "execution_count": 190,
   "id": "ignored-rwanda",
   "metadata": {},
   "outputs": [],
   "source": [
    "import pandas as pd\n",
    "\n",
    "df = pd.read_csv('food_recipes.csv')"
   ]
  },
  {
   "cell_type": "code",
   "execution_count": 191,
   "id": "decimal-design",
   "metadata": {},
   "outputs": [
    {
     "data": {
      "text/plain": [
       "'Arhar dal (Split Toor Dal)|Turmeric powder (Haldi)|Salt|Dry Red Chillies|Mustard seeds (Rai/ Kadugu)|Asafoetida (hing)|Curry leaves|Coriander (Dhania) Leaves'"
      ]
     },
     "execution_count": 191,
     "metadata": {},
     "output_type": "execute_result"
    }
   ],
   "source": [
    "df['ingredients'][3]"
   ]
  },
  {
   "cell_type": "code",
   "execution_count": 192,
   "id": "studied-poster",
   "metadata": {},
   "outputs": [],
   "source": [
    "# drop description and instructions as they're huge and we have the URL anyway\n",
    "df = df.drop('description', axis=1)"
   ]
  },
  {
   "cell_type": "code",
   "execution_count": 193,
   "id": "alone-connectivity",
   "metadata": {},
   "outputs": [],
   "source": [
    "df = df.drop('instructions', axis=1)"
   ]
  },
  {
   "cell_type": "code",
   "execution_count": 194,
   "id": "textile-national",
   "metadata": {},
   "outputs": [],
   "source": [
    "df = df.drop('record_health', axis=1)"
   ]
  },
  {
   "cell_type": "code",
   "execution_count": 198,
   "id": "advanced-terrain",
   "metadata": {},
   "outputs": [],
   "source": [
    "#remove non-numerical characters from prep time & cook time\n",
    "\n",
    "df['prep_time'].replace(r'[a-zA-Z%]', '', regex=True, inplace=True)"
   ]
  },
  {
   "cell_type": "code",
   "execution_count": 204,
   "id": "inclusive-nelson",
   "metadata": {},
   "outputs": [],
   "source": [
    "df['cook_time'].replace(r'[a-zA-Z%]', '', regex=True, inplace=True)"
   ]
  },
  {
   "cell_type": "code",
   "execution_count": 201,
   "id": "middle-preliminary",
   "metadata": {},
   "outputs": [],
   "source": [
    "df['prep_time'] = pd.to_numeric(df['prep_time'])"
   ]
  },
  {
   "cell_type": "code",
   "execution_count": 206,
   "id": "special-lambda",
   "metadata": {},
   "outputs": [],
   "source": [
    "df['cook_time'] = pd.to_numeric(df['cook_time'])"
   ]
  },
  {
   "cell_type": "code",
   "execution_count": 207,
   "id": "extended-forge",
   "metadata": {},
   "outputs": [
    {
     "data": {
      "text/html": [
       "<div>\n",
       "<style scoped>\n",
       "    .dataframe tbody tr th:only-of-type {\n",
       "        vertical-align: middle;\n",
       "    }\n",
       "\n",
       "    .dataframe tbody tr th {\n",
       "        vertical-align: top;\n",
       "    }\n",
       "\n",
       "    .dataframe thead th {\n",
       "        text-align: right;\n",
       "    }\n",
       "</style>\n",
       "<table border=\"1\" class=\"dataframe\">\n",
       "  <thead>\n",
       "    <tr style=\"text-align: right;\">\n",
       "      <th></th>\n",
       "      <th>recipe_title</th>\n",
       "      <th>url</th>\n",
       "      <th>vote_count</th>\n",
       "      <th>rating</th>\n",
       "      <th>cuisine</th>\n",
       "      <th>course</th>\n",
       "      <th>diet</th>\n",
       "      <th>prep_time</th>\n",
       "      <th>cook_time</th>\n",
       "      <th>ingredients</th>\n",
       "      <th>author</th>\n",
       "      <th>tags</th>\n",
       "      <th>category</th>\n",
       "    </tr>\n",
       "  </thead>\n",
       "  <tbody>\n",
       "    <tr>\n",
       "      <th>0</th>\n",
       "      <td>Roasted Peppers And Mushroom Tortilla Pizza Recipe</td>\n",
       "      <td>https://www.archanaskitchen.com/roasted-peppers-and-mushroom-tortilla-pizza-recipe</td>\n",
       "      <td>434</td>\n",
       "      <td>4.958525</td>\n",
       "      <td>Mexican</td>\n",
       "      <td>Dinner</td>\n",
       "      <td>Vegetarian</td>\n",
       "      <td>15.0</td>\n",
       "      <td>15.0</td>\n",
       "      <td>Tortillas|Extra Virgin Olive Oil|Garlic|Mozzarella cheese|Red Yellow or Green Bell Pepper (Capsicum)|Onions|Kalmatta olives|Button mushrooms</td>\n",
       "      <td>Divya Shivaraman</td>\n",
       "      <td>Party Food Recipes|Tea Party Recipes|Mushroom Recipes|Fusion Recipes|Tortilla Recipe|Bell Peppers Recipes</td>\n",
       "      <td>Pizza Recipes</td>\n",
       "    </tr>\n",
       "    <tr>\n",
       "      <th>1</th>\n",
       "      <td>Thakkali Gotsu Recipe | Thakkali Curry | Spicy &amp; Tangy Tomato Gravy</td>\n",
       "      <td>https://www.archanaskitchen.com/tomato-gotsu-recipe-spicy-tangy-tomato-gravy</td>\n",
       "      <td>3423</td>\n",
       "      <td>4.932223</td>\n",
       "      <td>South Indian Recipes</td>\n",
       "      <td>Lunch</td>\n",
       "      <td>Vegetarian</td>\n",
       "      <td>10.0</td>\n",
       "      <td>20.0</td>\n",
       "      <td>Sesame (Gingelly) Oil|Mustard seeds (Rai/ Kadugu)|Curry leaves|Garlic|Pearl onions (Sambar Onions)|Tomatoes|Tamarind|Turmeric powder (Haldi)|Salt|Jaggery</td>\n",
       "      <td>Archana Doshi</td>\n",
       "      <td>Vegetarian Recipes|Tomato Recipes|South Indian Recipes|Breakfast Recipe Ideas</td>\n",
       "      <td>Indian Curry Recipes</td>\n",
       "    </tr>\n",
       "    <tr>\n",
       "      <th>2</th>\n",
       "      <td>Spicy Grilled Pineapple Salsa Recipe</td>\n",
       "      <td>https://www.archanaskitchen.com/spicy-grilled-pineapple-salsa-recipe</td>\n",
       "      <td>2091</td>\n",
       "      <td>4.945959</td>\n",
       "      <td>Mexican</td>\n",
       "      <td>Side Dish</td>\n",
       "      <td>Vegetarian</td>\n",
       "      <td>10.0</td>\n",
       "      <td>0.0</td>\n",
       "      <td>Extra Virgin Olive Oil|Pineapple|White onion|Red Yellow and Green Bell Peppers (Capsicum)|Pickled Jalapenos|Coriander (Dhania) Leaves|Mint Leaves (Pudina)|Salt|Lemon juice|Paprika powder</td>\n",
       "      <td>Archana's Kitchen</td>\n",
       "      <td>Party Starter &amp; Appetizer Recipes|Pineapple Recipes|Salsa Recipes</td>\n",
       "      <td>Mexican Recipes</td>\n",
       "    </tr>\n",
       "    <tr>\n",
       "      <th>3</th>\n",
       "      <td>Karwar Style Dali Thoy Recipe - Toor dal Curry</td>\n",
       "      <td>https://www.archanaskitchen.com/dali-thoy-recipe-karwar-style-toor-dal-curry</td>\n",
       "      <td>990</td>\n",
       "      <td>4.888889</td>\n",
       "      <td>Coastal Karnataka</td>\n",
       "      <td>Side Dish</td>\n",
       "      <td>High Protein Vegetarian</td>\n",
       "      <td>5.0</td>\n",
       "      <td>20.0</td>\n",
       "      <td>Arhar dal (Split Toor Dal)|Turmeric powder (Haldi)|Salt|Dry Red Chillies|Mustard seeds (Rai/ Kadugu)|Asafoetida (hing)|Curry leaves|Coriander (Dhania) Leaves</td>\n",
       "      <td>Jyothi Rajesh</td>\n",
       "      <td>Side Dish Recipes|South Indian Recipes|Indian Lunch Recipes|Indian Vegetarian Recipes|Toor Dal Recipes (Pigeon Pea)</td>\n",
       "      <td>Indian Curry Recipes</td>\n",
       "    </tr>\n",
       "    <tr>\n",
       "      <th>4</th>\n",
       "      <td>Rajma Kofta In Milk And Poppy Seed Gravy Recipe</td>\n",
       "      <td>https://www.archanaskitchen.com/rajma-kofta-in-milk-and-poppy-seed-gravy-recipe</td>\n",
       "      <td>345</td>\n",
       "      <td>4.828986</td>\n",
       "      <td>North Indian Recipes</td>\n",
       "      <td>Side Dish</td>\n",
       "      <td>High Protein Vegetarian</td>\n",
       "      <td>20.0</td>\n",
       "      <td>30.0</td>\n",
       "      <td>Rajma (Large Kidney Beans)|Cashew nuts|Sultana Raisins|Asafoetida (hing)|Cumin seeds (Jeera)|Gram flour (besan)|Red Chilli powder|Coriander (Dhania) Leaves|Poppy seeds|Fresh cream|Milk|Water|Salt|Saffron strands</td>\n",
       "      <td>RUBY PATHAK</td>\n",
       "      <td>Side Dish Recipes|Indian Lunch Recipes|Office Lunch Box Recipes|Rajma Kidney Bean Recipes|Poppy Seeds Recipes</td>\n",
       "      <td>Kofta Recipes</td>\n",
       "    </tr>\n",
       "  </tbody>\n",
       "</table>\n",
       "</div>"
      ],
      "text/plain": [
       "                                                          recipe_title  \\\n",
       "0                   Roasted Peppers And Mushroom Tortilla Pizza Recipe   \n",
       "1  Thakkali Gotsu Recipe | Thakkali Curry | Spicy & Tangy Tomato Gravy   \n",
       "2                                 Spicy Grilled Pineapple Salsa Recipe   \n",
       "3                       Karwar Style Dali Thoy Recipe - Toor dal Curry   \n",
       "4                      Rajma Kofta In Milk And Poppy Seed Gravy Recipe   \n",
       "\n",
       "                                                                                  url  \\\n",
       "0  https://www.archanaskitchen.com/roasted-peppers-and-mushroom-tortilla-pizza-recipe   \n",
       "1        https://www.archanaskitchen.com/tomato-gotsu-recipe-spicy-tangy-tomato-gravy   \n",
       "2                https://www.archanaskitchen.com/spicy-grilled-pineapple-salsa-recipe   \n",
       "3        https://www.archanaskitchen.com/dali-thoy-recipe-karwar-style-toor-dal-curry   \n",
       "4     https://www.archanaskitchen.com/rajma-kofta-in-milk-and-poppy-seed-gravy-recipe   \n",
       "\n",
       "   vote_count    rating               cuisine     course  \\\n",
       "0         434  4.958525               Mexican     Dinner   \n",
       "1        3423  4.932223  South Indian Recipes      Lunch   \n",
       "2        2091  4.945959               Mexican  Side Dish   \n",
       "3         990  4.888889     Coastal Karnataka  Side Dish   \n",
       "4         345  4.828986  North Indian Recipes  Side Dish   \n",
       "\n",
       "                      diet  prep_time  cook_time  \\\n",
       "0               Vegetarian       15.0       15.0   \n",
       "1               Vegetarian       10.0       20.0   \n",
       "2               Vegetarian       10.0        0.0   \n",
       "3  High Protein Vegetarian        5.0       20.0   \n",
       "4  High Protein Vegetarian       20.0       30.0   \n",
       "\n",
       "                                                                                                                                                                                                           ingredients  \\\n",
       "0                                                                         Tortillas|Extra Virgin Olive Oil|Garlic|Mozzarella cheese|Red Yellow or Green Bell Pepper (Capsicum)|Onions|Kalmatta olives|Button mushrooms   \n",
       "1                                                            Sesame (Gingelly) Oil|Mustard seeds (Rai/ Kadugu)|Curry leaves|Garlic|Pearl onions (Sambar Onions)|Tomatoes|Tamarind|Turmeric powder (Haldi)|Salt|Jaggery   \n",
       "2                           Extra Virgin Olive Oil|Pineapple|White onion|Red Yellow and Green Bell Peppers (Capsicum)|Pickled Jalapenos|Coriander (Dhania) Leaves|Mint Leaves (Pudina)|Salt|Lemon juice|Paprika powder   \n",
       "3                                                        Arhar dal (Split Toor Dal)|Turmeric powder (Haldi)|Salt|Dry Red Chillies|Mustard seeds (Rai/ Kadugu)|Asafoetida (hing)|Curry leaves|Coriander (Dhania) Leaves   \n",
       "4  Rajma (Large Kidney Beans)|Cashew nuts|Sultana Raisins|Asafoetida (hing)|Cumin seeds (Jeera)|Gram flour (besan)|Red Chilli powder|Coriander (Dhania) Leaves|Poppy seeds|Fresh cream|Milk|Water|Salt|Saffron strands   \n",
       "\n",
       "              author  \\\n",
       "0  Divya Shivaraman    \n",
       "1      Archana Doshi   \n",
       "2  Archana's Kitchen   \n",
       "3      Jyothi Rajesh   \n",
       "4        RUBY PATHAK   \n",
       "\n",
       "                                                                                                                  tags  \\\n",
       "0            Party Food Recipes|Tea Party Recipes|Mushroom Recipes|Fusion Recipes|Tortilla Recipe|Bell Peppers Recipes   \n",
       "1                                        Vegetarian Recipes|Tomato Recipes|South Indian Recipes|Breakfast Recipe Ideas   \n",
       "2                                                    Party Starter & Appetizer Recipes|Pineapple Recipes|Salsa Recipes   \n",
       "3  Side Dish Recipes|South Indian Recipes|Indian Lunch Recipes|Indian Vegetarian Recipes|Toor Dal Recipes (Pigeon Pea)   \n",
       "4        Side Dish Recipes|Indian Lunch Recipes|Office Lunch Box Recipes|Rajma Kidney Bean Recipes|Poppy Seeds Recipes   \n",
       "\n",
       "               category  \n",
       "0         Pizza Recipes  \n",
       "1  Indian Curry Recipes  \n",
       "2       Mexican Recipes  \n",
       "3  Indian Curry Recipes  \n",
       "4         Kofta Recipes  "
      ]
     },
     "execution_count": 207,
     "metadata": {},
     "output_type": "execute_result"
    }
   ],
   "source": [
    "df.head()"
   ]
  },
  {
   "cell_type": "code",
   "execution_count": 187,
   "id": "chicken-concentrate",
   "metadata": {},
   "outputs": [
    {
     "data": {
      "text/html": [
       "<div>\n",
       "<style scoped>\n",
       "    .dataframe tbody tr th:only-of-type {\n",
       "        vertical-align: middle;\n",
       "    }\n",
       "\n",
       "    .dataframe tbody tr th {\n",
       "        vertical-align: top;\n",
       "    }\n",
       "\n",
       "    .dataframe thead th {\n",
       "        text-align: right;\n",
       "    }\n",
       "</style>\n",
       "<table border=\"1\" class=\"dataframe\">\n",
       "  <thead>\n",
       "    <tr style=\"text-align: right;\">\n",
       "      <th></th>\n",
       "    </tr>\n",
       "  </thead>\n",
       "  <tbody>\n",
       "  </tbody>\n",
       "</table>\n",
       "</div>"
      ],
      "text/plain": [
       "Empty DataFrame\n",
       "Columns: []\n",
       "Index: []"
      ]
     },
     "execution_count": 187,
     "metadata": {},
     "output_type": "execute_result"
    }
   ],
   "source": [
    "df"
   ]
  },
  {
   "cell_type": "code",
   "execution_count": 208,
   "id": "perceived-wedding",
   "metadata": {},
   "outputs": [
    {
     "name": "stdout",
     "output_type": "stream",
     "text": [
      "<class 'pandas.core.frame.DataFrame'>\n",
      "RangeIndex: 8009 entries, 0 to 8008\n",
      "Data columns (total 13 columns):\n",
      " #   Column        Non-Null Count  Dtype  \n",
      "---  ------        --------------  -----  \n",
      " 0   recipe_title  8009 non-null   object \n",
      " 1   url           8009 non-null   object \n",
      " 2   vote_count    8009 non-null   int64  \n",
      " 3   rating        8009 non-null   float64\n",
      " 4   cuisine       7943 non-null   object \n",
      " 5   course        7854 non-null   object \n",
      " 6   diet          7858 non-null   object \n",
      " 7   prep_time     7979 non-null   float64\n",
      " 8   cook_time     7979 non-null   float64\n",
      " 9   ingredients   7997 non-null   object \n",
      " 10  author        8009 non-null   object \n",
      " 11  tags          7930 non-null   object \n",
      " 12  category      8009 non-null   object \n",
      "dtypes: float64(3), int64(1), object(9)\n",
      "memory usage: 813.5+ KB\n"
     ]
    }
   ],
   "source": [
    "df.info()"
   ]
  },
  {
   "cell_type": "code",
   "execution_count": 209,
   "id": "stuffed-interest",
   "metadata": {},
   "outputs": [],
   "source": [
    "#converting all ingredients to lower case (my apologies to proper nouns) to make things easier\n",
    "\n",
    "df['ingredients'] = df['ingredients'].str.lower()"
   ]
  },
  {
   "cell_type": "code",
   "execution_count": 210,
   "id": "lightweight-encounter",
   "metadata": {},
   "outputs": [
    {
     "data": {
      "text/plain": [
       "गेहूं का आटा|नमक|तेल|घी                                                                                                                                                                                             3\n",
       "strawberries|sugar|lemon juice                                                                                                                                                                                      3\n",
       "lemons|sugar|salt|red chilli powder                                                                                                                                                                                 3\n",
       "dates|dried figs|pistachios|cashew nuts|whole almonds (badam)|walnuts|milk                                                                                                                                          2\n",
       "ragi seeds|white urad dal (whole)|methi seeds (fenugreek seeds)|salt|water                                                                                                                                          2\n",
       "                                                                                                                                                                                                                   ..\n",
       "button mushrooms|pearl onions (sambar onions)|garlic|black pepper powder|salt|sunflower oil|coriander (dhania) leaves                                                                                               1\n",
       "broccoli|baby corn|carrots (gajjar)|red bell pepper (capsicum)|lemon grass|lemon juice|basil leaves|sugar|salt and pepper                                                                                           1\n",
       "masoor dal (whole)|tomatoes|onion|garlic|ginger|green chillies|kasuri methi (dried fenugreek leaves)|sunflower oil|red chilli powder|salt|turmeric powder (haldi)|coriander powder (dhania)|cumin powder (jeera)    1\n",
       "all purpose flour (maida)|baking soda|salt|caster sugar|buttermilk|vanilla extract|whole egg|sunflower oil|fresh fruits                                                                                             1\n",
       "all purpose flour (maida)|sugar|baking powder|baking soda|oil|orange zest (rind)|fresh orange juice|whole egg|vanilla extract|caster sugar|butter (salted)                                                          1\n",
       "Name: ingredients, Length: 7953, dtype: int64"
      ]
     },
     "execution_count": 210,
     "metadata": {},
     "output_type": "execute_result"
    }
   ],
   "source": [
    "df['ingredients'].value_counts()"
   ]
  },
  {
   "cell_type": "code",
   "execution_count": 211,
   "id": "satisfactory-polymer",
   "metadata": {},
   "outputs": [
    {
     "data": {
      "text/plain": [
       "cuisine         66\n",
       "course         155\n",
       "diet           151\n",
       "prep_time       30\n",
       "cook_time       30\n",
       "ingredients     12\n",
       "tags            79\n",
       "dtype: int64"
      ]
     },
     "execution_count": 211,
     "metadata": {},
     "output_type": "execute_result"
    }
   ],
   "source": [
    "#a lot of null values that need dealing with. Especially ingredients\n",
    "\n",
    "null_columns=df.columns[df.isnull().any()]\n",
    "df[null_columns].isnull().sum()"
   ]
  },
  {
   "cell_type": "code",
   "execution_count": 212,
   "id": "binary-amazon",
   "metadata": {},
   "outputs": [
    {
     "name": "stdout",
     "output_type": "stream",
     "text": [
      "                   cuisine                  course        diet  prep_time  \\\n",
      "578                    NaN                     NaN         NaN       10.0   \n",
      "1321           Continental               Appetizer  Vegetarian       10.0   \n",
      "1790           Continental         World Breakfast  Vegetarian        5.0   \n",
      "1904  South Indian Recipes  South Indian Breakfast  Vegetarian       10.0   \n",
      "2166                   NaN                     NaN         NaN        NaN   \n",
      "5905                   NaN                     NaN         NaN        NaN   \n",
      "5906                   NaN                     NaN         NaN        NaN   \n",
      "5909                   NaN                     NaN         NaN        NaN   \n",
      "6018               Sichuan               Appetizer  Vegetarian       15.0   \n",
      "6153                   NaN                     NaN         NaN        NaN   \n",
      "7365                Indian               Appetizer  Vegetarian        0.0   \n",
      "7751       Italian Recipes                  Dinner  Vegetarian        0.0   \n",
      "\n",
      "      cook_time ingredients  \\\n",
      "578        30.0         NaN   \n",
      "1321       30.0         NaN   \n",
      "1790       15.0         NaN   \n",
      "1904       20.0         NaN   \n",
      "2166        NaN         NaN   \n",
      "5905        NaN         NaN   \n",
      "5906        NaN         NaN   \n",
      "5909        NaN         NaN   \n",
      "6018       30.0         NaN   \n",
      "6153        NaN         NaN   \n",
      "7365        5.0         NaN   \n",
      "7751       15.0         NaN   \n",
      "\n",
      "                                                                                                                               tags  \n",
      "578                                                                                                                  Tomato Recipes  \n",
      "1321                                                                                Summer Recipe Ideas|Walnut Recipes|Pear Recipes  \n",
      "1790                                                                          Breakfast Recipe Ideas|Toast Recipes|Recipes for Kids  \n",
      "1904  South Indian Recipes|Spinach Recipes (Palak/Keerai)|Healthy Recipes|South Indian Breakfast Recipes|Healthy Kids Snack Recipes  \n",
      "2166                                                                                                                            NaN  \n",
      "5905                                                                 Healthy Recipes|Bitter Gourd Karela Recipes|Stir Fried Recipes  \n",
      "5906                                                          Side Dish Recipes|Healthy Recipes|Green Peas (Matar/ Pattani) Recipes  \n",
      "5909                 Vegetarian Recipes|Indian Lunch Recipes|Aloo Recipes (Potato & Baby Potato Recipes)|No Onion No Garlic Recipes  \n",
      "6018                                                                        Party Food Recipes|Brinjal Recipes (Eggplant / Baingan)  \n",
      "6153                            Party Starter & Appetizer Recipes|No Onion No Garlic Recipes|Pineapple Recipes|Quick & Easy Recipes  \n",
      "7365                                                        Quick & Easy Recipes|Roasted recipes|Papad Recipes|Oven Roasted Recipes  \n",
      "7751                                                                                       Pasta Sauce Recipes|Indian Pasta Recipes  \n"
     ]
    }
   ],
   "source": [
    "# 12 rows lacking ingredients. In a lot of cases, they also lack prep/cook time, course, diet, cuisine. May as well drop them\n",
    "\n",
    "print(df[df[\"ingredients\"].isnull()][null_columns])"
   ]
  },
  {
   "cell_type": "code",
   "execution_count": 213,
   "id": "entitled-award",
   "metadata": {},
   "outputs": [],
   "source": [
    "df = df.dropna(subset=['ingredients'])"
   ]
  },
  {
   "cell_type": "code",
   "execution_count": 214,
   "id": "earned-debate",
   "metadata": {},
   "outputs": [],
   "source": [
    "ingredients_brackets = df[df['ingredients'].str.contains(\"\\(\")]"
   ]
  },
  {
   "cell_type": "code",
   "execution_count": 47,
   "id": "recognized-andorra",
   "metadata": {},
   "outputs": [
    {
     "data": {
      "text/plain": [
       "841     अरहर दाल|हरी मिर्च|नारियल|जीरा|हल्दी पाउडर|नमक...\n",
       "851     दही|बेसन|हींग|हल्दी पाउडर|गुड|नमक|जीरा|राइ|दाल...\n",
       "1210    अरहर दाल|हल्दी पाउडर|इमली का पानी|टमाटर|लहसुन|...\n",
       "1231    काबुली चना या छोला|प्याज|शिमला मिर्च (हरी)|लहस...\n",
       "1234    चावल|घी|जीरा|तेज पत्ता|स्टार अनीस|इलाइची|लॉन्ग...\n",
       "                              ...                        \n",
       "7534    दही|बेसन|हल्दी पाउडर|लाल मिर्च पाउडर|पानी|प्या...\n",
       "7535    चावल|अदरक लहसुन का पेस्ट|हरे मटर|बटन मशरुम|प्य...\n",
       "7550    अरहर दाल|टमाटर|संतरे का रस|निम्बू का रस|हल्दी ...\n",
       "7619    पापड़|आलू|टमाटर|अदरक|तेज पत्ता|सुखी लाल मिर्च|ज...\n",
       "7937    रागी का आटा|प्याज|अदरक|गाजर|बादाम|हरा बीन्स|नम...\n",
       "Name: ingredients, Length: 223, dtype: object"
      ]
     },
     "execution_count": 47,
     "metadata": {},
     "output_type": "execute_result"
    }
   ],
   "source": [
    "# 223 recipes with ingredients in Hindi, hmmmm... approx 3% of total recipes. drop them?\n",
    "\n",
    "ingredients['ingredients']"
   ]
  },
  {
   "cell_type": "code",
   "execution_count": 215,
   "id": "foster-fireplace",
   "metadata": {},
   "outputs": [
    {
     "data": {
      "text/plain": [
       "0                                                                                                                         tortillas|extra virgin olive oil|garlic|mozzarella cheese|red yellow or green bell pepper (capsicum)|onions|kalmatta olives|button mushrooms\n",
       "1                                                                                                            sesame (gingelly) oil|mustard seeds (rai/ kadugu)|curry leaves|garlic|pearl onions (sambar onions)|tomatoes|tamarind|turmeric powder (haldi)|salt|jaggery\n",
       "2                                                                           extra virgin olive oil|pineapple|white onion|red yellow and green bell peppers (capsicum)|pickled jalapenos|coriander (dhania) leaves|mint leaves (pudina)|salt|lemon juice|paprika powder\n",
       "3                                                                                                        arhar dal (split toor dal)|turmeric powder (haldi)|salt|dry red chillies|mustard seeds (rai/ kadugu)|asafoetida (hing)|curry leaves|coriander (dhania) leaves\n",
       "4                                                  rajma (large kidney beans)|cashew nuts|sultana raisins|asafoetida (hing)|cumin seeds (jeera)|gram flour (besan)|red chilli powder|coriander (dhania) leaves|poppy seeds|fresh cream|milk|water|salt|saffron strands\n",
       "                                                                                                                                     ...                                                                                                                              \n",
       "8004                                                                                                spirali pasta|onions|tomatoes|green zucchini|carrot (gajjar)|green chillies|dried oregano|dried basil leaves|black pepper powder|salt|extra virgin olive oil|sugar\n",
       "8005                                       arhar dal (split toor dal)|tomato|turmeric powder (haldi)|red chilli powder|garlic|ginger|green chillies|oil|mustard seeds (rai/ kadugu)|cumin seeds (jeera)|dry red chillies|curry leaves|garlic|coriander (dhania) leaves\n",
       "8006                                                                                                             turmeric powder (haldi)|sugar|salt|fresh coconut|dry red chillies|coriander (dhania) seeds|sunflower oil|mustard seeds|asafoetida (hing)|curry leaves\n",
       "8007                                                                                                                               beetroot|amla (nellikai/ gooseberry)|mint leaves (pudina)|cucumber|black pepper powder|cumin powder (jeera)|black salt (kala namak)\n",
       "8008    cauliflower (gobi)|pearl onions (sambar onions)|garlic|turmeric powder (haldi)|black pepper powder|red chilli powder|cinnamon powder (dalchini)|cloves (laung)|coriander powder (dhania)|salt|mustard seeds (rai/ kadugu)|cumin seeds (jeera)|curry leaves|oil\n",
       "Name: ingredients, Length: 6378, dtype: object"
      ]
     },
     "execution_count": 215,
     "metadata": {},
     "output_type": "execute_result"
    }
   ],
   "source": [
    "#6378 rows with brackets in the ingredients. that's a lot\n",
    "\n",
    "pd.set_option('display.max_colwidth', None)\n",
    "ingredients_brackets['ingredients']"
   ]
  },
  {
   "cell_type": "code",
   "execution_count": 61,
   "id": "silver-designer",
   "metadata": {},
   "outputs": [
    {
     "name": "stdout",
     "output_type": "stream",
     "text": [
      "0                                                                                                                                                                                                                                                                                    tortillas|extra virgin olive oil|garlic|mozzarella cheese|red yellow or green bell pepper (capsicum)|onions|kalmatta olives|button mushrooms\n",
      "2                                                                                                                                                                                                                                      extra virgin olive oil|pineapple|white onion|red yellow and green bell peppers (capsicum)|pickled jalapenos|coriander (dhania) leaves|mint leaves (pudina)|salt|lemon juice|paprika powder\n",
      "8                                                                                                                                                                                 whole wheat flour|sooji (semolina/ rava)|ajwain (carom seeds)|salt|extra virgin olive oil|carrot (gajjar)|green bell pepper (capsicum)|cabbage (patta gobi/ muttaikose)|ginger|garlic|green chilli|spring onion greens|salt|black pepper powder\n",
      "22                                                                                                                                                                                                              brinjal (baingan / eggplant)|green bell pepper (capsicum)|carrot (gajjar)|onion|green chillies|garlic|basil leaves|parsley leaves|extra virgin olive oil|black pepper powder|salt|dried oregano|mozzarella cheese\n",
      "32                                                                                                                                                                                                                          makki ka atta (yellow corn meal flour)|milk|water|whole black peppercorns|extra virgin olive oil|salt|red yellow and green bell peppers (capsicum)|button mushrooms|mixed herbs (dried)|onions|cheese\n",
      "                                                                                                                                                                                                                  ...                                                                                                                                                                                                            \n",
      "7958                                                                baby potatoes|green peas (matar)|carrots (gajjar)|green beans (french beans)|red bell pepper (capsicum)|yellow bell pepper (capsicum)|raisins|tomato|onion|garlic|ginger|red chilli powder|turmeric powder (haldi)|coriander powder (dhania)|cumin powder (jeera)|bay leaves (tej patta)|cashew nuts|fresh cream|coriander (dhania) leaves|salt|sunflower oil\n",
      "7968                                                                                                                                                                                                                         hakka noodles|water|garlic|ginger|fresh red chilli|carrots (gajjar)|red bell pepper (capsicum)|green bell peppers|salt|black pepper powder|spring onion greens|chicken breasts|dry red chilli|garlic\n",
      "7982    all purpose flour (maida)|whole wheat flour|sugar|salt|extra virgin olive oil|green bell pepper (capsicum)|red bell pepper (capsicum)|yellow bell pepper (capsicum)|brinjal (baingan / eggplant)|onion|green zucchini|pickled jalapenos|button mushrooms|corn cob|extra virgin olive oil|salt and pepper|red chilli powder|cumin powder (jeera)|coriander powder (dhania)|goat cheese|whole egg|coriander (dhania) leaves\n",
      "7999                                                                                                                                                                                         yellow moong dal (split)|green chillies|ginger|onion|green bell pepper (capsicum)|green peas (matar)|mint leaves (pudina)|corn flour|cumin powder (jeera)|amchur (dry mango powder)|black pepper powder|chaat masala powder|salt|oil\n",
      "8001                                                                                                                                                                                                                                                   cauliflower (gobi)|red bell pepper (capsicum)|coriander powder (dhania)|red chilli powder|turmeric powder (haldi)|kasuri methi (dried fenugreek leaves)|sunflower oil|salt\n",
      "Name: ingredients, Length: 653, dtype: object\n"
     ]
    }
   ],
   "source": [
    "#lots of combos for bell peppers, 'red, yellow or green' sometimes with 'and', sometimes with 'or'...sometimes pepperS or pepper singular\n",
    "\n",
    "pepper = df[df['ingredients'].str.contains('bell pepper')]\n",
    "print (pepper['ingredients'])"
   ]
  },
  {
   "cell_type": "code",
   "execution_count": 333,
   "id": "stretch-snake",
   "metadata": {},
   "outputs": [
    {
     "name": "stdout",
     "output_type": "stream",
     "text": [
      "325                                                                                                                                                                                                                                                                                      cauliflower (gobi)|soy chunks (nuggets)|baby potatoes|green peas (matar)|onion|green chilli|ginger|garlic|salt|red chilli powder|turmeric powder (haldi)|coriander powder (dhania)|bay leaf (tej patta)|coriander (dhania) leaves|lemon juice\n",
      "342                                                                                                                                                                                                                                                                                                                                                                                          baby potatoes|coriander (dhania) leaves|mint leaves (pudina)|butter (salted)|extra virgin olive oil|green olives|capers|green chilli|salt\n",
      "531                                                                                                                                                                                                                                                                                                                                                                                              baby potatoes|extra virgin olive oil|red onion|garlic|lemon juice|coconut milk|salt|whole black peppercorns|basil leaves|green olives\n",
      "532                                                                                                                                                                                                                                                                                                                                                                               tomato ketchup|honey|rice vinegar|oil|sesame seeds (til seeds)|garlic|ginger|green chilli|spring onion greens|baby potatoes|salt|spring onion greens\n",
      "540     ajwain (carom seeds)|asafoetida (hing)|flat green beans|sweet potatoes|elephant yam (suran/senai/ratalu)|purple yam|raw banana|salt|small brinjal (baingan / eggplant)|baby potatoes|fresh coconut|coriander (dhania) leaves|garlic|ginger|green chilli|sesame seeds (til seeds)|coriander (dhania) seeds|turmeric powder (haldi)|red chilli powder|lemon juice|sugar|salt|methi leaves (fenugreek leaves)|gram flour (besan)|turmeric powder (haldi)|red chilli powder|asafoetida (hing)|enos fruit salt|sugar|lemon|oil|salt\n",
      "546                                                                                                                                                                                                                                                   ginger|green chilli|onion|garlic|baby potatoes|mustard oil|salt|mustard oil|cardamom (elaichi) pods/seeds|cinnamon stick (dalchini)|cloves (laung)|bay leaf (tej patta)|turmeric powder (haldi)|red chilli powder|coriander powder (dhania)|honey|salt|coriander (dhania) leaves\n",
      "629                                                                                                                                                                                                                                                                                                                                                                                                                                                                  coconut oil|baby potatoes|salt and pepper|whole eggs|basil leaves\n",
      "715                                                                                                                                                                                                                                                                                                                             baby potatoes|sesame seeds (til seeds)|sunflower oil|salt|red chilli powder|coriander powder (dhania)|turmeric powder (haldi)|cumin powder (jeera)|amchur (dry mango powder)|coriander (dhania) leaves\n",
      "746                                                                                                                                                                                                                                                                                       baby potatoes|methi leaves (fenugreek leaves)|oil|cumin seeds (jeera)|onions|ginger|garlic|bay leaf (tej patta)|cinnamon stick (dalchini)|turmeric powder (haldi)|coriander powder (dhania)|red chilli powder|amchur (dry mango powder)|salt\n",
      "887                                                                                                                                                                                                                                                                                                                 baby potatoes|pearl onions (sambar onions)|garlic|ginger|green chilli|bay leaf (tej patta)|turmeric powder (haldi)|kashmiri red chilli powder|coriander powder (dhania)|salt|coriander (dhania) leaves|mustard oil\n",
      "1114                                                                                                                                                                                                                                                                                                                                                                baby potatoes|garlic|oil|cumin seeds (jeera)|gram flour (besan)|coriander powder (dhania)|red chilli powder|turmeric powder (haldi)|salt|coriander (dhania) leaves\n",
      "1147                                                                                                                                                                                                                                                                                                                                     beetroot|baby potatoes|green amaranth leaves|onion|garlic|green chilli|mustard seeds|cumin seeds (jeera)|turmeric powder (haldi)|red chilli powder|coriander powder (dhania)|salt|mustard oil\n",
      "1176                                                                                                                                                                                                                                                                                                      spaghetti pasta|carrot|baby potatoes|green beans (french beans)|green bell pepper (capsicum)|sweet corn|cherry tomato|broccoli|onion|garlic|basil leaves|lemon|extra virgin olive oil|salt|red chilli flakes|parmesan cheese\n",
      "1617                                                                                                                                                                                                                                                                                                                      carrot|baby potatoes|elephant yam (suran/senai/ratalu)|green peas (matar)|raisins|dates|vinegar|jaggery|onion|tomato|garlic|ginger|green chilli|turmeric powder (haldi)|red chilli powder|salt|sunflower oil\n",
      "1993                                                                                                                                                                                                                                                                                                                                                                                                                      baby potatoes|garlic|black pepper powder|dried oregano|spring onion (bulb & greens)|salt|butter (salted)|oil\n",
      "2108                                                                                                                                                                                                                                                                                                                                                   baby potatoes|coriander (dhania) seeds|cumin seeds (jeera)|fennel seeds (saunf)|whole black peppercorns|dry red chilli|sunflower oil|sugar|water|salt|coriander (dhania) leaves\n",
      "2122                                                                                                                                                                                                                                                                                                                                                      baby potatoes|red chilli powder|turmeric powder (haldi)|salt|green chilli|garlic|ginger|spinach|mint leaves (pudina)|salt|cinnamon stick (dalchini)|garlic|onion|fresh cream\n",
      "2257                                                                                                                                                                                                                                                                                baby potatoes|dry red chilli|sesame seeds (til seeds)|cumin seeds (jeera)|fennel seeds (saunf)|asafoetida (hing)|turmeric powder (haldi)|kashmiri red chilli powder|red chilli flakes|amchur (dry mango powder)|coriander (dhania) leaves|oil|salt\n",
      "2334                                                                                                                                                                                                                                                                           sesame seeds (til seeds)|raw peanuts (moongphali)|baby potatoes|salt|sunflower oil|cumin seeds (jeera)|green chilli|ginger|garlic|cumin powder (jeera)|red chilli powder|lemon juice|coriander (dhania) leaves|mint leaves (pudina)|chaat masala powder\n",
      "2500                                                                                                                                                                                                                                                     baby potatoes|carrot|green beans (french beans)|onion|reacheado masala|sunflower oil|salt|dry red chilli|cloves (laung)|cinnamon stick|cardamom (elaichi) pods/seeds|cumin seeds (jeera)|black pepper corns|ginger|garlic|onion|turmeric powder (haldi)|vinegar|tamarind|salt\n",
      "2583                                                                                                                                                                                                                                                             baby potatoes|pearl onions (sambar onions)|tomato|green chilli|ginger|garlic|coriander powder (dhania)|red chilli powder|turmeric powder (haldi)|curry leaves|pearl onions (sambar onions)|fresh coconut|cumin seeds (jeera)|whole black peppercorns|coconut oil|salt\n",
      "2640                                                                                                                                                                                                                                                                                                                                           chicken thigh|fresh orange juice|date syrup|black pepper powder|salt|spinach leaves (palak)|orange|apple|orange|lemon juice|salt and pepper|baby potatoes|dried oregano|salt and pepper\n",
      "2729                                                                                                                                                                                                                       water|baby potatoes|carrot|bottle gourd (lauki)|tomato|salt|green chilli|turmeric powder (haldi)|asafoetida (hing)|curry leaves|chana dal (bengal gram dal)|sesame seeds (til seeds)|rice|mustard seeds|fresh coconut|hot water|sunflower oil|mustard seeds|methi seeds (fenugreek seeds)|asafoetida (hing)\n",
      "2864                                                                                                                                                                                                                                                                                                                                        baby potatoes|sunflower oil|tikka masala|fresh cream|kasuri methi (dried fenugreek leaves)|salt|kashmiri dry red chilli|garlic|ginger|coriander powder (dhania)|cumin powder (jeera)|water\n",
      "3100                                                                                                                                                                                                                                                           basmati rice|baby potatoes|onion|tomato|red chilli powder|coriander powder (dhania)|mint leaves (pudina)|coriander (dhania) leaves|green chilli|star anise|bay leaf (tej patta)|cloves (laung)|cardamom (elaichi) pods/seeds|cinnamon stick (dalchini)|lemon juice|salt\n",
      "3615                                                                                                                                                                                                                                                                                                                                                                               baby potatoes|cumin powder (jeera)|black pepper powder|lemon juice|sesame seeds (til seeds)|rock salt|coriander (dhania) leaves|ginger|green chilli\n",
      "3619                                                                                                                                                                                                                                                                                                                     baby potatoes|tomato|cumin powder (jeera)|red chilli powder|coriander powder (dhania)|turmeric powder (haldi)|sunflower oil|salt|cloves (laung)|cardamom (elaichi) pods/seeds|cinnamon stick (dalchini)|water\n",
      "3620                                                                                                                                                                                                                                                                                                                                                                         baby potatoes|green peas (matar)|bay leaf (tej patta)|cardamom (elaichi) pods/seeds|cloves (laung)|fresh cream|salt|onion|cashew nuts|green chilli|ginger\n",
      "3621                                                                                                                                                                                                                                                                                                                                                                                                                                   baby potatoes|red bell pepper (capsicum)|garlic|extra virgin olive oil|salt and pepper|rosemary\n",
      "3622                                                                                                                                                                                                                                                                                                                                                                        baby potatoes|garlic|onion|garlic|tomato|paprika powder|tomato ketchup|classic mayonnaise (with egg)|salt and pepper|parsley leaves|extra virgin olive oil\n",
      "3623                                                                                                                                                                                                                                                                                                                                                                                                baby potatoes|hung curd (greek yogurt)|coriander (dhania) leaves|apple cider vinegar|extra virgin olive oil|red chilli flakes|salt\n",
      "3624                                                                                                                                                                                                                                                                                                                                                                                       penne pasta|baby potatoes|green peas (matar)|classic mayonnaise (with egg)|black pepper powder|iceberg lettuce|lemon|salt|italian seasoning\n",
      "3625                                                                                                                                                                                                                                                                                                                                                                                                                                               baby potatoes|onion|apple|walnuts|dried oregano|red chilli flakes|basil leaves|salt\n",
      "3802                                                                                                                                                                                                                                                                                                                   baby potatoes|sunflower oil|cumin seeds (jeera)|asafoetida (hing)|amchur (dry mango powder)|salt|lemon|coriander (dhania) seeds|dry red chilli|whole black peppercorns|fennel seeds (saunf)|cumin seeds (jeera)\n",
      "3812                                                                                                                                                                                                                                                                                                                                          baby potatoes|turmeric powder (haldi)|coriander powder (dhania)|red chilli powder|sugar|salt|onions|tomato|green chilli|ginger|mustard oil|cumin seeds (jeera)|coriander (dhania) leaves\n",
      "3857                                                                                                                                                                                                                                                                                                                                            baby potatoes|phool makhana (lotus seeds)|cumin seeds (jeera)|fennel seeds (saunf)|green chilli|red chilli powder|turmeric powder (haldi)|coriander powder (dhania)|salt|sunflower oil\n",
      "5418                                                                                                                                                                                                                                                                                                             shrimps|red bell pepper (capsicum)|baby potatoes|broccoli|carrot|onion|garlic|ginger|basmati rice|extra virgin olive oil|black pepper powder|salt|red chilli flakes|corn flour|cabbage (patta gobi/ muttaikose)|honey\n",
      "6808                                                                                                                                                                                                                                                                                         cauliflower (gobi)|baby potatoes|kashmiri red chilli powder|chaat masala powder|cumin seeds (jeera)|turmeric powder (haldi)|green chilli|onion|green bell pepper (capsicum)|lemon|salt|sunflower oil|whole wheat flour|sunflower oil|salt\n",
      "6847                                                                                                                                                                                                                               baby potatoes|sunflower oil|salt|milk|coriander (dhania) leaves|onion|bay leaves (tej patta)|tomato|sunflower oil|dry red chilli|coriander (dhania) seeds|cumin seeds (jeera)|cloves (laung)|poppy seeds|fennel seeds (saunf)|cinnamon stick (dalchini)|whole black peppercorns|dry coconut (kopra)\n",
      "6937                                                                                                                                                                                                                                                                                                   baby potatoes|oil|dry red chilli|cumin seeds (jeera)|curry leaves|coriander powder (dhania)|turmeric powder (haldi)|cumin powder (jeera)|red chilli powder|amchur (dry mango powder)|salt|lemon juice|coriander (dhania) leaves\n",
      "7061                                                                                                                                                                                                                                                                                                                                                                 baby potatoes|onion|green bell pepper (capsicum)|extra virgin olive oil|black pepper powder|classic mayonnaise (with egg)|chilli vinegar|salt|spring onion greens\n",
      "7071                                                                                                                                                                                                                                                                                                                                                                                                                green chilli|baby potatoes|turmeric powder (haldi)|garlic|curry leaves|sunflower oil|gram flour (besan)|rice flour\n",
      "7189                                                                                                                                                                                                                                                                                   baby potatoes|onion|tomato|cumin seeds (jeera)|mustard seeds|jaggery|salt|oil|coriander (dhania) seeds|whole black peppercorns|cinnamon stick (dalchini)|cardamom (elaichi) pods/seeds|cloves (laung)|dry red chilli|fresh coconut|curry leaves\n",
      "7509                                                                                                                                                                                                                                                                                                                                               baby potatoes|cumin seeds (jeera)|salt|red chilli powder|turmeric powder (haldi)|coriander powder (dhania)|ginger|amchur (dry mango powder)|sunflower oil|coriander (dhania) leaves\n",
      "7773                                                                                                                                                                                                                                                                                          fish fillet|prawns|clamps|baby potatoes|carrot|onion|tomato|fresh red chilli|garlic|cumin powder (jeera)|paprika powder|salt|lemon juice|black pepper powder|coriander (dhania) leaves|extra virgin olive oil|chicken stock|coconut milk\n",
      "7824                                                                                                                                                                                                                                                                                       baby potatoes|hung curd (greek yogurt)|gram flour (besan)|ginger|garlic|kasuri methi (dried fenugreek leaves)|turmeric powder (haldi)|chaat masala powder|mint leaves (pudina)|salt|coal|chaat masala powder|mint leaves (pudina)|salt|coal\n",
      "7898                                                                                                                                                                                                                                                                                                                                                                                                  baby potatoes|onion|garlic|mozzarella cheese|paprika powder|mixed herbs (dried)|red chilli flakes|salt|coriander (dhania) leaves\n",
      "7903                                                                                                                                                                                                                                                   baby potatoes|water|salt|sunflower oil|bay leaf (tej patta)|cloves (laung)|cinnamon stick (dalchini)|cardamom (elaichi) pods/seeds|kashmiri red chilli powder|fennel seeds (saunf)|dry ginger powder|black cardamom (badi elaichi)|cumin seeds (jeera)|hung curd (greek yogurt)\n",
      "7958                                                                                                                                                                               baby potatoes|green peas (matar)|carrot|green beans (french beans)|red bell pepper (capsicum)|yellow bell pepper (capsicum)|raisins|tomato|onion|garlic|ginger|red chilli powder|turmeric powder (haldi)|coriander powder (dhania)|cumin powder (jeera)|bay leaves (tej patta)|cashew nuts|fresh cream|coriander (dhania) leaves|salt|sunflower oil\n",
      "Name: ingredients, dtype: object\n"
     ]
    }
   ],
   "source": [
    "#black pepper powder and peppercorns seems consistent. leave it?\n",
    "\n",
    "black_pepper = df[df['ingredients'].str.contains('baby potato')]\n",
    "print (black_pepper['ingredients'])"
   ]
  },
  {
   "cell_type": "code",
   "execution_count": 331,
   "id": "convertible-bride",
   "metadata": {},
   "outputs": [
    {
     "name": "stdout",
     "output_type": "stream",
     "text": [
      "8                                                                                                                    whole wheat flour|sooji (semolina/ rava)|ajwain (carom seeds)|salt|extra virgin olive oil|carrot|green bell pepper (capsicum)|cabbage (patta gobi/ muttaikose)|ginger|garlic|green chilli|spring onion greens|salt|black pepper powder\n",
      "22                                                                                                                                                   brinjal (baingan / eggplant)|green bell pepper (capsicum)|carrot|onion|green chilli|garlic|basil leaves|parsley leaves|extra virgin olive oil|black pepper powder|salt|dried oregano|mozzarella cheese\n",
      "23                                                                                                                 black eyed beans (lobia)|rice|carrot|green beans (french beans)|turmeric powder (haldi)|tomato|bay leaves (tej patta)|cinnamon stick (dalchini)|cardamom (elaichi) pods/seeds|cumin seeds (jeera)|green chilli|mint leaves (pudina)|salt\n",
      "51                                                                                                                                                                             green moong dal (whole)|carrot|fresh coconut|cucumber|tomato|green chilli|lemon|coriander (dhania) leaves|salt|mustard seeds|white urad dal (split)|curry leaves|coconut oil\n",
      "59                                                                                                                                                                                                    cabbage (patta gobi/ muttaikose)|carrot|green bell pepper (capsicum)|red onion|green chilli|vinegar|classic mayonnaise (with egg)|black pepper powder\n",
      "                                                                                                                                                                               ...                                                                                                                                                                         \n",
      "7958    baby potatoes|green peas (matar)|carrot|green beans (french beans)|red bell pepper (capsicum)|yellow bell pepper (capsicum)|raisins|tomato|onion|garlic|ginger|red chilli powder|turmeric powder (haldi)|coriander powder (dhania)|cumin powder (jeera)|bay leaves (tej patta)|cashew nuts|fresh cream|coriander (dhania) leaves|salt|sunflower oil\n",
      "7962                                                                                                                                             couscous|onion|carrot|green peas (matar)|red chilli powder|coriander powder (dhania)|mint leaves (pudina)|bay leaf (tej patta)|cloves (laung)|cinnamon stick (dalchini)|oil|salt|coriander (dhania) leaves\n",
      "7966                                                                                                                                                                                                                                                              red cabbage|carrot|apple|red onion|mint leaves (pudina)|lemon juice|honey|salt and pepper\n",
      "7968                                                                                                                                                             hakka noodles|water|garlic|ginger|fresh red chilli|carrot|red bell pepper (capsicum)|green bell peppers|salt|black pepper powder|spring onion greens|chicken breasts|dry red chilli|garlic\n",
      "8004                                                                                                                                                                                                  spirali pasta|onions|tomato|green zucchini|carrot|green chilli|dried oregano|dried basil leaves|black pepper powder|salt|extra virgin olive oil|sugar\n",
      "Name: ingredients, Length: 685, dtype: object\n"
     ]
    }
   ],
   "source": [
    "#sometimes singular and plural. overwrite all as singular?\n",
    "\n",
    "chilli = df[df['ingredients'].str.contains('carrot')]\n",
    "print (chilli['ingredients'])"
   ]
  },
  {
   "cell_type": "code",
   "execution_count": 330,
   "id": "natural-novel",
   "metadata": {},
   "outputs": [
    {
     "name": "stdout",
     "output_type": "stream",
     "text": [
      "Series([], Name: ingredients, dtype: object)\n"
     ]
    }
   ],
   "source": [
    "#ensuring consistent spelling of tomato and potato\n",
    "\n",
    "potato = df[df['ingredients'].str.contains('gajar')]\n",
    "print (potato['ingredients'])"
   ]
  },
  {
   "cell_type": "code",
   "execution_count": 329,
   "id": "certain-darkness",
   "metadata": {},
   "outputs": [],
   "source": [
    "#saving all as 'chilli' singular\n",
    "\n",
    "df['ingredients'] = df['ingredients'].replace(r'carrot \\(gajjar\\)', 'carrot', regex=True)\n"
   ]
  },
  {
   "cell_type": "code",
   "execution_count": 234,
   "id": "arctic-organ",
   "metadata": {},
   "outputs": [
    {
     "data": {
      "text/plain": [
       "lemons|sugar|salt|red chilli powder                                                                                                                                                                                                              3\n",
       "strawberries|sugar|lemon juice                                                                                                                                                                                                                   3\n",
       "गेहूं का आटा|नमक|तेल|घी                                                                                                                                                                                                                          3\n",
       "आलू|जीरा|सुखी लाल मिर्च|अदरक पाउडर|हल्दी पाउडर|लाल मिर्च पाउडर|गरम मसाला पाउडर|हींग|हरा धनिया                                                                                                                                                    2\n",
       "गवार फली|प्याज|टमाटर|लहसुन|अदरक|धनिया पाउडर|तेल|राइ|जीरा|लाल मिर्च पाउडर|हल्दी पाउडर|हींग|नमक|हरा धनिया                                                                                                                                          2\n",
       "                                                                                                                                                                                                                                                ..\n",
       "बैंगन|बेसन|पानी|हींग|हल्दी पाउडर|लाल मिर्च पाउडर|धनिया पाउडर|जीरा पाउडर|बेकिंग सोडा|नमक|तेल                                                                                                                                                      1\n",
       "gingelly oil|mustard seeds|methi seeds (fenugreek seeds)|asafoetida (hing)|dry red chilli|pearl onions (sambar onions)|curry leaves|urad dal papad|jaggery|turmeric powder (haldi)|water|salt                                                    1\n",
       "all purpose flour (maida)|baking powder|salt|cardamom powder (elaichi)|cinnamon powder (dalchini)|sugar|carrots (gajjar)|sunflower oil|whole eggs|walnuts|dark chocolate                                                                         1\n",
       "चेरी टमाटर|ओलिव का तेल|लहसुन|रोसमैरी|नमक|काली मिर्च पाउडर                                                                                                                                                                                        1\n",
       "masoor dal (whole)|beetroot|onion|garlic|cumin powder (jeera)|coriander powder (dhania)|salt|whole wheat bread crumbs|sunflower oil|extra virgin olive oil|garlic|dried oregano|parsley leaves|red chilli flakes|basil leaves|parmesan cheese    1\n",
       "Name: ingredients, Length: 7953, dtype: int64"
      ]
     },
     "execution_count": 234,
     "metadata": {},
     "output_type": "execute_result"
    }
   ],
   "source": [
    "df['ingredients'].value_counts()"
   ]
  },
  {
   "cell_type": "code",
   "execution_count": 73,
   "id": "quiet-actress",
   "metadata": {},
   "outputs": [
    {
     "name": "stdout",
     "output_type": "stream",
     "text": [
      "78                                                                                                                            pani puris|potato (aloo)|salt|cumin powder (jeera)|chaat masala powder|red chilli powder|mango (raw)|mint leaves (pudina)|cumin powder (jeera)|black salt (kala namak)|black pepper powder|sugar\n",
      "91                                                                                                                                                                                                              bathua leaves|green chilli|ginger|black salt (kala namak)|cumin powder (jeera)|black pepper powder|cooking oil\n",
      "302                                                                                                                                                                  gram flour (besan)|whole wheat flour|green chilli|onion|ginger|turmeric powder (haldi)|whole black peppercorns|black salt (kala namak)|salt|sunflower oil\n",
      "395                          arhar dal (split toor dal)|green moong dal (whole)|onion|tomato|garlic|ginger|green chilli|cumin powder (jeera)|coriander powder (dhania)|red chilli powder|turmeric powder (haldi)|black salt (kala namak)|salt|oil|cumin seeds (jeera)|dry red chilli|garlic|coriander (dhania) leaves|charcoal\n",
      "473     all purpose flour (maida)|ajwain (carom seeds)|salt|oil|potatoes (aloo)|green peas (matar)|roasted peanuts (moongphali)|ginger|cumin seeds (jeera)|fennel seeds (saunf)|turmeric powder (haldi)|red chilli powder|chaat masala powder|amchur (dry mango powder)|black salt (kala namak)|salt|coriander (dhania) leaves\n",
      "                                                                                                                                                                 ...                                                                                                                                                          \n",
      "7471                                                                                                                        pani puris|potato (aloo)|salt|chaat masala powder|cumin powder (jeera)|red chilli powder|pineapple|green chilli|chaat masala powder|cumin powder (jeera)|sugar|black salt (kala namak)|lemon juice\n",
      "7501                                                                                                                                                                   mango (raw)|kiwi|mint leaves (pudina)|sugar|cumin powder (jeera)|black salt (kala namak)|black pepper powder|green chilli|chaat masala powder|ice cubes\n",
      "7795                                                                                                                                             hung curd (greek yogurt)|green chilli|black salt (kala namak)|cumin powder (jeera)|salt|saffron strands|gram flour (besan)|coriander (dhania) leaves|whole wheat bread crumbs\n",
      "7825                                                                                                        oil|onion|potato (aloo)|tomatoes|ginger|green chilli|pav bhaji masala|cumin powder (jeera)|red chilli powder|chaat masala powder|black salt (kala namak)|salt|lemon juice|namak para|sev|coriander (dhania) leaves\n",
      "8007                                                                                                                                                                                       beetroot|amla (nellikai/ gooseberry)|mint leaves (pudina)|cucumber|black pepper powder|cumin powder (jeera)|black salt (kala namak)\n",
      "Name: ingredients, Length: 90, dtype: object\n"
     ]
    }
   ],
   "source": [
    "salt = df[df['ingredients'].str.contains('black salt')]\n",
    "print (salt['ingredients'])"
   ]
  },
  {
   "cell_type": "code",
   "execution_count": 223,
   "id": "hairy-brunei",
   "metadata": {},
   "outputs": [
    {
     "name": "stdout",
     "output_type": "stream",
     "text": [
      "1                                                                                                                                                    sesame (gingelly) oil|mustard seeds|curry leaves|garlic|pearl onions (sambar onions)|tomatoes|tamarind|turmeric powder (haldi)|salt|jaggery\n",
      "3                                                                                                                                                  arhar dal (split toor dal)|turmeric powder (haldi)|salt|dry red chilli|mustard seeds|asafoetida (hing)|curry leaves|coriander (dhania) leaves\n",
      "7                                                                                                         avarekalu / lilva beans|rice|turmeric powder (haldi)|asafoetida (hing)|green chilli|curry leaves|mustard seeds|white urad dal (split)|lemon juice|coriander (dhania) leaves|onion|salt\n",
      "16                                                                                                                          kaddu (parangikai/ pumpkin)|turmeric powder (haldi)|salt|fresh coconut|cumin seeds (jeera)|green chilli|oil|mustard seeds|curry leaves|dry red chilli|dry red chilli\n",
      "17                                   bhindi (lady finger/okra)|gram flour (besan)|red chilli powder|turmeric powder (haldi)|coriander powder (dhania)|amchur (dry mango powder)|salt|water|oil|cumin seeds (jeera)|mustard seeds|asafoetida (hing)|green chilli|onions|coriander (dhania) leaves\n",
      "                                                                                                                                                  ...                                                                                                                                           \n",
      "8002    small brinjal (baingan / eggplant)|mustard seeds|oil|onion|green chilli|garlic|curry leaves|tomatoes|turmeric powder (haldi)|red chilli powder|salt|coriander (dhania) leaves|gram flour (besan)|rice flour|salt|turmeric powder (haldi)|red chilli powder|garlic|green chilli|onion|oil\n",
      "8003     bhindi (lady finger/okra)|salt|sunflower oil|fresh coconut|methi seeds (fenugreek seeds)|cumin (jeera) seeds|dry red chilli|coriander (dhania) seeds|sesame seeds (til seeds)|rice|garlic|turmeric powder (haldi)|jaggery|water|sunflower oil|mustard seeds|dry red chilli|curry leaves\n",
      "8005                                                                                   arhar dal (split toor dal)|tomato|turmeric powder (haldi)|red chilli powder|garlic|ginger|green chilli|oil|mustard seeds|cumin seeds (jeera)|dry red chilli|curry leaves|garlic|coriander (dhania) leaves\n",
      "8006                                                                                                                                         turmeric powder (haldi)|sugar|salt|fresh coconut|dry red chilli|coriander (dhania) seeds|sunflower oil|mustard seeds|asafoetida (hing)|curry leaves\n",
      "8008                                            cauliflower (gobi)|pearl onions (sambar onions)|garlic|turmeric powder (haldi)|black pepper powder|red chilli powder|cinnamon powder (dalchini)|cloves (laung)|coriander powder (dhania)|salt|mustard seeds|cumin seeds (jeera)|curry leaves|oil\n",
      "Name: ingredients, Length: 1230, dtype: object\n"
     ]
    }
   ],
   "source": [
    "mustard = df[df['ingredients'].str.contains('mustard seeds')]\n",
    "print (mustard['ingredients'])"
   ]
  },
  {
   "cell_type": "code",
   "execution_count": 221,
   "id": "based-preview",
   "metadata": {},
   "outputs": [],
   "source": [
    "#setting all mustard seeds without the info in brackets..... need an escape character with every weird character that Python doesnt like!\n",
    "\n",
    "df['ingredients'] = df['ingredients'].replace(r'mustard seeds \\(rai\\/ kadugu\\)', 'mustard seeds', regex=True)"
   ]
  },
  {
   "cell_type": "code",
   "execution_count": 143,
   "id": "opposite-bottom",
   "metadata": {},
   "outputs": [],
   "source": [
    "df2 = df['ingredients'].apply(lambda x: x.split('seeds')[0])"
   ]
  },
  {
   "cell_type": "code",
   "execution_count": 147,
   "id": "cleared-hacker",
   "metadata": {},
   "outputs": [
    {
     "data": {
      "text/plain": [
       "0                                                                                                                                                                                                                   tortillas|extra virgin olive oil|garlic|mozzarella cheese|red yellow or green bell pepper (capsicum)|onions|kalmatta olives|button mushrooms\n",
       "1                                                                                                                                                                                                                                                                                                                                 sesame (gingelly) oil|mustard \n",
       "2                                                                                                                                                                     extra virgin olive oil|pineapple|white onion|red yellow and green bell peppers (capsicum)|pickled jalapenos|coriander (dhania) leaves|mint leaves (pudina)|salt|lemon juice|paprika powder\n",
       "3                                                                                                                                                                                                                                                                                arhar dal (split toor dal)|turmeric powder (haldi)|salt|dry red chilli|mustard \n",
       "4                                                                                                                                                                                                                                                                                rajma (large kidney beans)|cashew nuts|sultana raisins|asafoetida (hing)|cumin \n",
       "5                                                                                                                                                                                                                                                                                              barnyard millet|oil|bay leaf (tej patta)|cardamom (elaichi) pods/\n",
       "6                                                                                                                                                                                                                                                                          coriander (dhania) leaves|tahini|lemon juice|extra virgin olive oil|honey|ginger|salt\n",
       "7                                                                                                                                                                                                                                                      avarekalu / lilva beans|rice|turmeric powder (haldi)|asafoetida (hing)|green chilli|curry leaves|mustard \n",
       "8                                                                                                                                                                                                                                                                                                        whole wheat flour|sooji (semolina/ rava)|ajwain (carom \n",
       "9                                                                                                                                                                                                                   butter (unsalted)|caster sugar|whole eggs|all purpose flour (maida)|salt|baking powder|canned pineapple (preserved & tinned)|canned cherries\n",
       "10                                                                            cashew nuts|onions|ginger|garlic|green chilli|green peas (matar)|butter (salted)|bay leaf (tej patta)|turmeric powder (haldi)|kashmiri red chilli powder|coriander powder (dhania)|salt|tomatoes|sugar|fresh cream|kasuri methi (dried fenugreek leaves)|coriander (dhania) leaves\n",
       "11                                                                                  butter (salted)|garlic|green chilli|onion|green capsicum|cooked rice|sweet corn|all purpose flour (maida)|mint leaves (pudina)|mozzarella cheese|black pepper powder|oil|salt|all purpose flour (maida)|water|whole wheat bread crumbs|mixed herbs (dried)|red chilli flakes\n",
       "12                                                                                                                                                                                                                                                   shrimps|butter (salted)|orange color|lemon juice|honey|black pepper powder|garlic|ginger|fresh thyme leaves\n",
       "13                                                                                                                                                                                                                                            oil|kokum (malabar tamarind)|green chilli|jaggery|salt|coriander (dhania) leaves|fresh coconut|onion|garlic|cumin \n",
       "14                                                                                                                                                                                                                                                                                                                                          ripe bananas|sesame \n",
       "15                                                                                                                                                                                 mango (ripe)|tomato|onion|rajma (large kidney beans)|pickled jalapenos|mint leaves (pudina)|lemon juice|coriander (dhania) leaves|salt|cumin powder (jeera)|red chilli powder\n",
       "16                                                                                                                                                                                                                                                                                 kaddu (parangikai/ pumpkin)|turmeric powder (haldi)|salt|fresh coconut|cumin \n",
       "17                                                                                                                                                                                              bhindi (lady finger/okra)|gram flour (besan)|red chilli powder|turmeric powder (haldi)|coriander powder (dhania)|amchur (dry mango powder)|salt|water|oil|cumin \n",
       "18                                                                                                                                                                                                                                                                        green moong dal (whole)|yellow moong dal (split)|pearl onions (sambar onions)|mustard \n",
       "19                                                                                                                                                                                                                                                                                                                          raw banana|green peas (matar)|cumin \n",
       "20                                                                                                                                                                                           extra virgin olive oil|chicken breasts|spaghetti pasta|basil leaves|walnuts|parmesan cheese|garlic|extra virgin olive oil|salt|whole black pepper corns|lemon juice\n",
       "21                                                                                                                                                                                                                                                                                                                          tomatoes|onions|khoya (mawa)|sesame \n",
       "22                                                                                                                                               brinjal (baingan / eggplant)|green bell pepper (capsicum)|carrot (gajjar)|onion|green chilli|garlic|basil leaves|parsley leaves|extra virgin olive oil|black pepper powder|salt|dried oregano|mozzarella cheese\n",
       "23                                                                                                                                                                          black eyed beans (lobia)|rice|carrots (gajjar)|green beans (french beans)|turmeric powder (haldi)|tomatoes|bay leaves (tej patta)|cinnamon stick (dalchini)|cardamom (elaichi) pods/\n",
       "24                                                                                                                                                                                                                                              small brinjal (baingan / eggplant)|turmeric powder (haldi)|red chilli powder|jaggery|tomatoes|salt|black sesame \n",
       "25                                                                                                                                                                                                                                                               raw banana|coconut oil|salt|garlic|ginger|green chilli|curry leaves|black pepper corns|tamarind\n",
       "26                                                                                                                                                                                   kabuli chana (white chickpeas)|gram flour (besan)|garlic|onion|cumin powder (jeera)|coriander (dhania) powder|black pepper powder|red chilli powder|salt|parsley leaves|oil\n",
       "27                                                                                                                                                                                                                   ragi flour (finger millet/ nagli)|whole wheat flour|green chilli|ginger|drumstick leaves (moringa/murungai keerai)|black pepper powder|salt\n",
       "28                                                                                                                                                                                                                                                                                                            chana dal (bengal gram dal)|dry red chilli|fennel \n",
       "29                                                                                                                                                                                                                                                                                                                           onions|tomato|green chilli|mustard \n",
       "30                                                                                                                     brinjal (baingan / eggplant)|potato (aloo)|onion|fresh coconut|turmeric powder (haldi)|tamarind|garlic|ginger|jaggery|gram flour (besan)|coriander (dhania) leaves|salt|cloves (laung)|cinnamon stick (dalchini)|cardamom (elaichi) pods/\n",
       "31                                                                                                                                                                                                                                   all purpose flour (maida)|caster sugar|cinnamon powder (dalchini)|baking powder|butter (unsalted)|sultana raisins|whole egg\n",
       "32                                                                                                                                                         makki ka atta (yellow corn meal flour)|milk|water|whole black peppercorns|extra virgin olive oil|salt|red yellow and green bell peppers (capsicum)|button mushrooms|mixed herbs (dried)|onions|cheese\n",
       "33                                                                                                                                                                            all purpose flour (maida)|buttermilk|salt|butter (unsalted)|lukewarm water|caster sugar|butter (unsalted)|cinnamon powder (dalchini)|caster sugar|milk|icing sugar|vanilla extract\n",
       "34                                                                                                                                                                                                       sabudana (tapioca pearls)|shallots|mixed vegetables|coriander (dhania) leaves|coriander (dhania) leaves|black pepper powder|garlic|oil|water|garlic|oil\n",
       "35                                                                                                                                                                                                                                                                                      fresh coconut|whole black peppercorns|dry red chilli|coriander (dhania) \n",
       "36                                                                                                chipotle peppers|onion|garlic|tomatoes|raw peanuts (moongphali)|star anise|cinnamon stick (dalchini)|cloves (laung)|dark chocolate|dried oregano|black pepper powder|sultana raisins|makki ka atta (yellow corn meal flour)|butter (salted)|chicken stock|salt\n",
       "37                                                                                                                                                                            whole eggs|green capsicum|onion|britannia cheese block|whole eggs|salt|black pepper powder|milk|avocado|onion|tomato|green chilli|salt|coriander (dhania) leaves|lemon juice|sugar\n",
       "38                                                                                                tofu|sesame (gingelly) oil|brown sugar (demerara sugar)|dried basil leaves|garlic powder|cayenne pepper|coconut milk|ginger|garlic|peanut butter|turmeric powder (haldi)|lemon juice|brown sugar (demerara sugar)|iceberg lettuce|roasted peanuts (moongphali)\n",
       "39                                                                                                                                                                                                                             mutton|salt|lemon juice|turmeric powder (haldi)|onions|garlic|ginger|cloves (laung)|bay leaf (tej patta)|cardamom (elaichi) pods/\n",
       "40                                                                                                                                                                                                                                                       avarekalu / lilva beans|tomatoes|fresh coconut|jaggery|turmeric powder (haldi)|salt|coriander (dhania) \n",
       "41                                                                                                                                 french loaf|butter (salted)|extra virgin olive oil|red yellow and green bell peppers (capsicum)|sweet corn|pickled jalapenos|basil leaves|salt|mozzarella cheese|mixed herbs (dried)|red chilli flakes|garlic bread spice mix\n",
       "42                                                                                                                                                                                                     cashew nuts|tomato|green bell pepper (capsicum)|turmeric powder (haldi)|oil|coriander (dhania) leaves|salt|fresh coconut|onion|garlic|coriander (dhania) \n",
       "43                                                                                                                                                                                                                                                                                                                                                        methi \n",
       "44                                                                                                                                                                                                                                                                                rice|yellow moong dal (split)|turmeric powder (haldi)|cardamom (elaichi) pods/\n",
       "45                                                                                                                                                                                                                                              vellai poosanikai (ash gourd/white pumpkin)|turmeric powder (haldi)|salt|oil|dry red chilli|fresh coconut|methi \n",
       "46                                                                                                                                                                                                                                                bajra flour ( pearl millet)|whole wheat flour|methi leaves (fenugreek leaves)|garlic|red chilli powder|sesame \n",
       "47                                                                                                                                                                                                                                                                                                                  bhindi (lady finger/okra)|oil|ajwain (carom \n",
       "48    whole egg|mutton|ginger|garlic|coriander powder (dhania)|turmeric powder (haldi)|kashmiri red chilli powder|corn flour|mustard oil|salt|onion|turmeric powder (haldi)|green chilli paste|red chilli powder|garlic|ginger|coriander powder (dhania)|cumin powder (jeera)|kasuri methi (dried fenugreek leaves)|bay leaf (tej patta)|dry red chilli|salt|oil\n",
       "49                                                                                                                                                                                                  tofu|orange zest (rind)|corn flour|whole black peppercorns|rice vinegar|brown sugar (demerara sugar)|fresh orange juice|ginger|sesame (gingelly) oil|sesame \n",
       "Name: ingredients, dtype: object"
      ]
     },
     "execution_count": 147,
     "metadata": {},
     "output_type": "execute_result"
    }
   ],
   "source": [
    "df2.head(50)"
   ]
  },
  {
   "cell_type": "code",
   "execution_count": 224,
   "id": "proved-tanzania",
   "metadata": {},
   "outputs": [],
   "source": [
    "from collections import Counter"
   ]
  },
  {
   "cell_type": "code",
   "execution_count": 225,
   "id": "objective-desert",
   "metadata": {},
   "outputs": [],
   "source": [
    "all_ingredients = str(df['ingredients'])\n",
    "\n",
    "split_it = all_ingredients.split()"
   ]
  },
  {
   "cell_type": "code",
   "execution_count": 226,
   "id": "oriental-essay",
   "metadata": {},
   "outputs": [
    {
     "name": "stdout",
     "output_type": "stream",
     "text": [
      "[('powder', 9), ('(dhania)', 5), ('leaves', 5), ('pepper', 4), ('virgin', 3), ('olive', 3), ('red', 3), ('seeds', 3), ('chilli', 3), ('yellow', 2)]\n"
     ]
    }
   ],
   "source": [
    "Counter2 = Counter(split_it)\n",
    "most_occur = Counter2.most_common(10)\n",
    "print(most_occur)"
   ]
  },
  {
   "cell_type": "code",
   "execution_count": 162,
   "id": "surrounded-edition",
   "metadata": {},
   "outputs": [
    {
     "ename": "TypeError",
     "evalue": "'Counter' object is not callable",
     "output_type": "error",
     "traceback": [
      "\u001b[0;31m---------------------------------------------------------------------------\u001b[0m",
      "\u001b[0;31mTypeError\u001b[0m                                 Traceback (most recent call last)",
      "\u001b[0;32m<ipython-input-162-c1570df7867b>\u001b[0m in \u001b[0;36m<module>\u001b[0;34m\u001b[0m\n\u001b[0;32m----> 1\u001b[0;31m \u001b[0mCounter\u001b[0m\u001b[0;34m(\u001b[0m\u001b[0msplit_it\u001b[0m\u001b[0;34m)\u001b[0m\u001b[0;34m\u001b[0m\u001b[0;34m\u001b[0m\u001b[0m\n\u001b[0m",
      "\u001b[0;31mTypeError\u001b[0m: 'Counter' object is not callable"
     ]
    }
   ],
   "source": [
    "Counter(split_it)"
   ]
  },
  {
   "cell_type": "code",
   "execution_count": 237,
   "id": "flush-cincinnati",
   "metadata": {},
   "outputs": [
    {
     "data": {
      "text/html": [
       "<div>\n",
       "<style scoped>\n",
       "    .dataframe tbody tr th:only-of-type {\n",
       "        vertical-align: middle;\n",
       "    }\n",
       "\n",
       "    .dataframe tbody tr th {\n",
       "        vertical-align: top;\n",
       "    }\n",
       "\n",
       "    .dataframe thead th {\n",
       "        text-align: right;\n",
       "    }\n",
       "</style>\n",
       "<table border=\"1\" class=\"dataframe\">\n",
       "  <thead>\n",
       "    <tr style=\"text-align: right;\">\n",
       "      <th></th>\n",
       "      <th>recipe_title</th>\n",
       "      <th>url</th>\n",
       "      <th>vote_count</th>\n",
       "      <th>rating</th>\n",
       "      <th>cuisine</th>\n",
       "      <th>course</th>\n",
       "      <th>diet</th>\n",
       "      <th>prep_time</th>\n",
       "      <th>cook_time</th>\n",
       "      <th>ingredients</th>\n",
       "      <th>author</th>\n",
       "      <th>tags</th>\n",
       "      <th>category</th>\n",
       "    </tr>\n",
       "  </thead>\n",
       "  <tbody>\n",
       "    <tr>\n",
       "      <th>0</th>\n",
       "      <td>Roasted Peppers And Mushroom Tortilla Pizza Recipe</td>\n",
       "      <td>https://www.archanaskitchen.com/roasted-peppers-and-mushroom-tortilla-pizza-recipe</td>\n",
       "      <td>434</td>\n",
       "      <td>4.958525</td>\n",
       "      <td>Mexican</td>\n",
       "      <td>Dinner</td>\n",
       "      <td>Vegetarian</td>\n",
       "      <td>15.0</td>\n",
       "      <td>15.0</td>\n",
       "      <td>tortillas|extra virgin olive oil|garlic|mozzarella cheese|red yellow or green bell pepper (capsicum)|onions|kalmatta olives|button mushrooms</td>\n",
       "      <td>Divya Shivaraman</td>\n",
       "      <td>Party Food Recipes|Tea Party Recipes|Mushroom Recipes|Fusion Recipes|Tortilla Recipe|Bell Peppers Recipes</td>\n",
       "      <td>Pizza Recipes</td>\n",
       "    </tr>\n",
       "    <tr>\n",
       "      <th>1</th>\n",
       "      <td>Thakkali Gotsu Recipe | Thakkali Curry | Spicy &amp; Tangy Tomato Gravy</td>\n",
       "      <td>https://www.archanaskitchen.com/tomato-gotsu-recipe-spicy-tangy-tomato-gravy</td>\n",
       "      <td>3423</td>\n",
       "      <td>4.932223</td>\n",
       "      <td>South Indian Recipes</td>\n",
       "      <td>Lunch</td>\n",
       "      <td>Vegetarian</td>\n",
       "      <td>10.0</td>\n",
       "      <td>20.0</td>\n",
       "      <td>sesame (gingelly) oil|mustard seeds|curry leaves|garlic|pearl onions (sambar onions)|tomatoes|tamarind|turmeric powder (haldi)|salt|jaggery</td>\n",
       "      <td>Archana Doshi</td>\n",
       "      <td>Vegetarian Recipes|Tomato Recipes|South Indian Recipes|Breakfast Recipe Ideas</td>\n",
       "      <td>Indian Curry Recipes</td>\n",
       "    </tr>\n",
       "    <tr>\n",
       "      <th>2</th>\n",
       "      <td>Spicy Grilled Pineapple Salsa Recipe</td>\n",
       "      <td>https://www.archanaskitchen.com/spicy-grilled-pineapple-salsa-recipe</td>\n",
       "      <td>2091</td>\n",
       "      <td>4.945959</td>\n",
       "      <td>Mexican</td>\n",
       "      <td>Side Dish</td>\n",
       "      <td>Vegetarian</td>\n",
       "      <td>10.0</td>\n",
       "      <td>0.0</td>\n",
       "      <td>extra virgin olive oil|pineapple|white onion|red yellow and green bell peppers (capsicum)|pickled jalapenos|coriander (dhania) leaves|mint leaves (pudina)|salt|lemon juice|paprika powder</td>\n",
       "      <td>Archana's Kitchen</td>\n",
       "      <td>Party Starter &amp; Appetizer Recipes|Pineapple Recipes|Salsa Recipes</td>\n",
       "      <td>Mexican Recipes</td>\n",
       "    </tr>\n",
       "    <tr>\n",
       "      <th>3</th>\n",
       "      <td>Karwar Style Dali Thoy Recipe - Toor dal Curry</td>\n",
       "      <td>https://www.archanaskitchen.com/dali-thoy-recipe-karwar-style-toor-dal-curry</td>\n",
       "      <td>990</td>\n",
       "      <td>4.888889</td>\n",
       "      <td>Coastal Karnataka</td>\n",
       "      <td>Side Dish</td>\n",
       "      <td>High Protein Vegetarian</td>\n",
       "      <td>5.0</td>\n",
       "      <td>20.0</td>\n",
       "      <td>arhar dal (split toor dal)|turmeric powder (haldi)|salt|dry red chilli|mustard seeds|asafoetida (hing)|curry leaves|coriander (dhania) leaves</td>\n",
       "      <td>Jyothi Rajesh</td>\n",
       "      <td>Side Dish Recipes|South Indian Recipes|Indian Lunch Recipes|Indian Vegetarian Recipes|Toor Dal Recipes (Pigeon Pea)</td>\n",
       "      <td>Indian Curry Recipes</td>\n",
       "    </tr>\n",
       "    <tr>\n",
       "      <th>4</th>\n",
       "      <td>Rajma Kofta In Milk And Poppy Seed Gravy Recipe</td>\n",
       "      <td>https://www.archanaskitchen.com/rajma-kofta-in-milk-and-poppy-seed-gravy-recipe</td>\n",
       "      <td>345</td>\n",
       "      <td>4.828986</td>\n",
       "      <td>North Indian Recipes</td>\n",
       "      <td>Side Dish</td>\n",
       "      <td>High Protein Vegetarian</td>\n",
       "      <td>20.0</td>\n",
       "      <td>30.0</td>\n",
       "      <td>rajma (large kidney beans)|cashew nuts|sultana raisins|asafoetida (hing)|cumin seeds (jeera)|gram flour (besan)|red chilli powder|coriander (dhania) leaves|poppy seeds|fresh cream|milk|water|salt|saffron strands</td>\n",
       "      <td>RUBY PATHAK</td>\n",
       "      <td>Side Dish Recipes|Indian Lunch Recipes|Office Lunch Box Recipes|Rajma Kidney Bean Recipes|Poppy Seeds Recipes</td>\n",
       "      <td>Kofta Recipes</td>\n",
       "    </tr>\n",
       "    <tr>\n",
       "      <th>5</th>\n",
       "      <td>Barnyard Millet Mushroom Biryani Recipe</td>\n",
       "      <td>https://www.archanaskitchen.com/barnyard-millet-mushroom-biriyani-recipe</td>\n",
       "      <td>2088</td>\n",
       "      <td>4.903736</td>\n",
       "      <td>Indian</td>\n",
       "      <td>Lunch</td>\n",
       "      <td>Vegetarian</td>\n",
       "      <td>10.0</td>\n",
       "      <td>30.0</td>\n",
       "      <td>barnyard millet|oil|bay leaf (tej patta)|cardamom (elaichi) pods/seeds|cloves (laung)|cinnamon stick (dalchini)|star anise|curry leaves|green chilli|garlic|ginger|onions|button mushrooms|salt|coriander (dhania) powder|black pepper powder|coriander (dhania) leaves|mint leaves (pudina)</td>\n",
       "      <td>Archana's Kitchen</td>\n",
       "      <td>Vegetarian Recipes|Indian Lunch Recipes|Office Lunch Box Recipes|Healthy Recipes|Mushroom Recipes|Millet Recipes|Barnyard Millet (Sama) Recipes</td>\n",
       "      <td>Biryani Recipes</td>\n",
       "    </tr>\n",
       "    <tr>\n",
       "      <th>6</th>\n",
       "      <td>Mexican Green Sauce Recipe</td>\n",
       "      <td>https://www.archanaskitchen.com/mexican-green-sauce-recipe</td>\n",
       "      <td>506</td>\n",
       "      <td>4.956522</td>\n",
       "      <td>Mexican</td>\n",
       "      <td>Side Dish</td>\n",
       "      <td>Vegetarian</td>\n",
       "      <td>10.0</td>\n",
       "      <td>0.0</td>\n",
       "      <td>coriander (dhania) leaves|tahini|lemon juice|extra virgin olive oil|honey|ginger|salt</td>\n",
       "      <td>Archana's Kitchen</td>\n",
       "      <td>Side Dish Recipes|Party Starter &amp; Appetizer Recipes|Coriander Recipes|Tahini Recipes</td>\n",
       "      <td>Homemade Jams, Sauce &amp; Pesto Recipes</td>\n",
       "    </tr>\n",
       "    <tr>\n",
       "      <th>7</th>\n",
       "      <td>Karnataka Style Avarekalu Chitranna Recipe (Field Beans Tossed With Lemon Rice)</td>\n",
       "      <td>https://www.archanaskitchen.com/karnataka-style-avarekalu-chitranna-recipe-field-beans-tossed-with-lemon-rice</td>\n",
       "      <td>808</td>\n",
       "      <td>4.865099</td>\n",
       "      <td>Karnataka</td>\n",
       "      <td>South Indian Breakfast</td>\n",
       "      <td>Vegetarian</td>\n",
       "      <td>10.0</td>\n",
       "      <td>30.0</td>\n",
       "      <td>avarekalu / lilva beans|rice|turmeric powder (haldi)|asafoetida (hing)|green chilli|curry leaves|mustard seeds|white urad dal (split)|lemon juice|coriander (dhania) leaves|onion|salt</td>\n",
       "      <td>Archana's Kitchen</td>\n",
       "      <td>South Indian Recipes|Indian Lunch Recipes|Festival Recipes|Ganesh Chaturthi Recipes|Lemon Recipes|Dussehra Festival Recipes|Avarakkai Recipes (Broad Bean)</td>\n",
       "      <td>Variety Rice (Mixed Rice/ Flavoured Rice Recipes)</td>\n",
       "    </tr>\n",
       "    <tr>\n",
       "      <th>8</th>\n",
       "      <td>Schezwan Style Chinese Veg Samosa Recipe - Roz Ka Khana with Figaro Olive Oil</td>\n",
       "      <td>https://www.archanaskitchen.com/schezwan-style-chinese-veg-samosa-recipe-roz-ka-khana-with-figaro-olive-oil</td>\n",
       "      <td>699</td>\n",
       "      <td>4.931330</td>\n",
       "      <td>North Indian Recipes</td>\n",
       "      <td>Snack</td>\n",
       "      <td>Vegetarian</td>\n",
       "      <td>10.0</td>\n",
       "      <td>45.0</td>\n",
       "      <td>whole wheat flour|sooji (semolina/ rava)|ajwain (carom seeds)|salt|extra virgin olive oil|carrot (gajjar)|green bell pepper (capsicum)|cabbage (patta gobi/ muttaikose)|ginger|garlic|green chilli|spring onion greens|salt|black pepper powder</td>\n",
       "      <td>Archana Doshi</td>\n",
       "      <td>Tea Party Recipes|Party Starter &amp; Appetizer Recipes|Sooji Recipes (Rava/ Semolina)|Cabbage Recipes (Patta Gobi)|Samosa Recipe|Fusion Recipes</td>\n",
       "      <td>Indian Chinese Recipes</td>\n",
       "    </tr>\n",
       "    <tr>\n",
       "      <th>9</th>\n",
       "      <td>Pineapple Upside Down Cake Recipe</td>\n",
       "      <td>https://www.archanaskitchen.com/pineapple-upside-down-cake</td>\n",
       "      <td>2066</td>\n",
       "      <td>4.782188</td>\n",
       "      <td>Continental</td>\n",
       "      <td>Dessert</td>\n",
       "      <td>Vegetarian</td>\n",
       "      <td>20.0</td>\n",
       "      <td>40.0</td>\n",
       "      <td>butter (unsalted)|caster sugar|whole eggs|all purpose flour (maida)|salt|baking powder|canned pineapple (preserved &amp; tinned)|canned cherries</td>\n",
       "      <td>Archana Doshi</td>\n",
       "      <td>Party Food Recipes|Tea Party Recipes|Birthday Party Cakes|Pineapple Recipes|Birthday Party Recipes</td>\n",
       "      <td>Cake Recipes</td>\n",
       "    </tr>\n",
       "  </tbody>\n",
       "</table>\n",
       "</div>"
      ],
      "text/plain": [
       "                                                                      recipe_title  \\\n",
       "0                               Roasted Peppers And Mushroom Tortilla Pizza Recipe   \n",
       "1              Thakkali Gotsu Recipe | Thakkali Curry | Spicy & Tangy Tomato Gravy   \n",
       "2                                             Spicy Grilled Pineapple Salsa Recipe   \n",
       "3                                   Karwar Style Dali Thoy Recipe - Toor dal Curry   \n",
       "4                                  Rajma Kofta In Milk And Poppy Seed Gravy Recipe   \n",
       "5                                          Barnyard Millet Mushroom Biryani Recipe   \n",
       "6                                                      Mexican Green Sauce Recipe    \n",
       "7  Karnataka Style Avarekalu Chitranna Recipe (Field Beans Tossed With Lemon Rice)   \n",
       "8    Schezwan Style Chinese Veg Samosa Recipe - Roz Ka Khana with Figaro Olive Oil   \n",
       "9                                                Pineapple Upside Down Cake Recipe   \n",
       "\n",
       "                                                                                                             url  \\\n",
       "0                             https://www.archanaskitchen.com/roasted-peppers-and-mushroom-tortilla-pizza-recipe   \n",
       "1                                   https://www.archanaskitchen.com/tomato-gotsu-recipe-spicy-tangy-tomato-gravy   \n",
       "2                                           https://www.archanaskitchen.com/spicy-grilled-pineapple-salsa-recipe   \n",
       "3                                   https://www.archanaskitchen.com/dali-thoy-recipe-karwar-style-toor-dal-curry   \n",
       "4                                https://www.archanaskitchen.com/rajma-kofta-in-milk-and-poppy-seed-gravy-recipe   \n",
       "5                                       https://www.archanaskitchen.com/barnyard-millet-mushroom-biriyani-recipe   \n",
       "6                                                     https://www.archanaskitchen.com/mexican-green-sauce-recipe   \n",
       "7  https://www.archanaskitchen.com/karnataka-style-avarekalu-chitranna-recipe-field-beans-tossed-with-lemon-rice   \n",
       "8    https://www.archanaskitchen.com/schezwan-style-chinese-veg-samosa-recipe-roz-ka-khana-with-figaro-olive-oil   \n",
       "9                                                     https://www.archanaskitchen.com/pineapple-upside-down-cake   \n",
       "\n",
       "   vote_count    rating               cuisine                  course  \\\n",
       "0         434  4.958525               Mexican                  Dinner   \n",
       "1        3423  4.932223  South Indian Recipes                   Lunch   \n",
       "2        2091  4.945959               Mexican               Side Dish   \n",
       "3         990  4.888889     Coastal Karnataka               Side Dish   \n",
       "4         345  4.828986  North Indian Recipes               Side Dish   \n",
       "5        2088  4.903736                Indian                   Lunch   \n",
       "6         506  4.956522               Mexican               Side Dish   \n",
       "7         808  4.865099             Karnataka  South Indian Breakfast   \n",
       "8         699  4.931330  North Indian Recipes                   Snack   \n",
       "9        2066  4.782188           Continental                 Dessert   \n",
       "\n",
       "                      diet  prep_time  cook_time  \\\n",
       "0               Vegetarian       15.0       15.0   \n",
       "1               Vegetarian       10.0       20.0   \n",
       "2               Vegetarian       10.0        0.0   \n",
       "3  High Protein Vegetarian        5.0       20.0   \n",
       "4  High Protein Vegetarian       20.0       30.0   \n",
       "5               Vegetarian       10.0       30.0   \n",
       "6               Vegetarian       10.0        0.0   \n",
       "7               Vegetarian       10.0       30.0   \n",
       "8               Vegetarian       10.0       45.0   \n",
       "9               Vegetarian       20.0       40.0   \n",
       "\n",
       "                                                                                                                                                                                                                                                                                    ingredients  \\\n",
       "0                                                                                                                                                  tortillas|extra virgin olive oil|garlic|mozzarella cheese|red yellow or green bell pepper (capsicum)|onions|kalmatta olives|button mushrooms   \n",
       "1                                                                                                                                                   sesame (gingelly) oil|mustard seeds|curry leaves|garlic|pearl onions (sambar onions)|tomatoes|tamarind|turmeric powder (haldi)|salt|jaggery   \n",
       "2                                                                                                    extra virgin olive oil|pineapple|white onion|red yellow and green bell peppers (capsicum)|pickled jalapenos|coriander (dhania) leaves|mint leaves (pudina)|salt|lemon juice|paprika powder   \n",
       "3                                                                                                                                                 arhar dal (split toor dal)|turmeric powder (haldi)|salt|dry red chilli|mustard seeds|asafoetida (hing)|curry leaves|coriander (dhania) leaves   \n",
       "4                                                                           rajma (large kidney beans)|cashew nuts|sultana raisins|asafoetida (hing)|cumin seeds (jeera)|gram flour (besan)|red chilli powder|coriander (dhania) leaves|poppy seeds|fresh cream|milk|water|salt|saffron strands   \n",
       "5  barnyard millet|oil|bay leaf (tej patta)|cardamom (elaichi) pods/seeds|cloves (laung)|cinnamon stick (dalchini)|star anise|curry leaves|green chilli|garlic|ginger|onions|button mushrooms|salt|coriander (dhania) powder|black pepper powder|coriander (dhania) leaves|mint leaves (pudina)   \n",
       "6                                                                                                                                                                                                         coriander (dhania) leaves|tahini|lemon juice|extra virgin olive oil|honey|ginger|salt   \n",
       "7                                                                                                        avarekalu / lilva beans|rice|turmeric powder (haldi)|asafoetida (hing)|green chilli|curry leaves|mustard seeds|white urad dal (split)|lemon juice|coriander (dhania) leaves|onion|salt   \n",
       "8                                               whole wheat flour|sooji (semolina/ rava)|ajwain (carom seeds)|salt|extra virgin olive oil|carrot (gajjar)|green bell pepper (capsicum)|cabbage (patta gobi/ muttaikose)|ginger|garlic|green chilli|spring onion greens|salt|black pepper powder   \n",
       "9                                                                                                                                                  butter (unsalted)|caster sugar|whole eggs|all purpose flour (maida)|salt|baking powder|canned pineapple (preserved & tinned)|canned cherries   \n",
       "\n",
       "              author  \\\n",
       "0  Divya Shivaraman    \n",
       "1      Archana Doshi   \n",
       "2  Archana's Kitchen   \n",
       "3      Jyothi Rajesh   \n",
       "4        RUBY PATHAK   \n",
       "5  Archana's Kitchen   \n",
       "6  Archana's Kitchen   \n",
       "7  Archana's Kitchen   \n",
       "8      Archana Doshi   \n",
       "9      Archana Doshi   \n",
       "\n",
       "                                                                                                                                                         tags  \\\n",
       "0                                                   Party Food Recipes|Tea Party Recipes|Mushroom Recipes|Fusion Recipes|Tortilla Recipe|Bell Peppers Recipes   \n",
       "1                                                                               Vegetarian Recipes|Tomato Recipes|South Indian Recipes|Breakfast Recipe Ideas   \n",
       "2                                                                                           Party Starter & Appetizer Recipes|Pineapple Recipes|Salsa Recipes   \n",
       "3                                         Side Dish Recipes|South Indian Recipes|Indian Lunch Recipes|Indian Vegetarian Recipes|Toor Dal Recipes (Pigeon Pea)   \n",
       "4                                               Side Dish Recipes|Indian Lunch Recipes|Office Lunch Box Recipes|Rajma Kidney Bean Recipes|Poppy Seeds Recipes   \n",
       "5             Vegetarian Recipes|Indian Lunch Recipes|Office Lunch Box Recipes|Healthy Recipes|Mushroom Recipes|Millet Recipes|Barnyard Millet (Sama) Recipes   \n",
       "6                                                                        Side Dish Recipes|Party Starter & Appetizer Recipes|Coriander Recipes|Tahini Recipes   \n",
       "7  South Indian Recipes|Indian Lunch Recipes|Festival Recipes|Ganesh Chaturthi Recipes|Lemon Recipes|Dussehra Festival Recipes|Avarakkai Recipes (Broad Bean)   \n",
       "8                Tea Party Recipes|Party Starter & Appetizer Recipes|Sooji Recipes (Rava/ Semolina)|Cabbage Recipes (Patta Gobi)|Samosa Recipe|Fusion Recipes   \n",
       "9                                                          Party Food Recipes|Tea Party Recipes|Birthday Party Cakes|Pineapple Recipes|Birthday Party Recipes   \n",
       "\n",
       "                                            category  \n",
       "0                                      Pizza Recipes  \n",
       "1                               Indian Curry Recipes  \n",
       "2                                    Mexican Recipes  \n",
       "3                               Indian Curry Recipes  \n",
       "4                                      Kofta Recipes  \n",
       "5                                    Biryani Recipes  \n",
       "6               Homemade Jams, Sauce & Pesto Recipes  \n",
       "7  Variety Rice (Mixed Rice/ Flavoured Rice Recipes)  \n",
       "8                             Indian Chinese Recipes  \n",
       "9                                       Cake Recipes  "
      ]
     },
     "execution_count": 237,
     "metadata": {},
     "output_type": "execute_result"
    }
   ],
   "source": [
    "df.head(10)"
   ]
  },
  {
   "cell_type": "code",
   "execution_count": 228,
   "id": "first-relay",
   "metadata": {},
   "outputs": [],
   "source": [
    "df_backup = df"
   ]
  },
  {
   "cell_type": "code",
   "execution_count": 231,
   "id": "shared-kennedy",
   "metadata": {},
   "outputs": [],
   "source": [
    "def user_ingredient():\n",
    "    from random import randint\n",
    "    #input from user\n",
    "    ingredient_choice=input(\"Pick an ingredient\")\n",
    "    if len(ingredient_choice)==0:\n",
    "        print(\"it looks like you can't think of an ingredient at the moment\")\n",
    "    else: \n",
    "        ingredient_choice=ingredient_choice.lower() #convert input to lowercase\n",
    "        filter_ingredient=df[(df[\"ingredients\"].str.lower()).str.contains(ingredient_choice)]# convert target to lowercase\n",
    "        #check if its in the list we have\n",
    "        \n",
    "        \n",
    "        \n",
    "        \n",
    "        if len(filter_ingredient) ==0:\n",
    "            print(\"Poor choice\")\n",
    "            random_song2 = randint(0, len(filter_ingredient)-1)\n",
    "            print(\"But check out '\" + df[\"recipe_title\"][random_song2] + df['ingredients'][random_song2])\n",
    "\n",
    "        else:\n",
    "            # if song is in billboard hot 100, confirm it, recommend another random hot song\n",
    "            print(\"Now that's a hit\")\n",
    "            random_song = randint(0, len(filter_ingredient)-1)\n",
    "            print(\"You might also like '\" + df[\"recipe_title\"][random_song] + df['ingredients'][random_song])"
   ]
  },
  {
   "cell_type": "code",
   "execution_count": 281,
   "id": "legal-carter",
   "metadata": {
    "scrolled": false
   },
   "outputs": [
    {
     "name": "stdout",
     "output_type": "stream",
     "text": [
      "Pick an ingredientsalt\n"
     ]
    },
    {
     "data": {
      "text/html": [
       "<div>\n",
       "<style scoped>\n",
       "    .dataframe tbody tr th:only-of-type {\n",
       "        vertical-align: middle;\n",
       "    }\n",
       "\n",
       "    .dataframe tbody tr th {\n",
       "        vertical-align: top;\n",
       "    }\n",
       "\n",
       "    .dataframe thead th {\n",
       "        text-align: right;\n",
       "    }\n",
       "</style>\n",
       "<table border=\"1\" class=\"dataframe\">\n",
       "  <thead>\n",
       "    <tr style=\"text-align: right;\">\n",
       "      <th></th>\n",
       "      <th>recipe_title</th>\n",
       "      <th>url</th>\n",
       "      <th>vote_count</th>\n",
       "      <th>rating</th>\n",
       "      <th>cuisine</th>\n",
       "      <th>course</th>\n",
       "      <th>diet</th>\n",
       "      <th>prep_time</th>\n",
       "      <th>cook_time</th>\n",
       "      <th>ingredients</th>\n",
       "      <th>author</th>\n",
       "      <th>tags</th>\n",
       "      <th>category</th>\n",
       "    </tr>\n",
       "  </thead>\n",
       "  <tbody>\n",
       "    <tr>\n",
       "      <th>1</th>\n",
       "      <td>Thakkali Gotsu Recipe | Thakkali Curry | Spicy &amp; Tangy Tomato Gravy</td>\n",
       "      <td>https://www.archanaskitchen.com/tomato-gotsu-recipe-spicy-tangy-tomato-gravy</td>\n",
       "      <td>3423</td>\n",
       "      <td>4.932223</td>\n",
       "      <td>South Indian Recipes</td>\n",
       "      <td>Lunch</td>\n",
       "      <td>Vegetarian</td>\n",
       "      <td>10.0</td>\n",
       "      <td>20.0</td>\n",
       "      <td>sesame (gingelly) oil|mustard seeds|curry leaves|garlic|pearl onions (sambar onions)|tomatoes|tamarind|turmeric powder (haldi)|salt|jaggery</td>\n",
       "      <td>Archana Doshi</td>\n",
       "      <td>Vegetarian Recipes|Tomato Recipes|South Indian Recipes|Breakfast Recipe Ideas</td>\n",
       "      <td>Indian Curry Recipes</td>\n",
       "    </tr>\n",
       "    <tr>\n",
       "      <th>2</th>\n",
       "      <td>Spicy Grilled Pineapple Salsa Recipe</td>\n",
       "      <td>https://www.archanaskitchen.com/spicy-grilled-pineapple-salsa-recipe</td>\n",
       "      <td>2091</td>\n",
       "      <td>4.945959</td>\n",
       "      <td>Mexican</td>\n",
       "      <td>Side Dish</td>\n",
       "      <td>Vegetarian</td>\n",
       "      <td>10.0</td>\n",
       "      <td>0.0</td>\n",
       "      <td>extra virgin olive oil|pineapple|white onion|red yellow and green bell peppers (capsicum)|pickled jalapenos|coriander (dhania) leaves|mint leaves (pudina)|salt|lemon juice|paprika powder</td>\n",
       "      <td>Archana's Kitchen</td>\n",
       "      <td>Party Starter &amp; Appetizer Recipes|Pineapple Recipes|Salsa Recipes</td>\n",
       "      <td>Mexican Recipes</td>\n",
       "    </tr>\n",
       "    <tr>\n",
       "      <th>3</th>\n",
       "      <td>Karwar Style Dali Thoy Recipe - Toor dal Curry</td>\n",
       "      <td>https://www.archanaskitchen.com/dali-thoy-recipe-karwar-style-toor-dal-curry</td>\n",
       "      <td>990</td>\n",
       "      <td>4.888889</td>\n",
       "      <td>Coastal Karnataka</td>\n",
       "      <td>Side Dish</td>\n",
       "      <td>High Protein Vegetarian</td>\n",
       "      <td>5.0</td>\n",
       "      <td>20.0</td>\n",
       "      <td>arhar dal (split toor dal)|turmeric powder (haldi)|salt|dry red chilli|mustard seeds|asafoetida (hing)|curry leaves|coriander (dhania) leaves</td>\n",
       "      <td>Jyothi Rajesh</td>\n",
       "      <td>Side Dish Recipes|South Indian Recipes|Indian Lunch Recipes|Indian Vegetarian Recipes|Toor Dal Recipes (Pigeon Pea)</td>\n",
       "      <td>Indian Curry Recipes</td>\n",
       "    </tr>\n",
       "    <tr>\n",
       "      <th>4</th>\n",
       "      <td>Rajma Kofta In Milk And Poppy Seed Gravy Recipe</td>\n",
       "      <td>https://www.archanaskitchen.com/rajma-kofta-in-milk-and-poppy-seed-gravy-recipe</td>\n",
       "      <td>345</td>\n",
       "      <td>4.828986</td>\n",
       "      <td>North Indian Recipes</td>\n",
       "      <td>Side Dish</td>\n",
       "      <td>High Protein Vegetarian</td>\n",
       "      <td>20.0</td>\n",
       "      <td>30.0</td>\n",
       "      <td>rajma (large kidney beans)|cashew nuts|sultana raisins|asafoetida (hing)|cumin seeds (jeera)|gram flour (besan)|red chilli powder|coriander (dhania) leaves|poppy seeds|fresh cream|milk|water|salt|saffron strands</td>\n",
       "      <td>RUBY PATHAK</td>\n",
       "      <td>Side Dish Recipes|Indian Lunch Recipes|Office Lunch Box Recipes|Rajma Kidney Bean Recipes|Poppy Seeds Recipes</td>\n",
       "      <td>Kofta Recipes</td>\n",
       "    </tr>\n",
       "    <tr>\n",
       "      <th>5</th>\n",
       "      <td>Barnyard Millet Mushroom Biryani Recipe</td>\n",
       "      <td>https://www.archanaskitchen.com/barnyard-millet-mushroom-biriyani-recipe</td>\n",
       "      <td>2088</td>\n",
       "      <td>4.903736</td>\n",
       "      <td>Indian</td>\n",
       "      <td>Lunch</td>\n",
       "      <td>Vegetarian</td>\n",
       "      <td>10.0</td>\n",
       "      <td>30.0</td>\n",
       "      <td>barnyard millet|oil|bay leaf (tej patta)|cardamom (elaichi) pods/seeds|cloves (laung)|cinnamon stick (dalchini)|star anise|curry leaves|green chilli|garlic|ginger|onions|button mushrooms|salt|coriander (dhania) powder|black pepper powder|coriander (dhania) leaves|mint leaves (pudina)</td>\n",
       "      <td>Archana's Kitchen</td>\n",
       "      <td>Vegetarian Recipes|Indian Lunch Recipes|Office Lunch Box Recipes|Healthy Recipes|Mushroom Recipes|Millet Recipes|Barnyard Millet (Sama) Recipes</td>\n",
       "      <td>Biryani Recipes</td>\n",
       "    </tr>\n",
       "  </tbody>\n",
       "</table>\n",
       "</div>"
      ],
      "text/plain": [
       "                                                          recipe_title  \\\n",
       "1  Thakkali Gotsu Recipe | Thakkali Curry | Spicy & Tangy Tomato Gravy   \n",
       "2                                 Spicy Grilled Pineapple Salsa Recipe   \n",
       "3                       Karwar Style Dali Thoy Recipe - Toor dal Curry   \n",
       "4                      Rajma Kofta In Milk And Poppy Seed Gravy Recipe   \n",
       "5                              Barnyard Millet Mushroom Biryani Recipe   \n",
       "\n",
       "                                                                               url  \\\n",
       "1     https://www.archanaskitchen.com/tomato-gotsu-recipe-spicy-tangy-tomato-gravy   \n",
       "2             https://www.archanaskitchen.com/spicy-grilled-pineapple-salsa-recipe   \n",
       "3     https://www.archanaskitchen.com/dali-thoy-recipe-karwar-style-toor-dal-curry   \n",
       "4  https://www.archanaskitchen.com/rajma-kofta-in-milk-and-poppy-seed-gravy-recipe   \n",
       "5         https://www.archanaskitchen.com/barnyard-millet-mushroom-biriyani-recipe   \n",
       "\n",
       "   vote_count    rating               cuisine     course  \\\n",
       "1        3423  4.932223  South Indian Recipes      Lunch   \n",
       "2        2091  4.945959               Mexican  Side Dish   \n",
       "3         990  4.888889     Coastal Karnataka  Side Dish   \n",
       "4         345  4.828986  North Indian Recipes  Side Dish   \n",
       "5        2088  4.903736                Indian      Lunch   \n",
       "\n",
       "                      diet  prep_time  cook_time  \\\n",
       "1               Vegetarian       10.0       20.0   \n",
       "2               Vegetarian       10.0        0.0   \n",
       "3  High Protein Vegetarian        5.0       20.0   \n",
       "4  High Protein Vegetarian       20.0       30.0   \n",
       "5               Vegetarian       10.0       30.0   \n",
       "\n",
       "                                                                                                                                                                                                                                                                                    ingredients  \\\n",
       "1                                                                                                                                                   sesame (gingelly) oil|mustard seeds|curry leaves|garlic|pearl onions (sambar onions)|tomatoes|tamarind|turmeric powder (haldi)|salt|jaggery   \n",
       "2                                                                                                    extra virgin olive oil|pineapple|white onion|red yellow and green bell peppers (capsicum)|pickled jalapenos|coriander (dhania) leaves|mint leaves (pudina)|salt|lemon juice|paprika powder   \n",
       "3                                                                                                                                                 arhar dal (split toor dal)|turmeric powder (haldi)|salt|dry red chilli|mustard seeds|asafoetida (hing)|curry leaves|coriander (dhania) leaves   \n",
       "4                                                                           rajma (large kidney beans)|cashew nuts|sultana raisins|asafoetida (hing)|cumin seeds (jeera)|gram flour (besan)|red chilli powder|coriander (dhania) leaves|poppy seeds|fresh cream|milk|water|salt|saffron strands   \n",
       "5  barnyard millet|oil|bay leaf (tej patta)|cardamom (elaichi) pods/seeds|cloves (laung)|cinnamon stick (dalchini)|star anise|curry leaves|green chilli|garlic|ginger|onions|button mushrooms|salt|coriander (dhania) powder|black pepper powder|coriander (dhania) leaves|mint leaves (pudina)   \n",
       "\n",
       "              author  \\\n",
       "1      Archana Doshi   \n",
       "2  Archana's Kitchen   \n",
       "3      Jyothi Rajesh   \n",
       "4        RUBY PATHAK   \n",
       "5  Archana's Kitchen   \n",
       "\n",
       "                                                                                                                                              tags  \\\n",
       "1                                                                    Vegetarian Recipes|Tomato Recipes|South Indian Recipes|Breakfast Recipe Ideas   \n",
       "2                                                                                Party Starter & Appetizer Recipes|Pineapple Recipes|Salsa Recipes   \n",
       "3                              Side Dish Recipes|South Indian Recipes|Indian Lunch Recipes|Indian Vegetarian Recipes|Toor Dal Recipes (Pigeon Pea)   \n",
       "4                                    Side Dish Recipes|Indian Lunch Recipes|Office Lunch Box Recipes|Rajma Kidney Bean Recipes|Poppy Seeds Recipes   \n",
       "5  Vegetarian Recipes|Indian Lunch Recipes|Office Lunch Box Recipes|Healthy Recipes|Mushroom Recipes|Millet Recipes|Barnyard Millet (Sama) Recipes   \n",
       "\n",
       "               category  \n",
       "1  Indian Curry Recipes  \n",
       "2       Mexican Recipes  \n",
       "3  Indian Curry Recipes  \n",
       "4         Kofta Recipes  \n",
       "5       Biryani Recipes  "
      ]
     },
     "execution_count": 281,
     "metadata": {},
     "output_type": "execute_result"
    }
   ],
   "source": [
    "ingredient_choice=input(\"Pick an ingredient\")\n",
    "filter_ingredient=df[(df[\"ingredients\"].str.lower()).str.contains(ingredient_choice)]\n",
    "filter_ingredient.head()"
   ]
  },
  {
   "cell_type": "code",
   "execution_count": 290,
   "id": "corrected-rally",
   "metadata": {},
   "outputs": [
    {
     "data": {
      "text/html": [
       "<div>\n",
       "<style scoped>\n",
       "    .dataframe tbody tr th:only-of-type {\n",
       "        vertical-align: middle;\n",
       "    }\n",
       "\n",
       "    .dataframe tbody tr th {\n",
       "        vertical-align: top;\n",
       "    }\n",
       "\n",
       "    .dataframe thead th {\n",
       "        text-align: right;\n",
       "    }\n",
       "</style>\n",
       "<table border=\"1\" class=\"dataframe\">\n",
       "  <thead>\n",
       "    <tr style=\"text-align: right;\">\n",
       "      <th></th>\n",
       "      <th>recipe_title</th>\n",
       "      <th>url</th>\n",
       "      <th>vote_count</th>\n",
       "      <th>rating</th>\n",
       "      <th>cuisine</th>\n",
       "      <th>course</th>\n",
       "      <th>diet</th>\n",
       "      <th>prep_time</th>\n",
       "      <th>cook_time</th>\n",
       "      <th>ingredients</th>\n",
       "      <th>author</th>\n",
       "      <th>tags</th>\n",
       "      <th>category</th>\n",
       "    </tr>\n",
       "  </thead>\n",
       "  <tbody>\n",
       "    <tr>\n",
       "      <th>1</th>\n",
       "      <td>Thakkali Gotsu Recipe | Thakkali Curry | Spicy &amp; Tangy Tomato Gravy</td>\n",
       "      <td>https://www.archanaskitchen.com/tomato-gotsu-recipe-spicy-tangy-tomato-gravy</td>\n",
       "      <td>3423</td>\n",
       "      <td>4.932223</td>\n",
       "      <td>South Indian Recipes</td>\n",
       "      <td>Lunch</td>\n",
       "      <td>Vegetarian</td>\n",
       "      <td>10.0</td>\n",
       "      <td>20.0</td>\n",
       "      <td>sesame (gingelly) oil|mustard seeds|curry leaves|garlic|pearl onions (sambar onions)|tomatoes|tamarind|turmeric powder (haldi)|salt|jaggery</td>\n",
       "      <td>Archana Doshi</td>\n",
       "      <td>Vegetarian Recipes|Tomato Recipes|South Indian Recipes|Breakfast Recipe Ideas</td>\n",
       "      <td>Indian Curry Recipes</td>\n",
       "    </tr>\n",
       "    <tr>\n",
       "      <th>2</th>\n",
       "      <td>Spicy Grilled Pineapple Salsa Recipe</td>\n",
       "      <td>https://www.archanaskitchen.com/spicy-grilled-pineapple-salsa-recipe</td>\n",
       "      <td>2091</td>\n",
       "      <td>4.945959</td>\n",
       "      <td>Mexican</td>\n",
       "      <td>Side Dish</td>\n",
       "      <td>Vegetarian</td>\n",
       "      <td>10.0</td>\n",
       "      <td>0.0</td>\n",
       "      <td>extra virgin olive oil|pineapple|white onion|red yellow and green bell peppers (capsicum)|pickled jalapenos|coriander (dhania) leaves|mint leaves (pudina)|salt|lemon juice|paprika powder</td>\n",
       "      <td>Archana's Kitchen</td>\n",
       "      <td>Party Starter &amp; Appetizer Recipes|Pineapple Recipes|Salsa Recipes</td>\n",
       "      <td>Mexican Recipes</td>\n",
       "    </tr>\n",
       "    <tr>\n",
       "      <th>3</th>\n",
       "      <td>Karwar Style Dali Thoy Recipe - Toor dal Curry</td>\n",
       "      <td>https://www.archanaskitchen.com/dali-thoy-recipe-karwar-style-toor-dal-curry</td>\n",
       "      <td>990</td>\n",
       "      <td>4.888889</td>\n",
       "      <td>Coastal Karnataka</td>\n",
       "      <td>Side Dish</td>\n",
       "      <td>High Protein Vegetarian</td>\n",
       "      <td>5.0</td>\n",
       "      <td>20.0</td>\n",
       "      <td>arhar dal (split toor dal)|turmeric powder (haldi)|salt|dry red chilli|mustard seeds|asafoetida (hing)|curry leaves|coriander (dhania) leaves</td>\n",
       "      <td>Jyothi Rajesh</td>\n",
       "      <td>Side Dish Recipes|South Indian Recipes|Indian Lunch Recipes|Indian Vegetarian Recipes|Toor Dal Recipes (Pigeon Pea)</td>\n",
       "      <td>Indian Curry Recipes</td>\n",
       "    </tr>\n",
       "    <tr>\n",
       "      <th>4</th>\n",
       "      <td>Rajma Kofta In Milk And Poppy Seed Gravy Recipe</td>\n",
       "      <td>https://www.archanaskitchen.com/rajma-kofta-in-milk-and-poppy-seed-gravy-recipe</td>\n",
       "      <td>345</td>\n",
       "      <td>4.828986</td>\n",
       "      <td>North Indian Recipes</td>\n",
       "      <td>Side Dish</td>\n",
       "      <td>High Protein Vegetarian</td>\n",
       "      <td>20.0</td>\n",
       "      <td>30.0</td>\n",
       "      <td>rajma (large kidney beans)|cashew nuts|sultana raisins|asafoetida (hing)|cumin seeds (jeera)|gram flour (besan)|red chilli powder|coriander (dhania) leaves|poppy seeds|fresh cream|milk|water|salt|saffron strands</td>\n",
       "      <td>RUBY PATHAK</td>\n",
       "      <td>Side Dish Recipes|Indian Lunch Recipes|Office Lunch Box Recipes|Rajma Kidney Bean Recipes|Poppy Seeds Recipes</td>\n",
       "      <td>Kofta Recipes</td>\n",
       "    </tr>\n",
       "    <tr>\n",
       "      <th>5</th>\n",
       "      <td>Barnyard Millet Mushroom Biryani Recipe</td>\n",
       "      <td>https://www.archanaskitchen.com/barnyard-millet-mushroom-biriyani-recipe</td>\n",
       "      <td>2088</td>\n",
       "      <td>4.903736</td>\n",
       "      <td>Indian</td>\n",
       "      <td>Lunch</td>\n",
       "      <td>Vegetarian</td>\n",
       "      <td>10.0</td>\n",
       "      <td>30.0</td>\n",
       "      <td>barnyard millet|oil|bay leaf (tej patta)|cardamom (elaichi) pods/seeds|cloves (laung)|cinnamon stick (dalchini)|star anise|curry leaves|green chilli|garlic|ginger|onions|button mushrooms|salt|coriander (dhania) powder|black pepper powder|coriander (dhania) leaves|mint leaves (pudina)</td>\n",
       "      <td>Archana's Kitchen</td>\n",
       "      <td>Vegetarian Recipes|Indian Lunch Recipes|Office Lunch Box Recipes|Healthy Recipes|Mushroom Recipes|Millet Recipes|Barnyard Millet (Sama) Recipes</td>\n",
       "      <td>Biryani Recipes</td>\n",
       "    </tr>\n",
       "    <tr>\n",
       "      <th>...</th>\n",
       "      <td>...</td>\n",
       "      <td>...</td>\n",
       "      <td>...</td>\n",
       "      <td>...</td>\n",
       "      <td>...</td>\n",
       "      <td>...</td>\n",
       "      <td>...</td>\n",
       "      <td>...</td>\n",
       "      <td>...</td>\n",
       "      <td>...</td>\n",
       "      <td>...</td>\n",
       "      <td>...</td>\n",
       "      <td>...</td>\n",
       "    </tr>\n",
       "    <tr>\n",
       "      <th>8003</th>\n",
       "      <td>Bendekayi Puli Koddel Recipe - Lady Finger In Coconut Tamarind Curry</td>\n",
       "      <td>https://www.archanaskitchen.com/mangalorean-bhende-puli-kodel-recipe-okra-in-tamarind-gravy</td>\n",
       "      <td>2335</td>\n",
       "      <td>4.923340</td>\n",
       "      <td>Mangalorean</td>\n",
       "      <td>Side Dish</td>\n",
       "      <td>Vegetarian</td>\n",
       "      <td>10.0</td>\n",
       "      <td>20.0</td>\n",
       "      <td>bhindi (lady finger/okra)|salt|sunflower oil|fresh coconut|methi seeds (fenugreek seeds)|cumin (jeera) seeds|dry red chilli|coriander (dhania) seeds|sesame seeds (til seeds)|rice|garlic|turmeric powder (haldi)|jaggery|water|sunflower oil|mustard seeds|dry red chilli|curry leaves</td>\n",
       "      <td>Archana's Kitchen</td>\n",
       "      <td>Indian Lunch Recipes|Office Lunch Box Recipes|Coconut Recipes|Bhindi Recipes (Vendakkai /Okra /Ladies Finger)|Jaggery Recipes</td>\n",
       "      <td>Indian Curry Recipes</td>\n",
       "    </tr>\n",
       "    <tr>\n",
       "      <th>8004</th>\n",
       "      <td>Zucchini and Carrot Pasta Recipe</td>\n",
       "      <td>https://www.archanaskitchen.com/zucchini-and-carrot-pasta-recipe</td>\n",
       "      <td>738</td>\n",
       "      <td>4.934959</td>\n",
       "      <td>Italian Recipes</td>\n",
       "      <td>Dinner</td>\n",
       "      <td>Vegetarian</td>\n",
       "      <td>10.0</td>\n",
       "      <td>30.0</td>\n",
       "      <td>spirali pasta|onions|tomatoes|green zucchini|carrot (gajjar)|green chilli|dried oregano|dried basil leaves|black pepper powder|salt|extra virgin olive oil|sugar</td>\n",
       "      <td>Aarti Sharma</td>\n",
       "      <td>Vegetarian Recipes|Carrot Recipes|Zucchini Recipes|Mother's Day Recipe Contest 2016</td>\n",
       "      <td>Pasta Recipes</td>\n",
       "    </tr>\n",
       "    <tr>\n",
       "      <th>8006</th>\n",
       "      <td>Karwar Style Muga Ambat Recipe (Moong Sprouts in Coconut Curry)</td>\n",
       "      <td>https://www.archanaskitchen.com/karwar-style-muga-ambat-recipe</td>\n",
       "      <td>1202</td>\n",
       "      <td>4.946755</td>\n",
       "      <td>Karnataka</td>\n",
       "      <td>Side Dish</td>\n",
       "      <td>High Protein Vegetarian</td>\n",
       "      <td>10.0</td>\n",
       "      <td>15.0</td>\n",
       "      <td>turmeric powder (haldi)|sugar|salt|fresh coconut|dry red chilli|coriander (dhania) seeds|sunflower oil|mustard seeds|asafoetida (hing)|curry leaves</td>\n",
       "      <td>Archana's Kitchen</td>\n",
       "      <td>High Protein Vegetarian Diet Recipes|South Indian Recipes|Healthy Recipes|Sprout Recipes|Coconut Milk Recipes|karwar Recipes</td>\n",
       "      <td>Indian Curry Recipes</td>\n",
       "    </tr>\n",
       "    <tr>\n",
       "      <th>8007</th>\n",
       "      <td>Beetroot, Amla And Pudina Juice Recipe | Mint Gooseberry Beet Juice</td>\n",
       "      <td>https://www.archanaskitchen.com/beetroot-amla-and-pudina-juice-recipe</td>\n",
       "      <td>1305</td>\n",
       "      <td>4.925670</td>\n",
       "      <td>Indian</td>\n",
       "      <td>Snack</td>\n",
       "      <td>Vegetarian</td>\n",
       "      <td>10.0</td>\n",
       "      <td>0.0</td>\n",
       "      <td>beetroot|amla (nellikai/ gooseberry)|mint leaves (pudina)|cucumber|black pepper powder|cumin powder (jeera)|black salt (kala namak)</td>\n",
       "      <td>Archana's Kitchen</td>\n",
       "      <td>Healthy Recipes|Beetroot Recipes|Pudina Mint Recipes|Amla Recipes  (Gooseberry)</td>\n",
       "      <td>Indian Drink Recipes</td>\n",
       "    </tr>\n",
       "    <tr>\n",
       "      <th>8008</th>\n",
       "      <td>Chettinad Cauliflower Pepper Fry Recipe - Chettinad Poo Kosu Poriyal</td>\n",
       "      <td>https://www.archanaskitchen.com/chettinad-cauliflower-pepper-fry-recipe-milagu-pirattal-poriyal</td>\n",
       "      <td>2167</td>\n",
       "      <td>4.815413</td>\n",
       "      <td>Tamil Nadu</td>\n",
       "      <td>Lunch</td>\n",
       "      <td>Vegetarian</td>\n",
       "      <td>15.0</td>\n",
       "      <td>20.0</td>\n",
       "      <td>cauliflower (gobi)|pearl onions (sambar onions)|garlic|turmeric powder (haldi)|black pepper powder|red chilli powder|cinnamon powder (dalchini)|cloves (laung)|coriander powder (dhania)|salt|mustard seeds|cumin seeds (jeera)|curry leaves|oil</td>\n",
       "      <td>Archana Doshi</td>\n",
       "      <td>Cauliflower Recipes (Phool Gobi)</td>\n",
       "      <td>Poriyal Recipes (South Indian Sabzi)</td>\n",
       "    </tr>\n",
       "  </tbody>\n",
       "</table>\n",
       "<p>5429 rows × 13 columns</p>\n",
       "</div>"
      ],
      "text/plain": [
       "                                                              recipe_title  \\\n",
       "1      Thakkali Gotsu Recipe | Thakkali Curry | Spicy & Tangy Tomato Gravy   \n",
       "2                                     Spicy Grilled Pineapple Salsa Recipe   \n",
       "3                           Karwar Style Dali Thoy Recipe - Toor dal Curry   \n",
       "4                          Rajma Kofta In Milk And Poppy Seed Gravy Recipe   \n",
       "5                                  Barnyard Millet Mushroom Biryani Recipe   \n",
       "...                                                                    ...   \n",
       "8003  Bendekayi Puli Koddel Recipe - Lady Finger In Coconut Tamarind Curry   \n",
       "8004                                      Zucchini and Carrot Pasta Recipe   \n",
       "8006       Karwar Style Muga Ambat Recipe (Moong Sprouts in Coconut Curry)   \n",
       "8007   Beetroot, Amla And Pudina Juice Recipe | Mint Gooseberry Beet Juice   \n",
       "8008  Chettinad Cauliflower Pepper Fry Recipe - Chettinad Poo Kosu Poriyal   \n",
       "\n",
       "                                                                                                  url  \\\n",
       "1                        https://www.archanaskitchen.com/tomato-gotsu-recipe-spicy-tangy-tomato-gravy   \n",
       "2                                https://www.archanaskitchen.com/spicy-grilled-pineapple-salsa-recipe   \n",
       "3                        https://www.archanaskitchen.com/dali-thoy-recipe-karwar-style-toor-dal-curry   \n",
       "4                     https://www.archanaskitchen.com/rajma-kofta-in-milk-and-poppy-seed-gravy-recipe   \n",
       "5                            https://www.archanaskitchen.com/barnyard-millet-mushroom-biriyani-recipe   \n",
       "...                                                                                               ...   \n",
       "8003      https://www.archanaskitchen.com/mangalorean-bhende-puli-kodel-recipe-okra-in-tamarind-gravy   \n",
       "8004                                 https://www.archanaskitchen.com/zucchini-and-carrot-pasta-recipe   \n",
       "8006                                   https://www.archanaskitchen.com/karwar-style-muga-ambat-recipe   \n",
       "8007                            https://www.archanaskitchen.com/beetroot-amla-and-pudina-juice-recipe   \n",
       "8008  https://www.archanaskitchen.com/chettinad-cauliflower-pepper-fry-recipe-milagu-pirattal-poriyal   \n",
       "\n",
       "      vote_count    rating               cuisine     course  \\\n",
       "1           3423  4.932223  South Indian Recipes      Lunch   \n",
       "2           2091  4.945959               Mexican  Side Dish   \n",
       "3            990  4.888889     Coastal Karnataka  Side Dish   \n",
       "4            345  4.828986  North Indian Recipes  Side Dish   \n",
       "5           2088  4.903736                Indian      Lunch   \n",
       "...          ...       ...                   ...        ...   \n",
       "8003        2335  4.923340           Mangalorean  Side Dish   \n",
       "8004         738  4.934959       Italian Recipes     Dinner   \n",
       "8006        1202  4.946755             Karnataka  Side Dish   \n",
       "8007        1305  4.925670                Indian      Snack   \n",
       "8008        2167  4.815413            Tamil Nadu      Lunch   \n",
       "\n",
       "                         diet  prep_time  cook_time  \\\n",
       "1                  Vegetarian       10.0       20.0   \n",
       "2                  Vegetarian       10.0        0.0   \n",
       "3     High Protein Vegetarian        5.0       20.0   \n",
       "4     High Protein Vegetarian       20.0       30.0   \n",
       "5                  Vegetarian       10.0       30.0   \n",
       "...                       ...        ...        ...   \n",
       "8003               Vegetarian       10.0       20.0   \n",
       "8004               Vegetarian       10.0       30.0   \n",
       "8006  High Protein Vegetarian       10.0       15.0   \n",
       "8007               Vegetarian       10.0        0.0   \n",
       "8008               Vegetarian       15.0       20.0   \n",
       "\n",
       "                                                                                                                                                                                                                                                                                       ingredients  \\\n",
       "1                                                                                                                                                      sesame (gingelly) oil|mustard seeds|curry leaves|garlic|pearl onions (sambar onions)|tomatoes|tamarind|turmeric powder (haldi)|salt|jaggery   \n",
       "2                                                                                                       extra virgin olive oil|pineapple|white onion|red yellow and green bell peppers (capsicum)|pickled jalapenos|coriander (dhania) leaves|mint leaves (pudina)|salt|lemon juice|paprika powder   \n",
       "3                                                                                                                                                    arhar dal (split toor dal)|turmeric powder (haldi)|salt|dry red chilli|mustard seeds|asafoetida (hing)|curry leaves|coriander (dhania) leaves   \n",
       "4                                                                              rajma (large kidney beans)|cashew nuts|sultana raisins|asafoetida (hing)|cumin seeds (jeera)|gram flour (besan)|red chilli powder|coriander (dhania) leaves|poppy seeds|fresh cream|milk|water|salt|saffron strands   \n",
       "5     barnyard millet|oil|bay leaf (tej patta)|cardamom (elaichi) pods/seeds|cloves (laung)|cinnamon stick (dalchini)|star anise|curry leaves|green chilli|garlic|ginger|onions|button mushrooms|salt|coriander (dhania) powder|black pepper powder|coriander (dhania) leaves|mint leaves (pudina)   \n",
       "...                                                                                                                                                                                                                                                                                            ...   \n",
       "8003       bhindi (lady finger/okra)|salt|sunflower oil|fresh coconut|methi seeds (fenugreek seeds)|cumin (jeera) seeds|dry red chilli|coriander (dhania) seeds|sesame seeds (til seeds)|rice|garlic|turmeric powder (haldi)|jaggery|water|sunflower oil|mustard seeds|dry red chilli|curry leaves   \n",
       "8004                                                                                                                              spirali pasta|onions|tomatoes|green zucchini|carrot (gajjar)|green chilli|dried oregano|dried basil leaves|black pepper powder|salt|extra virgin olive oil|sugar   \n",
       "8006                                                                                                                                           turmeric powder (haldi)|sugar|salt|fresh coconut|dry red chilli|coriander (dhania) seeds|sunflower oil|mustard seeds|asafoetida (hing)|curry leaves   \n",
       "8007                                                                                                                                                           beetroot|amla (nellikai/ gooseberry)|mint leaves (pudina)|cucumber|black pepper powder|cumin powder (jeera)|black salt (kala namak)   \n",
       "8008                                              cauliflower (gobi)|pearl onions (sambar onions)|garlic|turmeric powder (haldi)|black pepper powder|red chilli powder|cinnamon powder (dalchini)|cloves (laung)|coriander powder (dhania)|salt|mustard seeds|cumin seeds (jeera)|curry leaves|oil   \n",
       "\n",
       "                 author  \\\n",
       "1         Archana Doshi   \n",
       "2     Archana's Kitchen   \n",
       "3         Jyothi Rajesh   \n",
       "4           RUBY PATHAK   \n",
       "5     Archana's Kitchen   \n",
       "...                 ...   \n",
       "8003  Archana's Kitchen   \n",
       "8004       Aarti Sharma   \n",
       "8006  Archana's Kitchen   \n",
       "8007  Archana's Kitchen   \n",
       "8008      Archana Doshi   \n",
       "\n",
       "                                                                                                                                                 tags  \\\n",
       "1                                                                       Vegetarian Recipes|Tomato Recipes|South Indian Recipes|Breakfast Recipe Ideas   \n",
       "2                                                                                   Party Starter & Appetizer Recipes|Pineapple Recipes|Salsa Recipes   \n",
       "3                                 Side Dish Recipes|South Indian Recipes|Indian Lunch Recipes|Indian Vegetarian Recipes|Toor Dal Recipes (Pigeon Pea)   \n",
       "4                                       Side Dish Recipes|Indian Lunch Recipes|Office Lunch Box Recipes|Rajma Kidney Bean Recipes|Poppy Seeds Recipes   \n",
       "5     Vegetarian Recipes|Indian Lunch Recipes|Office Lunch Box Recipes|Healthy Recipes|Mushroom Recipes|Millet Recipes|Barnyard Millet (Sama) Recipes   \n",
       "...                                                                                                                                               ...   \n",
       "8003                    Indian Lunch Recipes|Office Lunch Box Recipes|Coconut Recipes|Bhindi Recipes (Vendakkai /Okra /Ladies Finger)|Jaggery Recipes   \n",
       "8004                                                              Vegetarian Recipes|Carrot Recipes|Zucchini Recipes|Mother's Day Recipe Contest 2016   \n",
       "8006                     High Protein Vegetarian Diet Recipes|South Indian Recipes|Healthy Recipes|Sprout Recipes|Coconut Milk Recipes|karwar Recipes   \n",
       "8007                                                                  Healthy Recipes|Beetroot Recipes|Pudina Mint Recipes|Amla Recipes  (Gooseberry)   \n",
       "8008                                                                                                                 Cauliflower Recipes (Phool Gobi)   \n",
       "\n",
       "                                  category  \n",
       "1                     Indian Curry Recipes  \n",
       "2                          Mexican Recipes  \n",
       "3                     Indian Curry Recipes  \n",
       "4                            Kofta Recipes  \n",
       "5                          Biryani Recipes  \n",
       "...                                    ...  \n",
       "8003                  Indian Curry Recipes  \n",
       "8004                         Pasta Recipes  \n",
       "8006                  Indian Curry Recipes  \n",
       "8007                  Indian Drink Recipes  \n",
       "8008  Poriyal Recipes (South Indian Sabzi)  \n",
       "\n",
       "[5429 rows x 13 columns]"
      ]
     },
     "execution_count": 290,
     "metadata": {},
     "output_type": "execute_result"
    }
   ],
   "source": [
    "filter_ingredient"
   ]
  },
  {
   "cell_type": "code",
   "execution_count": 286,
   "id": "improved-freight",
   "metadata": {},
   "outputs": [],
   "source": [
    "x = len(filter_ingredient)"
   ]
  },
  {
   "cell_type": "code",
   "execution_count": 299,
   "id": "green-myrtle",
   "metadata": {},
   "outputs": [
    {
     "data": {
      "text/plain": [
       "237"
      ]
     },
     "execution_count": 299,
     "metadata": {},
     "output_type": "execute_result"
    }
   ],
   "source": [
    "from random import randint\n",
    "y =randint(1, x)\n",
    "y"
   ]
  },
  {
   "cell_type": "code",
   "execution_count": 276,
   "id": "secondary-obligation",
   "metadata": {},
   "outputs": [
    {
     "data": {
      "text/plain": [
       "str"
      ]
     },
     "execution_count": 276,
     "metadata": {},
     "output_type": "execute_result"
    }
   ],
   "source": [
    "type(filter_ingredient[\"ingredients\"].loc[30])"
   ]
  },
  {
   "cell_type": "code",
   "execution_count": 301,
   "id": "romantic-freeware",
   "metadata": {},
   "outputs": [
    {
     "data": {
      "text/plain": [
       "266"
      ]
     },
     "execution_count": 301,
     "metadata": {},
     "output_type": "execute_result"
    }
   ],
   "source": [
    "first_recipe_index = filter_ingredient.index.values.tolist()[y]\n",
    "first_recipe_index"
   ]
  },
  {
   "cell_type": "code",
   "execution_count": 302,
   "id": "curious-equation",
   "metadata": {},
   "outputs": [
    {
     "data": {
      "text/plain": [
       "recipe_title                                                                                        Beetroot Dip Recipe Served With Crackers\n",
       "url                                                                                             https://www.archanaskitchen.com/beetroot-dip\n",
       "vote_count                                                                                                                              1306\n",
       "rating                                                                                                                              4.777182\n",
       "cuisine                                                                                                                          Continental\n",
       "course                                                                                                                             Side Dish\n",
       "diet                                                                                                                              Vegetarian\n",
       "prep_time                                                                                                                               15.0\n",
       "cook_time                                                                                                                               20.0\n",
       "ingredients     beetroots|basil leaves|whole wheat bread crumbs|ginger|garlic|raisins|salt|cayenne pepper|lemon juice|extra virgin olive oil\n",
       "author                                                                                                                         Archana Doshi\n",
       "tags                                                                    Beetroot Recipes|Party Starter & Appetizer Recipes|Party Dip Recipes\n",
       "category                                                                                       Continental Party Appetizer & Starter Recipes\n",
       "Name: 266, dtype: object"
      ]
     },
     "execution_count": 302,
     "metadata": {},
     "output_type": "execute_result"
    }
   ],
   "source": [
    "filter_ingredient.loc[first_recipe_index]"
   ]
  },
  {
   "cell_type": "code",
   "execution_count": 305,
   "id": "close-falls",
   "metadata": {},
   "outputs": [
    {
     "name": "stdout",
     "output_type": "stream",
     "text": [
      "Pick an ingredientpotato\n"
     ]
    },
    {
     "data": {
      "text/plain": [
       "recipe_title                                                                                                                                                                                                                                                           Potato Puff Pastry Recipe\n",
       "url                                                                                                                                                                                                                                    https://www.archanaskitchen.com/potato-puff-pastry-recipe\n",
       "vote_count                                                                                                                                                                                                                                                                                 10360\n",
       "rating                                                                                                                                                                                                                                                                                  4.914479\n",
       "cuisine                                                                                                                                                                                                                                                                     North Indian Recipes\n",
       "course                                                                                                                                                                                                                                                                                     Snack\n",
       "diet                                                                                                                                                                                                                                                                                  Vegetarian\n",
       "prep_time                                                                                                                                                                                                                                                                                   10.0\n",
       "cook_time                                                                                                                                                                                                                                                                                  120.0\n",
       "ingredients     potatoes (aloo)|onion|coriander (dhania) leaves|ginger|red chilli powder|chaat masala powder|cumin seeds (jeera)|coriander (dhania) seeds|green chilli|sunflower oil|salt|all purpose flour (maida)|all purpose flour (maida)|butter (unsalted)|chilled water|white vinegar|salt\n",
       "author                                                                                                                                                                                                                                                                                      Roop\n",
       "tags                                                                                                                                                                                                                               Aloo Recipes (Potato & Baby Potato Recipes)|Tea Party Recipes\n",
       "category                                                                                                                                                                                                                                                                    Indian Snack Recipes\n",
       "Name: 5715, dtype: object"
      ]
     },
     "execution_count": 305,
     "metadata": {},
     "output_type": "execute_result"
    }
   ],
   "source": [
    "#Kosta\n",
    "#### First iteration. Gives a random recipe based on the index. Choosing an ingredient creates a new dataframe.\n",
    "#Create a range of random integers based on length of new dataframe\n",
    "\n",
    "from random import randint\n",
    "\n",
    "ingredient_choice=input(\"Pick an ingredient\")\n",
    "filter_ingredient=df[(df[\"ingredients\"].str.lower()).str.contains(ingredient_choice)]\n",
    "# filter_ingredient.head()\n",
    "\n",
    "x = len(filter_ingredient)\n",
    "\n",
    "y =randint(1, x)\n",
    "y\n",
    "first_recipe_index = filter_ingredient.index.values.tolist()[y]\n",
    "filter_ingredient.loc[first_recipe_index]"
   ]
  },
  {
   "cell_type": "code",
   "execution_count": null,
   "id": "third-fiber",
   "metadata": {},
   "outputs": [],
   "source": []
  },
  {
   "cell_type": "code",
   "execution_count": null,
   "id": "sustained-pacific",
   "metadata": {},
   "outputs": [],
   "source": []
  },
  {
   "cell_type": "code",
   "execution_count": null,
   "id": "phantom-policy",
   "metadata": {},
   "outputs": [],
   "source": []
  },
  {
   "cell_type": "code",
   "execution_count": null,
   "id": "herbal-court",
   "metadata": {},
   "outputs": [],
   "source": []
  },
  {
   "cell_type": "code",
   "execution_count": 270,
   "id": "metallic-stanford",
   "metadata": {},
   "outputs": [
    {
     "ename": "KeyboardInterrupt",
     "evalue": "Interrupted by user",
     "output_type": "error",
     "traceback": [
      "\u001b[0;31m---------------------------------------------------------------------------\u001b[0m",
      "\u001b[0;31mKeyboardInterrupt\u001b[0m                         Traceback (most recent call last)",
      "\u001b[0;32m<ipython-input-270-95b92c07ef56>\u001b[0m in \u001b[0;36m<module>\u001b[0;34m\u001b[0m\n\u001b[0;32m----> 1\u001b[0;31m \u001b[0muser_ingredient\u001b[0m\u001b[0;34m(\u001b[0m\u001b[0;34m)\u001b[0m\u001b[0;34m\u001b[0m\u001b[0;34m\u001b[0m\u001b[0m\n\u001b[0m",
      "\u001b[0;32m<ipython-input-231-65b160132ddf>\u001b[0m in \u001b[0;36muser_ingredient\u001b[0;34m()\u001b[0m\n\u001b[1;32m      2\u001b[0m     \u001b[0;32mfrom\u001b[0m \u001b[0mrandom\u001b[0m \u001b[0;32mimport\u001b[0m \u001b[0mrandint\u001b[0m\u001b[0;34m\u001b[0m\u001b[0;34m\u001b[0m\u001b[0m\n\u001b[1;32m      3\u001b[0m     \u001b[0;31m#input from user\u001b[0m\u001b[0;34m\u001b[0m\u001b[0;34m\u001b[0m\u001b[0;34m\u001b[0m\u001b[0m\n\u001b[0;32m----> 4\u001b[0;31m     \u001b[0mingredient_choice\u001b[0m\u001b[0;34m=\u001b[0m\u001b[0minput\u001b[0m\u001b[0;34m(\u001b[0m\u001b[0;34m\"Pick an ingredient\"\u001b[0m\u001b[0;34m)\u001b[0m\u001b[0;34m\u001b[0m\u001b[0;34m\u001b[0m\u001b[0m\n\u001b[0m\u001b[1;32m      5\u001b[0m     \u001b[0;32mif\u001b[0m \u001b[0mlen\u001b[0m\u001b[0;34m(\u001b[0m\u001b[0mingredient_choice\u001b[0m\u001b[0;34m)\u001b[0m\u001b[0;34m==\u001b[0m\u001b[0;36m0\u001b[0m\u001b[0;34m:\u001b[0m\u001b[0;34m\u001b[0m\u001b[0;34m\u001b[0m\u001b[0m\n\u001b[1;32m      6\u001b[0m         \u001b[0mprint\u001b[0m\u001b[0;34m(\u001b[0m\u001b[0;34m\"it looks like you can't think of an ingredient at the moment\"\u001b[0m\u001b[0;34m)\u001b[0m\u001b[0;34m\u001b[0m\u001b[0;34m\u001b[0m\u001b[0m\n",
      "\u001b[0;32m~/opt/miniconda3/lib/python3.8/site-packages/ipykernel/kernelbase.py\u001b[0m in \u001b[0;36mraw_input\u001b[0;34m(self, prompt)\u001b[0m\n\u001b[1;32m    846\u001b[0m                 \u001b[0;34m\"raw_input was called, but this frontend does not support input requests.\"\u001b[0m\u001b[0;34m\u001b[0m\u001b[0;34m\u001b[0m\u001b[0m\n\u001b[1;32m    847\u001b[0m             )\n\u001b[0;32m--> 848\u001b[0;31m         return self._input_request(str(prompt),\n\u001b[0m\u001b[1;32m    849\u001b[0m             \u001b[0mself\u001b[0m\u001b[0;34m.\u001b[0m\u001b[0m_parent_ident\u001b[0m\u001b[0;34m,\u001b[0m\u001b[0;34m\u001b[0m\u001b[0;34m\u001b[0m\u001b[0m\n\u001b[1;32m    850\u001b[0m             \u001b[0mself\u001b[0m\u001b[0;34m.\u001b[0m\u001b[0m_parent_header\u001b[0m\u001b[0;34m,\u001b[0m\u001b[0;34m\u001b[0m\u001b[0;34m\u001b[0m\u001b[0m\n",
      "\u001b[0;32m~/opt/miniconda3/lib/python3.8/site-packages/ipykernel/kernelbase.py\u001b[0m in \u001b[0;36m_input_request\u001b[0;34m(self, prompt, ident, parent, password)\u001b[0m\n\u001b[1;32m    890\u001b[0m             \u001b[0;32mexcept\u001b[0m \u001b[0mKeyboardInterrupt\u001b[0m\u001b[0;34m:\u001b[0m\u001b[0;34m\u001b[0m\u001b[0;34m\u001b[0m\u001b[0m\n\u001b[1;32m    891\u001b[0m                 \u001b[0;31m# re-raise KeyboardInterrupt, to truncate traceback\u001b[0m\u001b[0;34m\u001b[0m\u001b[0;34m\u001b[0m\u001b[0;34m\u001b[0m\u001b[0m\n\u001b[0;32m--> 892\u001b[0;31m                 \u001b[0;32mraise\u001b[0m \u001b[0mKeyboardInterrupt\u001b[0m\u001b[0;34m(\u001b[0m\u001b[0;34m\"Interrupted by user\"\u001b[0m\u001b[0;34m)\u001b[0m \u001b[0;32mfrom\u001b[0m \u001b[0;32mNone\u001b[0m\u001b[0;34m\u001b[0m\u001b[0;34m\u001b[0m\u001b[0m\n\u001b[0m\u001b[1;32m    893\u001b[0m             \u001b[0;32mexcept\u001b[0m \u001b[0mException\u001b[0m \u001b[0;32mas\u001b[0m \u001b[0me\u001b[0m\u001b[0;34m:\u001b[0m\u001b[0;34m\u001b[0m\u001b[0;34m\u001b[0m\u001b[0m\n\u001b[1;32m    894\u001b[0m                 \u001b[0mself\u001b[0m\u001b[0;34m.\u001b[0m\u001b[0mlog\u001b[0m\u001b[0;34m.\u001b[0m\u001b[0mwarning\u001b[0m\u001b[0;34m(\u001b[0m\u001b[0;34m\"Invalid Message:\"\u001b[0m\u001b[0;34m,\u001b[0m \u001b[0mexc_info\u001b[0m\u001b[0;34m=\u001b[0m\u001b[0;32mTrue\u001b[0m\u001b[0;34m)\u001b[0m\u001b[0;34m\u001b[0m\u001b[0;34m\u001b[0m\u001b[0m\n",
      "\u001b[0;31mKeyboardInterrupt\u001b[0m: Interrupted by user"
     ]
    }
   ],
   "source": [
    "\n",
    "user_ingredient() "
   ]
  },
  {
   "cell_type": "code",
   "execution_count": null,
   "id": "exclusive-republican",
   "metadata": {},
   "outputs": [],
   "source": []
  },
  {
   "cell_type": "code",
   "execution_count": 87,
   "id": "liquid-trade",
   "metadata": {},
   "outputs": [],
   "source": [
    "def available_ingredient(ingredients):\n",
    "    if ingredients.lower() in df['ingredients']:\n",
    "        return(df['recipe_title'][random.randint(1,len(df)-1)].recipe_title())\n",
    "    else:\n",
    "        return(\"*\")"
   ]
  },
  {
   "cell_type": "code",
   "execution_count": 85,
   "id": "judicial-parameter",
   "metadata": {},
   "outputs": [],
   "source": [
    "#function to validate user input\n",
    "import re\n",
    "\n",
    "def validate_input(text):\n",
    "    ''' Parameters: text entered by user in input\n",
    "        Results: returns true if it's a possible song, false otherwise\n",
    "    '''\n",
    "    #the user entered nothing\n",
    "    if len(text) == 0:\n",
    "        return False\n",
    "    #some songs start or contain numbers, ex: 4 Da Gang\n",
    "    else:\n",
    "        return True"
   ]
  },
  {
   "cell_type": "code",
   "execution_count": 88,
   "id": "small-plymouth",
   "metadata": {},
   "outputs": [
    {
     "name": "stdout",
     "output_type": "stream",
     "text": [
      ">> Enter an ingredient: salt\n",
      "Recommended for you:  *\n"
     ]
    },
    {
     "ename": "KeyboardInterrupt",
     "evalue": "Interrupted by user",
     "output_type": "error",
     "traceback": [
      "\u001b[0;31m---------------------------------------------------------------------------\u001b[0m",
      "\u001b[0;31mKeyboardInterrupt\u001b[0m                         Traceback (most recent call last)",
      "\u001b[0;32m<ipython-input-88-dc7ad8241148>\u001b[0m in \u001b[0;36m<module>\u001b[0;34m\u001b[0m\n\u001b[1;32m      1\u001b[0m \u001b[0;32mwhile\u001b[0m \u001b[0;32mTrue\u001b[0m\u001b[0;34m:\u001b[0m\u001b[0;34m\u001b[0m\u001b[0;34m\u001b[0m\u001b[0m\n\u001b[1;32m      2\u001b[0m     \u001b[0;31m#ask the user for an ingredient\u001b[0m\u001b[0;34m\u001b[0m\u001b[0;34m\u001b[0m\u001b[0;34m\u001b[0m\u001b[0m\n\u001b[0;32m----> 3\u001b[0;31m     \u001b[0muser_ingredient\u001b[0m \u001b[0;34m=\u001b[0m \u001b[0minput\u001b[0m\u001b[0;34m(\u001b[0m\u001b[0;34m\">> Enter an ingredient: \"\u001b[0m\u001b[0;34m)\u001b[0m\u001b[0;34m\u001b[0m\u001b[0;34m\u001b[0m\u001b[0m\n\u001b[0m\u001b[1;32m      4\u001b[0m     \u001b[0;32mif\u001b[0m \u001b[0muser_ingredient\u001b[0m \u001b[0;34m==\u001b[0m\u001b[0;34m'!'\u001b[0m\u001b[0;34m:\u001b[0m\u001b[0;34m\u001b[0m\u001b[0;34m\u001b[0m\u001b[0m\n\u001b[1;32m      5\u001b[0m         \u001b[0mprint\u001b[0m\u001b[0;34m(\u001b[0m\u001b[0;34m\"Guten appetit! Bye :)\"\u001b[0m\u001b[0;34m)\u001b[0m\u001b[0;34m\u001b[0m\u001b[0;34m\u001b[0m\u001b[0m\n",
      "\u001b[0;32m~/opt/miniconda3/lib/python3.8/site-packages/ipykernel/kernelbase.py\u001b[0m in \u001b[0;36mraw_input\u001b[0;34m(self, prompt)\u001b[0m\n\u001b[1;32m    846\u001b[0m                 \u001b[0;34m\"raw_input was called, but this frontend does not support input requests.\"\u001b[0m\u001b[0;34m\u001b[0m\u001b[0;34m\u001b[0m\u001b[0m\n\u001b[1;32m    847\u001b[0m             )\n\u001b[0;32m--> 848\u001b[0;31m         return self._input_request(str(prompt),\n\u001b[0m\u001b[1;32m    849\u001b[0m             \u001b[0mself\u001b[0m\u001b[0;34m.\u001b[0m\u001b[0m_parent_ident\u001b[0m\u001b[0;34m,\u001b[0m\u001b[0;34m\u001b[0m\u001b[0;34m\u001b[0m\u001b[0m\n\u001b[1;32m    850\u001b[0m             \u001b[0mself\u001b[0m\u001b[0;34m.\u001b[0m\u001b[0m_parent_header\u001b[0m\u001b[0;34m,\u001b[0m\u001b[0;34m\u001b[0m\u001b[0;34m\u001b[0m\u001b[0m\n",
      "\u001b[0;32m~/opt/miniconda3/lib/python3.8/site-packages/ipykernel/kernelbase.py\u001b[0m in \u001b[0;36m_input_request\u001b[0;34m(self, prompt, ident, parent, password)\u001b[0m\n\u001b[1;32m    890\u001b[0m             \u001b[0;32mexcept\u001b[0m \u001b[0mKeyboardInterrupt\u001b[0m\u001b[0;34m:\u001b[0m\u001b[0;34m\u001b[0m\u001b[0;34m\u001b[0m\u001b[0m\n\u001b[1;32m    891\u001b[0m                 \u001b[0;31m# re-raise KeyboardInterrupt, to truncate traceback\u001b[0m\u001b[0;34m\u001b[0m\u001b[0;34m\u001b[0m\u001b[0;34m\u001b[0m\u001b[0m\n\u001b[0;32m--> 892\u001b[0;31m                 \u001b[0;32mraise\u001b[0m \u001b[0mKeyboardInterrupt\u001b[0m\u001b[0;34m(\u001b[0m\u001b[0;34m\"Interrupted by user\"\u001b[0m\u001b[0;34m)\u001b[0m \u001b[0;32mfrom\u001b[0m \u001b[0;32mNone\u001b[0m\u001b[0;34m\u001b[0m\u001b[0;34m\u001b[0m\u001b[0m\n\u001b[0m\u001b[1;32m    893\u001b[0m             \u001b[0;32mexcept\u001b[0m \u001b[0mException\u001b[0m \u001b[0;32mas\u001b[0m \u001b[0me\u001b[0m\u001b[0;34m:\u001b[0m\u001b[0;34m\u001b[0m\u001b[0;34m\u001b[0m\u001b[0m\n\u001b[1;32m    894\u001b[0m                 \u001b[0mself\u001b[0m\u001b[0;34m.\u001b[0m\u001b[0mlog\u001b[0m\u001b[0;34m.\u001b[0m\u001b[0mwarning\u001b[0m\u001b[0;34m(\u001b[0m\u001b[0;34m\"Invalid Message:\"\u001b[0m\u001b[0;34m,\u001b[0m \u001b[0mexc_info\u001b[0m\u001b[0;34m=\u001b[0m\u001b[0;32mTrue\u001b[0m\u001b[0;34m)\u001b[0m\u001b[0;34m\u001b[0m\u001b[0;34m\u001b[0m\u001b[0m\n",
      "\u001b[0;31mKeyboardInterrupt\u001b[0m: Interrupted by user"
     ]
    }
   ],
   "source": [
    "while True:\n",
    "    #ask the user for an ingredient\n",
    "    user_ingredient = input(\">> Enter an ingredient: \")\n",
    "    if user_ingredient =='!':\n",
    "        print(\"Guten appetit! Bye :)\")\n",
    "        break\n",
    "    if validate_input(user_ingredient):\n",
    "        #apply the recommendation function\n",
    "        result = available_ingredient(user_ingredient)\n",
    "        if result ==\"***\":\n",
    "            print(\"You're gonna like this recipe: \") \n",
    "            get_random_song_cluster(user_song)\n",
    "        else:\n",
    "            print(\"Recommended for you: \", result)\n",
    "    else:\n",
    "        print(\"That's not a song, try again!\")"
   ]
  },
  {
   "cell_type": "code",
   "execution_count": null,
   "id": "anonymous-society",
   "metadata": {},
   "outputs": [],
   "source": []
  },
  {
   "cell_type": "code",
   "execution_count": null,
   "id": "partial-minneapolis",
   "metadata": {},
   "outputs": [],
   "source": []
  },
  {
   "cell_type": "code",
   "execution_count": null,
   "id": "private-safety",
   "metadata": {},
   "outputs": [],
   "source": []
  }
 ],
 "metadata": {
  "kernelspec": {
   "display_name": "Python 3",
   "language": "python",
   "name": "python3"
  },
  "language_info": {
   "codemirror_mode": {
    "name": "ipython",
    "version": 3
   },
   "file_extension": ".py",
   "mimetype": "text/x-python",
   "name": "python",
   "nbconvert_exporter": "python",
   "pygments_lexer": "ipython3",
   "version": "3.8.5"
  }
 },
 "nbformat": 4,
 "nbformat_minor": 5
}

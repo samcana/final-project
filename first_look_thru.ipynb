{
 "cells": [
  {
   "cell_type": "code",
   "execution_count": 22,
   "id": "subjective-efficiency",
   "metadata": {},
   "outputs": [],
   "source": [
    "import pandas as pd\n",
    "\n",
    "df = pd.read_csv('food_recipes.csv')"
   ]
  },
  {
   "cell_type": "code",
   "execution_count": 23,
   "id": "seven-peripheral",
   "metadata": {},
   "outputs": [
    {
     "data": {
      "text/plain": [
       "'Arhar dal (Split Toor Dal)|Turmeric powder (Haldi)|Salt|Dry Red Chillies|Mustard seeds (Rai/ Kadugu)|Asafoetida (hing)|Curry leaves|Coriander (Dhania) Leaves'"
      ]
     },
     "execution_count": 23,
     "metadata": {},
     "output_type": "execute_result"
    }
   ],
   "source": [
    "df['ingredients'][3]"
   ]
  },
  {
   "cell_type": "code",
   "execution_count": 76,
   "id": "abstract-divide",
   "metadata": {},
   "outputs": [
    {
     "data": {
      "text/html": [
       "<div>\n",
       "<style scoped>\n",
       "    .dataframe tbody tr th:only-of-type {\n",
       "        vertical-align: middle;\n",
       "    }\n",
       "\n",
       "    .dataframe tbody tr th {\n",
       "        vertical-align: top;\n",
       "    }\n",
       "\n",
       "    .dataframe thead th {\n",
       "        text-align: right;\n",
       "    }\n",
       "</style>\n",
       "<table border=\"1\" class=\"dataframe\">\n",
       "  <thead>\n",
       "    <tr style=\"text-align: right;\">\n",
       "      <th></th>\n",
       "      <th>recipe_title</th>\n",
       "      <th>url</th>\n",
       "      <th>record_health</th>\n",
       "      <th>vote_count</th>\n",
       "      <th>rating</th>\n",
       "      <th>description</th>\n",
       "      <th>cuisine</th>\n",
       "      <th>course</th>\n",
       "      <th>diet</th>\n",
       "      <th>prep_time</th>\n",
       "      <th>cook_time</th>\n",
       "      <th>ingredients</th>\n",
       "      <th>instructions</th>\n",
       "      <th>author</th>\n",
       "      <th>tags</th>\n",
       "      <th>category</th>\n",
       "    </tr>\n",
       "  </thead>\n",
       "  <tbody>\n",
       "    <tr>\n",
       "      <th>0</th>\n",
       "      <td>Roasted Peppers And Mushroom Tortilla Pizza Recipe</td>\n",
       "      <td>https://www.archanaskitchen.com/roasted-peppers-and-mushroom-tortilla-pizza-recipe</td>\n",
       "      <td>good</td>\n",
       "      <td>434</td>\n",
       "      <td>4.958525</td>\n",
       "      <td>is a quicker version pizza to satisfy your cravings. It is a very quick and easy recipe for days that you do not feel like cooking a full fledged meal. With the preference of toppings of your choice this pizza recipe is definitely a winner at any home. The toppings used in this  has some roasted peppers, mushroom with loaded cheese and marinara sauce. Enjoy this easy recipe with your favorite toppings.  This is a great recipe, if you are looking for an Indian/Fusion Pizza or a Homemade Pizza recipe. Serve  along with   and   for a weekend night dinner. If you like this recipe, you can also try other  for your weekend dinner:</td>\n",
       "      <td>Mexican</td>\n",
       "      <td>Dinner</td>\n",
       "      <td>Vegetarian</td>\n",
       "      <td>15 M</td>\n",
       "      <td>15 M</td>\n",
       "      <td>tortillas|extra virgin olive oil|garlic|mozzarella cheese|red yellow or green bell pepper (capsicum)|onions|kalmatta olives|button mushrooms</td>\n",
       "      <td>To begin making the Roasted Peppers And Mushroom Tortilla Pizza recipe, turn your oven setting to broiler and keep it ready.|Grease your cast iron skillet with some olive oil and heat it over high heat.|When it starts to shimmer bring down the heat to medium. Add olive oil and minced garlic to the marinara sauce and stir to combine, keep aside.|Place one tortilla on the cast iron skillet. Spread a thin layer of marinara sauce over the tortilla.|Spread the cheese as needed. When the cheese starts to melt, add in the toppings which includes onion, mushrooms, olives and bell peppers.|Now shift the cast iron skillet to the oven which is already under broiler setting.|When you see the cheese all melted and top starting to brown, remove and slice to serve.|Serve Roasted Peppers And Mushroom Tortilla Pizza along with | and | for a weekend night dinner.</td>\n",
       "      <td>Divya Shivaraman</td>\n",
       "      <td>Party Food Recipes|Tea Party Recipes|Mushroom Recipes|Fusion Recipes|Tortilla Recipe|Bell Peppers Recipes</td>\n",
       "      <td>Pizza Recipes</td>\n",
       "    </tr>\n",
       "    <tr>\n",
       "      <th>1</th>\n",
       "      <td>Thakkali Gotsu Recipe | Thakkali Curry | Spicy &amp; Tangy Tomato Gravy</td>\n",
       "      <td>https://www.archanaskitchen.com/tomato-gotsu-recipe-spicy-tangy-tomato-gravy</td>\n",
       "      <td>good</td>\n",
       "      <td>3423</td>\n",
       "      <td>4.932223</td>\n",
       "      <td>also known as the   is a quick and easy to make, spicy and tangy tomato gravy you can prepare for a change as a breakfast accompaniment or even as a side dish along with Ven Pongal, Khichdi, Paratha or Dosa.  Tomato Gotsu that is packed with simple flavours from roasted baby onions simmered along with tamarind and sambar powder giving it that delectable taste. Serve   with   and  for breakfast. Browse here for more accompaniments of South Indian cuisine</td>\n",
       "      <td>South Indian Recipes</td>\n",
       "      <td>Lunch</td>\n",
       "      <td>Vegetarian</td>\n",
       "      <td>10 M</td>\n",
       "      <td>20 M</td>\n",
       "      <td>sesame (gingelly) oil|mustard seeds (rai/ kadugu)|curry leaves|garlic|pearl onions (sambar onions)|tomatoes|tamarind|turmeric powder (haldi)|salt|jaggery</td>\n",
       "      <td>To begin making Tomato Gotsu Recipe/ Thakkali Curry Recipe, prepare all the ingredients and keep them ready.|Soak the tamarind in hot water for 20 minutes. Extract the water from the tamarind to get about 1/2 cup of thick tamarind.|Roughly chop the tomatoes and pulse the chopped tomatoes in a mixer grinder. You want a chunky sauce and not a fine puree. This will help add texture to the Tomato Gotsu.|Heat oil in a pressure cooker on medium heat, add the mustard seeds and allow it to crackle. Add the curry leaves, garlic and onions and saute until the onions turn tender and translucent. |Now, add the crushed  tomatoes, tamarind water, turmeric powder, sambar powder,  salt and jaggery. Stir the Tomato Gotsu and pressure cook for 2 whistles.|Turn off the heat and allow the pressure to release naturally. Once the pressure releases, open the cooker and give the Tomato Gotsu/ Thakkali Curry a stir. |Check the salt and spices and adjust to taste accordingly. Transfer the Tomato Gotsu/ Thakkali Curry to a serving bowl and serve hot.|Serve Tomato Gotsu / Thakkali Curry with | and |for breakfast.</td>\n",
       "      <td>Archana Doshi</td>\n",
       "      <td>Vegetarian Recipes|Tomato Recipes|South Indian Recipes|Breakfast Recipe Ideas</td>\n",
       "      <td>Indian Curry Recipes</td>\n",
       "    </tr>\n",
       "    <tr>\n",
       "      <th>2</th>\n",
       "      <td>Spicy Grilled Pineapple Salsa Recipe</td>\n",
       "      <td>https://www.archanaskitchen.com/spicy-grilled-pineapple-salsa-recipe</td>\n",
       "      <td>good</td>\n",
       "      <td>2091</td>\n",
       "      <td>4.945959</td>\n",
       "      <td>Spicy Grilled Pineapple Salsa is a simple recipe of a tropical salsa and is bursting with sweet and spicy flavors. It's the perfect summer dish, best served cold. Grilled Pineapple Salsa can be enjoyed on its own or it can be filled in the tacos along with chili beans and sour cream. Spicy Grilled Pineapple Salsa can be a great appetizer for the barbecue party as well along with some nachos.  Serve Spicy Grilled Pineapple Salsa along   as an appetizer along with a meal of   and   for dessert. Other recipes that you can try are:</td>\n",
       "      <td>Mexican</td>\n",
       "      <td>Side Dish</td>\n",
       "      <td>Vegetarian</td>\n",
       "      <td>10 M</td>\n",
       "      <td>0 M</td>\n",
       "      <td>extra virgin olive oil|pineapple|white onion|red yellow and green bell peppers (capsicum)|pickled jalapenos|coriander (dhania) leaves|mint leaves (pudina)|salt|lemon juice|paprika powder</td>\n",
       "      <td>To begin making the Spicy Grilled Pineapple Salsa Recipe, start by prepping all the ingredients and fine chopping the elements. |Heat oil in a grill pan over medium heat; place the sliced pineapple and sprinkle with salt. Cover the pan and cook the pineapple until it's soft and has lightly grilled texture. Keep turning it around until golden brown on both sides.|Once done, allow it to cool and finely chop the pineapple.|In a large mixing bowl, combine the grilled pineapple, onions, jalapenos, bell peppers, coriander leaves and mint leaves. Give it a good mix. |Finally toss in the salt, lemon juice and smoked paprika to make the Grilled Pineapple Salsa.|Refrigerate the Grilled Pineapple Salsa for at least 2 hours and serve chilled|Serve Spicy Grilled Pineapple Salsa along | as an appetizer along with a meal of | and | for dessert.</td>\n",
       "      <td>Archana's Kitchen</td>\n",
       "      <td>Party Starter &amp; Appetizer Recipes|Pineapple Recipes|Salsa Recipes</td>\n",
       "      <td>Mexican Recipes</td>\n",
       "    </tr>\n",
       "    <tr>\n",
       "      <th>3</th>\n",
       "      <td>Karwar Style Dali Thoy Recipe - Toor dal Curry</td>\n",
       "      <td>https://www.archanaskitchen.com/dali-thoy-recipe-karwar-style-toor-dal-curry</td>\n",
       "      <td>good</td>\n",
       "      <td>990</td>\n",
       "      <td>4.888889</td>\n",
       "      <td>The   is a quintessential of Konkani dish which is popular among Mangaloreans from Kongunadu. It is a spiced toor dal stew dish which is a simple dish. When you crave for something very light, comforting yet delicious you can rely on this simple curry. Serve the   with   to make a simple satisfying meal.  Take a look at more Karwar Style recipes that you could also try :</td>\n",
       "      <td>Coastal Karnataka</td>\n",
       "      <td>Side Dish</td>\n",
       "      <td>High Protein Vegetarian</td>\n",
       "      <td>5 M</td>\n",
       "      <td>20 M</td>\n",
       "      <td>arhar dal (split toor dal)|turmeric powder (haldi)|salt|dry red chilli|mustard seeds (rai/ kadugu)|asafoetida (hing)|curry leaves|coriander (dhania) leaves</td>\n",
       "      <td>To prepare Karwar Style Dali Thoy Recipe (Toor dal Curry), rinse toor dal in water and then pressure cook with 1 cup water and turmeric powder for about 2 whistles.|turn off the flame an allow the pressure to release naturally. |In a pan heat ghee on medium flame. Add mustard seeds and let it splutter.|Then add dried red chilies, hing, and curry leaves. Saute till curry leaves splutter and turn off the heat.|Mash the cooked dal well, add salt to taste. Add the tempering and fresh coriander leaves. Mix well.|Serve the Karwar Style Dali Thoy Recipe (Toor dal Curry) with | to make a simple satisfying meal.</td>\n",
       "      <td>Jyothi Rajesh</td>\n",
       "      <td>Side Dish Recipes|South Indian Recipes|Indian Lunch Recipes|Indian Vegetarian Recipes|Toor Dal Recipes (Pigeon Pea)</td>\n",
       "      <td>Indian Curry Recipes</td>\n",
       "    </tr>\n",
       "    <tr>\n",
       "      <th>4</th>\n",
       "      <td>Rajma Kofta In Milk And Poppy Seed Gravy Recipe</td>\n",
       "      <td>https://www.archanaskitchen.com/rajma-kofta-in-milk-and-poppy-seed-gravy-recipe</td>\n",
       "      <td>good</td>\n",
       "      <td>345</td>\n",
       "      <td>4.828986</td>\n",
       "      <td>Koftas are traditional Indian recipes mostly well done by the vegetarians. A peculiar variation is the key for making interesting koftas and this Rajma Kofta In Milk And Poppy Seed Gravy Recipe uses cooked rajma paste instead of regular besan, lentils etc as the basic ingredient to make the yummy kofta balls for shallow frying in paniyaram pan. Once fried those can be served as an appetizer but I have cooked a special gravy with milk and poppy seeds paste to make this recipe a delightful vegetarian side dish which can be served with various flatbreads or rice recipes. Serve Rajma Kofta In Milk And Poppy Seed Gravy Recipe along with   and   for lunch or dinner with   to complete the meal. If you like this recipe, try more recipes like</td>\n",
       "      <td>North Indian Recipes</td>\n",
       "      <td>Side Dish</td>\n",
       "      <td>High Protein Vegetarian</td>\n",
       "      <td>20 M</td>\n",
       "      <td>30 M</td>\n",
       "      <td>rajma (large kidney beans)|cashew nuts|sultana raisins|asafoetida (hing)|cumin seeds (jeera)|gram flour (besan)|red chilli powder|coriander (dhania) leaves|poppy seeds|fresh cream|milk|water|salt|saffron strands</td>\n",
       "      <td>To begin making Rajma Kofta In Milk And Poppy Seed Gravy Recipe, prepare the koftas first. Remember to first soak the rajma overnight and pressure cook with salt until the rajma is cooked and softened.|Blend the boiled rajma, besan, cashew, raisins, chilli powder, hing, coriander leaves and salt in a food processor. Check for seasoning and adjust. Spread this mashed spiced rajma on a thali or a large plate. Make small round balls of rajma kofta with your palm.|Heat a frying pan with half ghee and fry the kofta balls for about 10 minutes. Set aside.|What you can also do is, heat a kuzhi paniyaram pan, drop in a few drops of oil into each cavity and put in these balls into each cavity. Once browned on the bottom, you can rotate the kofta balls and brown them evenly from the other side as well. This is a healthier way to prepare koftas instead of deep frying them in traditional way.|Take a kadai and heat ghee, add cumin and allow to sizzle.|Once sizzling, add in milk, cream, poppy seed paste and garam masala powder. Add salt and stir. Add water only if needed.|Cook till the mixture comes to one boil and add the koftas and Switch off heat after half a minute. Serve with your favourite garnish like saffron or coriander leaves.|Serve Rajma Kofta In Milk And Poppy Seed Gravy Recipe along with | and | for lunch or dinner with | to complete the meal.</td>\n",
       "      <td>RUBY PATHAK</td>\n",
       "      <td>Side Dish Recipes|Indian Lunch Recipes|Office Lunch Box Recipes|Rajma Kidney Bean Recipes|Poppy Seeds Recipes</td>\n",
       "      <td>Kofta Recipes</td>\n",
       "    </tr>\n",
       "  </tbody>\n",
       "</table>\n",
       "</div>"
      ],
      "text/plain": [
       "                                                          recipe_title  \\\n",
       "0                   Roasted Peppers And Mushroom Tortilla Pizza Recipe   \n",
       "1  Thakkali Gotsu Recipe | Thakkali Curry | Spicy & Tangy Tomato Gravy   \n",
       "2                                 Spicy Grilled Pineapple Salsa Recipe   \n",
       "3                       Karwar Style Dali Thoy Recipe - Toor dal Curry   \n",
       "4                      Rajma Kofta In Milk And Poppy Seed Gravy Recipe   \n",
       "\n",
       "                                                                                  url  \\\n",
       "0  https://www.archanaskitchen.com/roasted-peppers-and-mushroom-tortilla-pizza-recipe   \n",
       "1        https://www.archanaskitchen.com/tomato-gotsu-recipe-spicy-tangy-tomato-gravy   \n",
       "2                https://www.archanaskitchen.com/spicy-grilled-pineapple-salsa-recipe   \n",
       "3        https://www.archanaskitchen.com/dali-thoy-recipe-karwar-style-toor-dal-curry   \n",
       "4     https://www.archanaskitchen.com/rajma-kofta-in-milk-and-poppy-seed-gravy-recipe   \n",
       "\n",
       "  record_health  vote_count    rating  \\\n",
       "0          good         434  4.958525   \n",
       "1          good        3423  4.932223   \n",
       "2          good        2091  4.945959   \n",
       "3          good         990  4.888889   \n",
       "4          good         345  4.828986   \n",
       "\n",
       "                                                                                                                                                                                                                                                                                                                                                                                                                                                                                                                                                                                                                                                                                                                                                               description  \\\n",
       "0                                                                                                                 is a quicker version pizza to satisfy your cravings. It is a very quick and easy recipe for days that you do not feel like cooking a full fledged meal. With the preference of toppings of your choice this pizza recipe is definitely a winner at any home. The toppings used in this  has some roasted peppers, mushroom with loaded cheese and marinara sauce. Enjoy this easy recipe with your favorite toppings.  This is a great recipe, if you are looking for an Indian/Fusion Pizza or a Homemade Pizza recipe. Serve  along with   and   for a weekend night dinner. If you like this recipe, you can also try other  for your weekend dinner:   \n",
       "1                                                                                                                                                                                                                                                                                                also known as the   is a quick and easy to make, spicy and tangy tomato gravy you can prepare for a change as a breakfast accompaniment or even as a side dish along with Ven Pongal, Khichdi, Paratha or Dosa.  Tomato Gotsu that is packed with simple flavours from roasted baby onions simmered along with tamarind and sambar powder giving it that delectable taste. Serve   with   and  for breakfast. Browse here for more accompaniments of South Indian cuisine   \n",
       "2                                                                                                                                                                                                                    Spicy Grilled Pineapple Salsa is a simple recipe of a tropical salsa and is bursting with sweet and spicy flavors. It's the perfect summer dish, best served cold. Grilled Pineapple Salsa can be enjoyed on its own or it can be filled in the tacos along with chili beans and sour cream. Spicy Grilled Pineapple Salsa can be a great appetizer for the barbecue party as well along with some nachos.  Serve Spicy Grilled Pineapple Salsa along   as an appetizer along with a meal of   and   for dessert. Other recipes that you can try are:   \n",
       "3                                                                                                                                                                                                                                                                                                                                                                                   The   is a quintessential of Konkani dish which is popular among Mangaloreans from Kongunadu. It is a spiced toor dal stew dish which is a simple dish. When you crave for something very light, comforting yet delicious you can rely on this simple curry. Serve the   with   to make a simple satisfying meal.  Take a look at more Karwar Style recipes that you could also try :    \n",
       "4  Koftas are traditional Indian recipes mostly well done by the vegetarians. A peculiar variation is the key for making interesting koftas and this Rajma Kofta In Milk And Poppy Seed Gravy Recipe uses cooked rajma paste instead of regular besan, lentils etc as the basic ingredient to make the yummy kofta balls for shallow frying in paniyaram pan. Once fried those can be served as an appetizer but I have cooked a special gravy with milk and poppy seeds paste to make this recipe a delightful vegetarian side dish which can be served with various flatbreads or rice recipes. Serve Rajma Kofta In Milk And Poppy Seed Gravy Recipe along with   and   for lunch or dinner with   to complete the meal. If you like this recipe, try more recipes like   \n",
       "\n",
       "                cuisine     course                     diet prep_time  \\\n",
       "0               Mexican     Dinner               Vegetarian      15 M   \n",
       "1  South Indian Recipes      Lunch               Vegetarian      10 M   \n",
       "2               Mexican  Side Dish               Vegetarian      10 M   \n",
       "3     Coastal Karnataka  Side Dish  High Protein Vegetarian       5 M   \n",
       "4  North Indian Recipes  Side Dish  High Protein Vegetarian      20 M   \n",
       "\n",
       "  cook_time  \\\n",
       "0      15 M   \n",
       "1      20 M   \n",
       "2       0 M   \n",
       "3      20 M   \n",
       "4      30 M   \n",
       "\n",
       "                                                                                                                                                                                                           ingredients  \\\n",
       "0                                                                         tortillas|extra virgin olive oil|garlic|mozzarella cheese|red yellow or green bell pepper (capsicum)|onions|kalmatta olives|button mushrooms   \n",
       "1                                                            sesame (gingelly) oil|mustard seeds (rai/ kadugu)|curry leaves|garlic|pearl onions (sambar onions)|tomatoes|tamarind|turmeric powder (haldi)|salt|jaggery   \n",
       "2                           extra virgin olive oil|pineapple|white onion|red yellow and green bell peppers (capsicum)|pickled jalapenos|coriander (dhania) leaves|mint leaves (pudina)|salt|lemon juice|paprika powder   \n",
       "3                                                          arhar dal (split toor dal)|turmeric powder (haldi)|salt|dry red chilli|mustard seeds (rai/ kadugu)|asafoetida (hing)|curry leaves|coriander (dhania) leaves   \n",
       "4  rajma (large kidney beans)|cashew nuts|sultana raisins|asafoetida (hing)|cumin seeds (jeera)|gram flour (besan)|red chilli powder|coriander (dhania) leaves|poppy seeds|fresh cream|milk|water|salt|saffron strands   \n",
       "\n",
       "                                                                                                                                                                                                                                                                                                                                                                                                                                                                                                                                                                                                                                                                                                                                                                                                                                                                                                                                                                                                                                                                                                                                                                                                                                                                                                                                                                                                          instructions  \\\n",
       "0                                                                                                                                                                                                                                                                                                                                                                                                                                                                                                                            To begin making the Roasted Peppers And Mushroom Tortilla Pizza recipe, turn your oven setting to broiler and keep it ready.|Grease your cast iron skillet with some olive oil and heat it over high heat.|When it starts to shimmer bring down the heat to medium. Add olive oil and minced garlic to the marinara sauce and stir to combine, keep aside.|Place one tortilla on the cast iron skillet. Spread a thin layer of marinara sauce over the tortilla.|Spread the cheese as needed. When the cheese starts to melt, add in the toppings which includes onion, mushrooms, olives and bell peppers.|Now shift the cast iron skillet to the oven which is already under broiler setting.|When you see the cheese all melted and top starting to brown, remove and slice to serve.|Serve Roasted Peppers And Mushroom Tortilla Pizza along with | and | for a weekend night dinner.   \n",
       "1                                                                                                                                                                                                                                                                       To begin making Tomato Gotsu Recipe/ Thakkali Curry Recipe, prepare all the ingredients and keep them ready.|Soak the tamarind in hot water for 20 minutes. Extract the water from the tamarind to get about 1/2 cup of thick tamarind.|Roughly chop the tomatoes and pulse the chopped tomatoes in a mixer grinder. You want a chunky sauce and not a fine puree. This will help add texture to the Tomato Gotsu.|Heat oil in a pressure cooker on medium heat, add the mustard seeds and allow it to crackle. Add the curry leaves, garlic and onions and saute until the onions turn tender and translucent. |Now, add the crushed  tomatoes, tamarind water, turmeric powder, sambar powder,  salt and jaggery. Stir the Tomato Gotsu and pressure cook for 2 whistles.|Turn off the heat and allow the pressure to release naturally. Once the pressure releases, open the cooker and give the Tomato Gotsu/ Thakkali Curry a stir. |Check the salt and spices and adjust to taste accordingly. Transfer the Tomato Gotsu/ Thakkali Curry to a serving bowl and serve hot.|Serve Tomato Gotsu / Thakkali Curry with | and |for breakfast.   \n",
       "2                                                                                                                                                                                                                                                                                                                                                                                                                                                                                                                                           To begin making the Spicy Grilled Pineapple Salsa Recipe, start by prepping all the ingredients and fine chopping the elements. |Heat oil in a grill pan over medium heat; place the sliced pineapple and sprinkle with salt. Cover the pan and cook the pineapple until it's soft and has lightly grilled texture. Keep turning it around until golden brown on both sides.|Once done, allow it to cool and finely chop the pineapple.|In a large mixing bowl, combine the grilled pineapple, onions, jalapenos, bell peppers, coriander leaves and mint leaves. Give it a good mix. |Finally toss in the salt, lemon juice and smoked paprika to make the Grilled Pineapple Salsa.|Refrigerate the Grilled Pineapple Salsa for at least 2 hours and serve chilled|Serve Spicy Grilled Pineapple Salsa along | as an appetizer along with a meal of | and | for dessert.    \n",
       "3                                                                                                                                                                                                                                                                                                                                                                                                                                                                                                                                                                                                                                                                                                                                                                                   To prepare Karwar Style Dali Thoy Recipe (Toor dal Curry), rinse toor dal in water and then pressure cook with 1 cup water and turmeric powder for about 2 whistles.|turn off the flame an allow the pressure to release naturally. |In a pan heat ghee on medium flame. Add mustard seeds and let it splutter.|Then add dried red chilies, hing, and curry leaves. Saute till curry leaves splutter and turn off the heat.|Mash the cooked dal well, add salt to taste. Add the tempering and fresh coriander leaves. Mix well.|Serve the Karwar Style Dali Thoy Recipe (Toor dal Curry) with | to make a simple satisfying meal.   \n",
       "4  To begin making Rajma Kofta In Milk And Poppy Seed Gravy Recipe, prepare the koftas first. Remember to first soak the rajma overnight and pressure cook with salt until the rajma is cooked and softened.|Blend the boiled rajma, besan, cashew, raisins, chilli powder, hing, coriander leaves and salt in a food processor. Check for seasoning and adjust. Spread this mashed spiced rajma on a thali or a large plate. Make small round balls of rajma kofta with your palm.|Heat a frying pan with half ghee and fry the kofta balls for about 10 minutes. Set aside.|What you can also do is, heat a kuzhi paniyaram pan, drop in a few drops of oil into each cavity and put in these balls into each cavity. Once browned on the bottom, you can rotate the kofta balls and brown them evenly from the other side as well. This is a healthier way to prepare koftas instead of deep frying them in traditional way.|Take a kadai and heat ghee, add cumin and allow to sizzle.|Once sizzling, add in milk, cream, poppy seed paste and garam masala powder. Add salt and stir. Add water only if needed.|Cook till the mixture comes to one boil and add the koftas and Switch off heat after half a minute. Serve with your favourite garnish like saffron or coriander leaves.|Serve Rajma Kofta In Milk And Poppy Seed Gravy Recipe along with | and | for lunch or dinner with | to complete the meal.   \n",
       "\n",
       "              author  \\\n",
       "0  Divya Shivaraman    \n",
       "1      Archana Doshi   \n",
       "2  Archana's Kitchen   \n",
       "3      Jyothi Rajesh   \n",
       "4        RUBY PATHAK   \n",
       "\n",
       "                                                                                                                  tags  \\\n",
       "0            Party Food Recipes|Tea Party Recipes|Mushroom Recipes|Fusion Recipes|Tortilla Recipe|Bell Peppers Recipes   \n",
       "1                                        Vegetarian Recipes|Tomato Recipes|South Indian Recipes|Breakfast Recipe Ideas   \n",
       "2                                                    Party Starter & Appetizer Recipes|Pineapple Recipes|Salsa Recipes   \n",
       "3  Side Dish Recipes|South Indian Recipes|Indian Lunch Recipes|Indian Vegetarian Recipes|Toor Dal Recipes (Pigeon Pea)   \n",
       "4        Side Dish Recipes|Indian Lunch Recipes|Office Lunch Box Recipes|Rajma Kidney Bean Recipes|Poppy Seeds Recipes   \n",
       "\n",
       "               category  \n",
       "0         Pizza Recipes  \n",
       "1  Indian Curry Recipes  \n",
       "2       Mexican Recipes  \n",
       "3  Indian Curry Recipes  \n",
       "4         Kofta Recipes  "
      ]
     },
     "execution_count": 76,
     "metadata": {},
     "output_type": "execute_result"
    }
   ],
   "source": [
    "df.head()"
   ]
  },
  {
   "cell_type": "code",
   "execution_count": 42,
   "id": "accepted-stopping",
   "metadata": {},
   "outputs": [
    {
     "name": "stdout",
     "output_type": "stream",
     "text": [
      "<class 'pandas.core.frame.DataFrame'>\n",
      "Int64Index: 7997 entries, 0 to 8008\n",
      "Data columns (total 16 columns):\n",
      " #   Column         Non-Null Count  Dtype  \n",
      "---  ------         --------------  -----  \n",
      " 0   recipe_title   7997 non-null   object \n",
      " 1   url            7997 non-null   object \n",
      " 2   record_health  7997 non-null   object \n",
      " 3   vote_count     7997 non-null   int64  \n",
      " 4   rating         7997 non-null   float64\n",
      " 5   description    7982 non-null   object \n",
      " 6   cuisine        7937 non-null   object \n",
      " 7   course         7848 non-null   object \n",
      " 8   diet           7852 non-null   object \n",
      " 9   prep_time      7972 non-null   object \n",
      " 10  cook_time      7972 non-null   object \n",
      " 11  ingredients    7997 non-null   object \n",
      " 12  instructions   7997 non-null   object \n",
      " 13  author         7997 non-null   object \n",
      " 14  tags           7919 non-null   object \n",
      " 15  category       7997 non-null   object \n",
      "dtypes: float64(1), int64(1), object(14)\n",
      "memory usage: 1.0+ MB\n"
     ]
    }
   ],
   "source": [
    "df.info()"
   ]
  },
  {
   "cell_type": "code",
   "execution_count": 25,
   "id": "cross-therapy",
   "metadata": {},
   "outputs": [],
   "source": [
    "#converting all ingredients to lower case (my apologies to proper nouns) to make things easier\n",
    "\n",
    "df['ingredients'] = df['ingredients'].str.lower()"
   ]
  },
  {
   "cell_type": "code",
   "execution_count": 27,
   "id": "usual-bishop",
   "metadata": {},
   "outputs": [
    {
     "data": {
      "text/plain": [
       "गेहूं का आटा|नमक|तेल|घी                                                                                                                                                                                             3\n",
       "strawberries|sugar|lemon juice                                                                                                                                                                                      3\n",
       "lemons|sugar|salt|red chilli powder                                                                                                                                                                                 3\n",
       "dates|dried figs|pistachios|cashew nuts|whole almonds (badam)|walnuts|milk                                                                                                                                          2\n",
       "ragi seeds|white urad dal (whole)|methi seeds (fenugreek seeds)|salt|water                                                                                                                                          2\n",
       "                                                                                                                                                                                                                   ..\n",
       "button mushrooms|pearl onions (sambar onions)|garlic|black pepper powder|salt|sunflower oil|coriander (dhania) leaves                                                                                               1\n",
       "broccoli|baby corn|carrots (gajjar)|red bell pepper (capsicum)|lemon grass|lemon juice|basil leaves|sugar|salt and pepper                                                                                           1\n",
       "masoor dal (whole)|tomatoes|onion|garlic|ginger|green chillies|kasuri methi (dried fenugreek leaves)|sunflower oil|red chilli powder|salt|turmeric powder (haldi)|coriander powder (dhania)|cumin powder (jeera)    1\n",
       "all purpose flour (maida)|baking soda|salt|caster sugar|buttermilk|vanilla extract|whole egg|sunflower oil|fresh fruits                                                                                             1\n",
       "all purpose flour (maida)|sugar|baking powder|baking soda|oil|orange zest (rind)|fresh orange juice|whole egg|vanilla extract|caster sugar|butter (salted)                                                          1\n",
       "Name: ingredients, Length: 7953, dtype: int64"
      ]
     },
     "execution_count": 27,
     "metadata": {},
     "output_type": "execute_result"
    }
   ],
   "source": [
    "df['ingredients'].value_counts()"
   ]
  },
  {
   "cell_type": "code",
   "execution_count": 37,
   "id": "stable-franklin",
   "metadata": {},
   "outputs": [
    {
     "data": {
      "text/plain": [
       "description     15\n",
       "cuisine         66\n",
       "course         155\n",
       "diet           151\n",
       "prep_time       30\n",
       "cook_time       30\n",
       "ingredients     12\n",
       "tags            79\n",
       "dtype: int64"
      ]
     },
     "execution_count": 37,
     "metadata": {},
     "output_type": "execute_result"
    }
   ],
   "source": [
    "#a lot of null values that need dealing with. Especially ingredients\n",
    "\n",
    "null_columns=df.columns[df.isnull().any()]\n",
    "df[null_columns].isnull().sum()"
   ]
  },
  {
   "cell_type": "code",
   "execution_count": 40,
   "id": "familiar-import",
   "metadata": {},
   "outputs": [
    {
     "name": "stdout",
     "output_type": "stream",
     "text": [
      "Empty DataFrame\n",
      "Columns: [description, cuisine, course, diet, prep_time, cook_time, ingredients, tags]\n",
      "Index: []\n"
     ]
    }
   ],
   "source": [
    "# 12 rows lacking ingredients. In a lot of cases, they also lack prep/cook time, course, diet, cuisine. May as well drop them\n",
    "\n",
    "print(df[df[\"ingredients\"].isnull()][null_columns])"
   ]
  },
  {
   "cell_type": "code",
   "execution_count": 39,
   "id": "intelligent-emergency",
   "metadata": {},
   "outputs": [],
   "source": [
    "df = df.dropna(subset=['ingredients'])"
   ]
  },
  {
   "cell_type": "code",
   "execution_count": 49,
   "id": "civil-developer",
   "metadata": {},
   "outputs": [],
   "source": [
    "ingredients_brackets = df[df['ingredients'].str.contains(\"\\(\")]"
   ]
  },
  {
   "cell_type": "code",
   "execution_count": 47,
   "id": "english-camel",
   "metadata": {},
   "outputs": [
    {
     "data": {
      "text/plain": [
       "841     अरहर दाल|हरी मिर्च|नारियल|जीरा|हल्दी पाउडर|नमक...\n",
       "851     दही|बेसन|हींग|हल्दी पाउडर|गुड|नमक|जीरा|राइ|दाल...\n",
       "1210    अरहर दाल|हल्दी पाउडर|इमली का पानी|टमाटर|लहसुन|...\n",
       "1231    काबुली चना या छोला|प्याज|शिमला मिर्च (हरी)|लहस...\n",
       "1234    चावल|घी|जीरा|तेज पत्ता|स्टार अनीस|इलाइची|लॉन्ग...\n",
       "                              ...                        \n",
       "7534    दही|बेसन|हल्दी पाउडर|लाल मिर्च पाउडर|पानी|प्या...\n",
       "7535    चावल|अदरक लहसुन का पेस्ट|हरे मटर|बटन मशरुम|प्य...\n",
       "7550    अरहर दाल|टमाटर|संतरे का रस|निम्बू का रस|हल्दी ...\n",
       "7619    पापड़|आलू|टमाटर|अदरक|तेज पत्ता|सुखी लाल मिर्च|ज...\n",
       "7937    रागी का आटा|प्याज|अदरक|गाजर|बादाम|हरा बीन्स|नम...\n",
       "Name: ingredients, Length: 223, dtype: object"
      ]
     },
     "execution_count": 47,
     "metadata": {},
     "output_type": "execute_result"
    }
   ],
   "source": [
    "# 223 recipes with ingredients in Hindi, hmmmm... approx 3% of total recipes. drop them?\n",
    "\n",
    "ingredients['ingredients']"
   ]
  },
  {
   "cell_type": "code",
   "execution_count": 58,
   "id": "foreign-rotation",
   "metadata": {},
   "outputs": [
    {
     "data": {
      "text/plain": [
       "0                                                                                                                         tortillas|extra virgin olive oil|garlic|mozzarella cheese|red yellow or green bell pepper (capsicum)|onions|kalmatta olives|button mushrooms\n",
       "1                                                                                                            sesame (gingelly) oil|mustard seeds (rai/ kadugu)|curry leaves|garlic|pearl onions (sambar onions)|tomatoes|tamarind|turmeric powder (haldi)|salt|jaggery\n",
       "2                                                                           extra virgin olive oil|pineapple|white onion|red yellow and green bell peppers (capsicum)|pickled jalapenos|coriander (dhania) leaves|mint leaves (pudina)|salt|lemon juice|paprika powder\n",
       "3                                                                                                        arhar dal (split toor dal)|turmeric powder (haldi)|salt|dry red chillies|mustard seeds (rai/ kadugu)|asafoetida (hing)|curry leaves|coriander (dhania) leaves\n",
       "4                                                  rajma (large kidney beans)|cashew nuts|sultana raisins|asafoetida (hing)|cumin seeds (jeera)|gram flour (besan)|red chilli powder|coriander (dhania) leaves|poppy seeds|fresh cream|milk|water|salt|saffron strands\n",
       "                                                                                                                                     ...                                                                                                                              \n",
       "8004                                                                                                spirali pasta|onions|tomatoes|green zucchini|carrot (gajjar)|green chillies|dried oregano|dried basil leaves|black pepper powder|salt|extra virgin olive oil|sugar\n",
       "8005                                       arhar dal (split toor dal)|tomato|turmeric powder (haldi)|red chilli powder|garlic|ginger|green chillies|oil|mustard seeds (rai/ kadugu)|cumin seeds (jeera)|dry red chillies|curry leaves|garlic|coriander (dhania) leaves\n",
       "8006                                                                                                             turmeric powder (haldi)|sugar|salt|fresh coconut|dry red chillies|coriander (dhania) seeds|sunflower oil|mustard seeds|asafoetida (hing)|curry leaves\n",
       "8007                                                                                                                               beetroot|amla (nellikai/ gooseberry)|mint leaves (pudina)|cucumber|black pepper powder|cumin powder (jeera)|black salt (kala namak)\n",
       "8008    cauliflower (gobi)|pearl onions (sambar onions)|garlic|turmeric powder (haldi)|black pepper powder|red chilli powder|cinnamon powder (dalchini)|cloves (laung)|coriander powder (dhania)|salt|mustard seeds (rai/ kadugu)|cumin seeds (jeera)|curry leaves|oil\n",
       "Name: ingredients, Length: 6378, dtype: object"
      ]
     },
     "execution_count": 58,
     "metadata": {},
     "output_type": "execute_result"
    }
   ],
   "source": [
    "#6378 rows with brackets in the ingredients. that's a lot\n",
    "\n",
    "pd.set_option('display.max_colwidth', None)\n",
    "ingredients_brackets['ingredients']"
   ]
  },
  {
   "cell_type": "code",
   "execution_count": 61,
   "id": "usual-coast",
   "metadata": {},
   "outputs": [
    {
     "name": "stdout",
     "output_type": "stream",
     "text": [
      "0                                                                                                                                                                                                                                                                                    tortillas|extra virgin olive oil|garlic|mozzarella cheese|red yellow or green bell pepper (capsicum)|onions|kalmatta olives|button mushrooms\n",
      "2                                                                                                                                                                                                                                      extra virgin olive oil|pineapple|white onion|red yellow and green bell peppers (capsicum)|pickled jalapenos|coriander (dhania) leaves|mint leaves (pudina)|salt|lemon juice|paprika powder\n",
      "8                                                                                                                                                                                 whole wheat flour|sooji (semolina/ rava)|ajwain (carom seeds)|salt|extra virgin olive oil|carrot (gajjar)|green bell pepper (capsicum)|cabbage (patta gobi/ muttaikose)|ginger|garlic|green chilli|spring onion greens|salt|black pepper powder\n",
      "22                                                                                                                                                                                                              brinjal (baingan / eggplant)|green bell pepper (capsicum)|carrot (gajjar)|onion|green chillies|garlic|basil leaves|parsley leaves|extra virgin olive oil|black pepper powder|salt|dried oregano|mozzarella cheese\n",
      "32                                                                                                                                                                                                                          makki ka atta (yellow corn meal flour)|milk|water|whole black peppercorns|extra virgin olive oil|salt|red yellow and green bell peppers (capsicum)|button mushrooms|mixed herbs (dried)|onions|cheese\n",
      "                                                                                                                                                                                                                  ...                                                                                                                                                                                                            \n",
      "7958                                                                baby potatoes|green peas (matar)|carrots (gajjar)|green beans (french beans)|red bell pepper (capsicum)|yellow bell pepper (capsicum)|raisins|tomato|onion|garlic|ginger|red chilli powder|turmeric powder (haldi)|coriander powder (dhania)|cumin powder (jeera)|bay leaves (tej patta)|cashew nuts|fresh cream|coriander (dhania) leaves|salt|sunflower oil\n",
      "7968                                                                                                                                                                                                                         hakka noodles|water|garlic|ginger|fresh red chilli|carrots (gajjar)|red bell pepper (capsicum)|green bell peppers|salt|black pepper powder|spring onion greens|chicken breasts|dry red chilli|garlic\n",
      "7982    all purpose flour (maida)|whole wheat flour|sugar|salt|extra virgin olive oil|green bell pepper (capsicum)|red bell pepper (capsicum)|yellow bell pepper (capsicum)|brinjal (baingan / eggplant)|onion|green zucchini|pickled jalapenos|button mushrooms|corn cob|extra virgin olive oil|salt and pepper|red chilli powder|cumin powder (jeera)|coriander powder (dhania)|goat cheese|whole egg|coriander (dhania) leaves\n",
      "7999                                                                                                                                                                                         yellow moong dal (split)|green chillies|ginger|onion|green bell pepper (capsicum)|green peas (matar)|mint leaves (pudina)|corn flour|cumin powder (jeera)|amchur (dry mango powder)|black pepper powder|chaat masala powder|salt|oil\n",
      "8001                                                                                                                                                                                                                                                   cauliflower (gobi)|red bell pepper (capsicum)|coriander powder (dhania)|red chilli powder|turmeric powder (haldi)|kasuri methi (dried fenugreek leaves)|sunflower oil|salt\n",
      "Name: ingredients, Length: 653, dtype: object\n"
     ]
    }
   ],
   "source": [
    "#lots of combos for bell peppers, 'red, yellow or green' sometimes with 'and', sometimes with 'or'...sometimes pepperS or pepper singular\n",
    "\n",
    "pepper = df[df['ingredients'].str.contains('bell pepper')]\n",
    "print (pepper['ingredients'])"
   ]
  },
  {
   "cell_type": "code",
   "execution_count": 62,
   "id": "welsh-financing",
   "metadata": {},
   "outputs": [
    {
     "name": "stdout",
     "output_type": "stream",
     "text": [
      "5       barnyard millet|oil|bay leaf (tej patta)|cardamom (elaichi) pods/seeds|cloves (laung)|cinnamon stick (dalchini)|star anise|curry leaves|green chillies|garlic|ginger|onions|button mushrooms|salt|coriander (dhania) powder|black pepper powder|coriander (dhania) leaves|mint leaves (pudina)\n",
      "8                                                      whole wheat flour|sooji (semolina/ rava)|ajwain (carom seeds)|salt|extra virgin olive oil|carrot (gajjar)|green bell pepper (capsicum)|cabbage (patta gobi/ muttaikose)|ginger|garlic|green chilli|spring onion greens|salt|black pepper powder\n",
      "11                      butter (salted)|garlic|green chillies|onion|green capsicum|cooked rice|sweet corn|all purpose flour (maida)|mint leaves (pudina)|mozzarella cheese|black pepper powder|oil|salt|all purpose flour (maida)|water|whole wheat bread crumbs|mixed herbs (dried)|red chilli flakes\n",
      "12                                                                                                                                                                                         shrimps|butter (salted)|orange color|lemon juice|honey|black pepper powder|garlic|ginger|fresh thyme leaves\n",
      "20                                                                                                                                 extra virgin olive oil|chicken breasts|spaghetti pasta|basil leaves|walnuts|parmesan cheese|garlic|extra virgin olive oil|salt|whole black pepper corns|lemon juice\n",
      "                                                                                                                                                     ...                                                                                                                                              \n",
      "7999                                                              yellow moong dal (split)|green chillies|ginger|onion|green bell pepper (capsicum)|green peas (matar)|mint leaves (pudina)|corn flour|cumin powder (jeera)|amchur (dry mango powder)|black pepper powder|chaat masala powder|salt|oil\n",
      "8000                                                                                                                                                                          basmati rice|garlic|basil leaves|parsley leaves|dried oregano|red chilli flakes|butter (salted)|salt|black pepper powder\n",
      "8004                                                                                                                                spirali pasta|onions|tomatoes|green zucchini|carrot (gajjar)|green chillies|dried oregano|dried basil leaves|black pepper powder|salt|extra virgin olive oil|sugar\n",
      "8007                                                                                                                                                               beetroot|amla (nellikai/ gooseberry)|mint leaves (pudina)|cucumber|black pepper powder|cumin powder (jeera)|black salt (kala namak)\n",
      "8008                                    cauliflower (gobi)|pearl onions (sambar onions)|garlic|turmeric powder (haldi)|black pepper powder|red chilli powder|cinnamon powder (dalchini)|cloves (laung)|coriander powder (dhania)|salt|mustard seeds (rai/ kadugu)|cumin seeds (jeera)|curry leaves|oil\n",
      "Name: ingredients, Length: 1418, dtype: object\n"
     ]
    }
   ],
   "source": [
    "#black pepper powder and peppercorns seems consistent. leave it?\n",
    "\n",
    "black_pepper = df[df['ingredients'].str.contains('black pepper')]\n",
    "print (black_pepper['ingredients'])"
   ]
  },
  {
   "cell_type": "code",
   "execution_count": 69,
   "id": "expanded-evaluation",
   "metadata": {},
   "outputs": [
    {
     "name": "stdout",
     "output_type": "stream",
     "text": [
      "Series([], Name: ingredients, dtype: object)\n"
     ]
    }
   ],
   "source": [
    "#sometimes singular and plural. overwrite all as singular?\n",
    "\n",
    "chilli = df[df['ingredients'].str.contains('chillie')]\n",
    "print (chilli['ingredients'])"
   ]
  },
  {
   "cell_type": "code",
   "execution_count": 67,
   "id": "binary-belize",
   "metadata": {},
   "outputs": [
    {
     "name": "stderr",
     "output_type": "stream",
     "text": [
      "<ipython-input-67-0c3c35d2926c>:3: SettingWithCopyWarning: \n",
      "A value is trying to be set on a copy of a slice from a DataFrame.\n",
      "Try using .loc[row_indexer,col_indexer] = value instead\n",
      "\n",
      "See the caveats in the documentation: https://pandas.pydata.org/pandas-docs/stable/user_guide/indexing.html#returning-a-view-versus-a-copy\n",
      "  df['ingredients'] = df['ingredients'].replace(r'chillies', 'chilli', regex=True)\n"
     ]
    }
   ],
   "source": [
    "#saving all as 'chilli' singular\n",
    "\n",
    "df['ingredients'] = df['ingredients'].replace(r'chillies', 'chilli', regex=True)\n"
   ]
  },
  {
   "cell_type": "code",
   "execution_count": 70,
   "id": "fixed-senegal",
   "metadata": {},
   "outputs": [
    {
     "data": {
      "text/plain": [
       "lemons|sugar|salt|red chilli powder                                                                                                                                                                                           3\n",
       "strawberries|sugar|lemon juice                                                                                                                                                                                                3\n",
       "गेहूं का आटा|नमक|तेल|घी                                                                                                                                                                                                       3\n",
       "आलू|गोभी|अदरक|टमाटर|जीरा|हल्दी पाउडर|गरम मसाला पाउडर|इलाइची|लाल मिर्च पाउडर|हरा धनिया|तेल|नमक                                                                                                                                 2\n",
       "हरी मूंग दाल|प्याज|टमाटर|अदरक|लहसुन|हरी मिर्च|तेल|जीरा|गरम मसाला पाउडर|नमक|हल्दी पाउडर|घी|कश्मीरी लाल मिर्च पाउडर|हरा धनिया                                                                                                   2\n",
       "                                                                                                                                                                                                                             ..\n",
       "बैंगन|राइ|सफ़ेद उरद दाल|कढ़ी पत्ता|सुखी लाल मिर्च|तेल|नमक|हरा धनिया|हरी मिर्च|अदरक|जीरा                                                                                                                                         1\n",
       "roasted gram flour (sattu ka atta)|mint leaves (pudina)|coriander (dhania) leaves|green chilli|lemon juice|cumin powder (jeera)|black salt (kala namak)|chilled water|salt                                                    1\n",
       "instant oats (oatmeal)|yellow moong dal (split)|spinach|water|cumin seeds (jeera)|whole black peppercorns|curry leaves|asafoetida (hing)|green chilli|cashew nuts|salt                                                        1\n",
       "yellow moong dal (split)|turmeric powder (haldi)|green chilli|ginger|curry leaves|salt|lemon juice|coriander (dhania) leaves|mustard seeds (rai/ kadugu)|cumin seeds (jeera)|dry red chilli|asafoetida (hing)|curry leaves    1\n",
       "all purpose flour (maida)|sugar|baking powder|baking soda|oil|orange zest (rind)|fresh orange juice|whole egg|vanilla extract|caster sugar|butter (salted)                                                                    1\n",
       "Name: ingredients, Length: 7953, dtype: int64"
      ]
     },
     "execution_count": 70,
     "metadata": {},
     "output_type": "execute_result"
    }
   ],
   "source": [
    "df['ingredients'].value_counts()"
   ]
  },
  {
   "cell_type": "code",
   "execution_count": 73,
   "id": "prompt-titanium",
   "metadata": {},
   "outputs": [
    {
     "name": "stdout",
     "output_type": "stream",
     "text": [
      "78                                                                                                                            pani puris|potato (aloo)|salt|cumin powder (jeera)|chaat masala powder|red chilli powder|mango (raw)|mint leaves (pudina)|cumin powder (jeera)|black salt (kala namak)|black pepper powder|sugar\n",
      "91                                                                                                                                                                                                              bathua leaves|green chilli|ginger|black salt (kala namak)|cumin powder (jeera)|black pepper powder|cooking oil\n",
      "302                                                                                                                                                                  gram flour (besan)|whole wheat flour|green chilli|onion|ginger|turmeric powder (haldi)|whole black peppercorns|black salt (kala namak)|salt|sunflower oil\n",
      "395                          arhar dal (split toor dal)|green moong dal (whole)|onion|tomato|garlic|ginger|green chilli|cumin powder (jeera)|coriander powder (dhania)|red chilli powder|turmeric powder (haldi)|black salt (kala namak)|salt|oil|cumin seeds (jeera)|dry red chilli|garlic|coriander (dhania) leaves|charcoal\n",
      "473     all purpose flour (maida)|ajwain (carom seeds)|salt|oil|potatoes (aloo)|green peas (matar)|roasted peanuts (moongphali)|ginger|cumin seeds (jeera)|fennel seeds (saunf)|turmeric powder (haldi)|red chilli powder|chaat masala powder|amchur (dry mango powder)|black salt (kala namak)|salt|coriander (dhania) leaves\n",
      "                                                                                                                                                                 ...                                                                                                                                                          \n",
      "7471                                                                                                                        pani puris|potato (aloo)|salt|chaat masala powder|cumin powder (jeera)|red chilli powder|pineapple|green chilli|chaat masala powder|cumin powder (jeera)|sugar|black salt (kala namak)|lemon juice\n",
      "7501                                                                                                                                                                   mango (raw)|kiwi|mint leaves (pudina)|sugar|cumin powder (jeera)|black salt (kala namak)|black pepper powder|green chilli|chaat masala powder|ice cubes\n",
      "7795                                                                                                                                             hung curd (greek yogurt)|green chilli|black salt (kala namak)|cumin powder (jeera)|salt|saffron strands|gram flour (besan)|coriander (dhania) leaves|whole wheat bread crumbs\n",
      "7825                                                                                                        oil|onion|potato (aloo)|tomatoes|ginger|green chilli|pav bhaji masala|cumin powder (jeera)|red chilli powder|chaat masala powder|black salt (kala namak)|salt|lemon juice|namak para|sev|coriander (dhania) leaves\n",
      "8007                                                                                                                                                                                       beetroot|amla (nellikai/ gooseberry)|mint leaves (pudina)|cucumber|black pepper powder|cumin powder (jeera)|black salt (kala namak)\n",
      "Name: ingredients, Length: 90, dtype: object\n"
     ]
    }
   ],
   "source": [
    "salt = df[df['ingredients'].str.contains('black salt')]\n",
    "print (salt['ingredients'])"
   ]
  },
  {
   "cell_type": "code",
   "execution_count": null,
   "id": "descending-transport",
   "metadata": {},
   "outputs": [],
   "source": []
  },
  {
   "cell_type": "code",
   "execution_count": null,
   "id": "common-compromise",
   "metadata": {},
   "outputs": [],
   "source": []
  },
  {
   "cell_type": "code",
   "execution_count": 124,
   "id": "compound-impression",
   "metadata": {},
   "outputs": [],
   "source": [
    "def user_ingredient():\n",
    "    from random import randint\n",
    "    #input from user\n",
    "    ingredient_choice=input(\"Pick an ingredient\")\n",
    "    if len(ingredient_choice)==0:\n",
    "        print(\"it looks like you can't think of an ingredient at the moment\")\n",
    "    else: \n",
    "        ingredient_choice=ingredient_choice.lower() #convert input to lowercase\n",
    "        filter_ingredient=df[(df[\"ingredients\"].str.lower()).str.contains(ingredient_choice)]# convert target to lowercase\n",
    "        #check if its in the list we have\n",
    "        if len(filter_ingredient) ==0:\n",
    "            print(\"Poor choice\")\n",
    "            random_song2 = randint(0, len(filter_ingredient)-1)\n",
    "            print(\"But check out '\" + df[\"recipe_title\"][random_song2] + df['ingredients'])\n",
    "\n",
    "        else:\n",
    "            # if song is in billboard hot 100, confirm it, recommend another random hot song\n",
    "            print(\"Now that's a hit\")\n",
    "            random_song = randint(0, len(filter_ingredient)-1)\n",
    "            print(\"You might also like '\" + df[\"recipe_title\"][random_song] + df['ingredients'])"
   ]
  },
  {
   "cell_type": "code",
   "execution_count": 125,
   "id": "useful-perfume",
   "metadata": {},
   "outputs": [
    {
     "name": "stdout",
     "output_type": "stream",
     "text": [
      "Pick an ingredientpeppers\n",
      "Now that's a hit\n",
      "0                                                                                                                         You might also like 'Homemade Kashmiri Garam Masala Recipetortillas|extra virgin olive oil|garlic|mozzarella cheese|red yellow or green bell pepper (capsicum)|onions|kalmatta olives|button mushrooms\n",
      "1                                                                                                            You might also like 'Homemade Kashmiri Garam Masala Recipesesame (gingelly) oil|mustard seeds (rai/ kadugu)|curry leaves|garlic|pearl onions (sambar onions)|tomatoes|tamarind|turmeric powder (haldi)|salt|jaggery\n",
      "2                                                                           You might also like 'Homemade Kashmiri Garam Masala Recipeextra virgin olive oil|pineapple|white onion|red yellow and green bell peppers (capsicum)|pickled jalapenos|coriander (dhania) leaves|mint leaves (pudina)|salt|lemon juice|paprika powder\n",
      "3                                                                                                          You might also like 'Homemade Kashmiri Garam Masala Recipearhar dal (split toor dal)|turmeric powder (haldi)|salt|dry red chilli|mustard seeds (rai/ kadugu)|asafoetida (hing)|curry leaves|coriander (dhania) leaves\n",
      "4                                                  You might also like 'Homemade Kashmiri Garam Masala Reciperajma (large kidney beans)|cashew nuts|sultana raisins|asafoetida (hing)|cumin seeds (jeera)|gram flour (besan)|red chilli powder|coriander (dhania) leaves|poppy seeds|fresh cream|milk|water|salt|saffron strands\n",
      "                                                                                                                                                                  ...                                                                                                                                                           \n",
      "8004                                                                                                  You might also like 'Homemade Kashmiri Garam Masala Recipespirali pasta|onions|tomatoes|green zucchini|carrot (gajjar)|green chilli|dried oregano|dried basil leaves|black pepper powder|salt|extra virgin olive oil|sugar\n",
      "8005                                           You might also like 'Homemade Kashmiri Garam Masala Recipearhar dal (split toor dal)|tomato|turmeric powder (haldi)|red chilli powder|garlic|ginger|green chilli|oil|mustard seeds (rai/ kadugu)|cumin seeds (jeera)|dry red chilli|curry leaves|garlic|coriander (dhania) leaves\n",
      "8006                                                                                                               You might also like 'Homemade Kashmiri Garam Masala Recipeturmeric powder (haldi)|sugar|salt|fresh coconut|dry red chilli|coriander (dhania) seeds|sunflower oil|mustard seeds|asafoetida (hing)|curry leaves\n",
      "8007                                                                                                                               You might also like 'Homemade Kashmiri Garam Masala Recipebeetroot|amla (nellikai/ gooseberry)|mint leaves (pudina)|cucumber|black pepper powder|cumin powder (jeera)|black salt (kala namak)\n",
      "8008    You might also like 'Homemade Kashmiri Garam Masala Recipecauliflower (gobi)|pearl onions (sambar onions)|garlic|turmeric powder (haldi)|black pepper powder|red chilli powder|cinnamon powder (dalchini)|cloves (laung)|coriander powder (dhania)|salt|mustard seeds (rai/ kadugu)|cumin seeds (jeera)|curry leaves|oil\n",
      "Name: ingredients, Length: 7997, dtype: object\n"
     ]
    }
   ],
   "source": [
    "\n",
    "user_ingredient() "
   ]
  },
  {
   "cell_type": "code",
   "execution_count": null,
   "id": "written-mobile",
   "metadata": {},
   "outputs": [],
   "source": []
  },
  {
   "cell_type": "code",
   "execution_count": 87,
   "id": "asian-sequence",
   "metadata": {},
   "outputs": [],
   "source": [
    "def available_ingredient(ingredients):\n",
    "    if ingredients.lower() in df['ingredients']:\n",
    "        return(df['recipe_title'][random.randint(1,len(df)-1)].recipe_title())\n",
    "    else:\n",
    "        return(\"*\")"
   ]
  },
  {
   "cell_type": "code",
   "execution_count": 85,
   "id": "interracial-clerk",
   "metadata": {},
   "outputs": [],
   "source": [
    "#function to validate user input\n",
    "import re\n",
    "\n",
    "def validate_input(text):\n",
    "    ''' Parameters: text entered by user in input\n",
    "        Results: returns true if it's a possible song, false otherwise\n",
    "    '''\n",
    "    #the user entered nothing\n",
    "    if len(text) == 0:\n",
    "        return False\n",
    "    #some songs start or contain numbers, ex: 4 Da Gang\n",
    "    else:\n",
    "        return True"
   ]
  },
  {
   "cell_type": "code",
   "execution_count": 88,
   "id": "familiar-handy",
   "metadata": {},
   "outputs": [
    {
     "name": "stdout",
     "output_type": "stream",
     "text": [
      ">> Enter an ingredient: salt\n",
      "Recommended for you:  *\n"
     ]
    },
    {
     "ename": "KeyboardInterrupt",
     "evalue": "Interrupted by user",
     "output_type": "error",
     "traceback": [
      "\u001b[0;31m---------------------------------------------------------------------------\u001b[0m",
      "\u001b[0;31mKeyboardInterrupt\u001b[0m                         Traceback (most recent call last)",
      "\u001b[0;32m<ipython-input-88-dc7ad8241148>\u001b[0m in \u001b[0;36m<module>\u001b[0;34m\u001b[0m\n\u001b[1;32m      1\u001b[0m \u001b[0;32mwhile\u001b[0m \u001b[0;32mTrue\u001b[0m\u001b[0;34m:\u001b[0m\u001b[0;34m\u001b[0m\u001b[0;34m\u001b[0m\u001b[0m\n\u001b[1;32m      2\u001b[0m     \u001b[0;31m#ask the user for an ingredient\u001b[0m\u001b[0;34m\u001b[0m\u001b[0;34m\u001b[0m\u001b[0;34m\u001b[0m\u001b[0m\n\u001b[0;32m----> 3\u001b[0;31m     \u001b[0muser_ingredient\u001b[0m \u001b[0;34m=\u001b[0m \u001b[0minput\u001b[0m\u001b[0;34m(\u001b[0m\u001b[0;34m\">> Enter an ingredient: \"\u001b[0m\u001b[0;34m)\u001b[0m\u001b[0;34m\u001b[0m\u001b[0;34m\u001b[0m\u001b[0m\n\u001b[0m\u001b[1;32m      4\u001b[0m     \u001b[0;32mif\u001b[0m \u001b[0muser_ingredient\u001b[0m \u001b[0;34m==\u001b[0m\u001b[0;34m'!'\u001b[0m\u001b[0;34m:\u001b[0m\u001b[0;34m\u001b[0m\u001b[0;34m\u001b[0m\u001b[0m\n\u001b[1;32m      5\u001b[0m         \u001b[0mprint\u001b[0m\u001b[0;34m(\u001b[0m\u001b[0;34m\"Guten appetit! Bye :)\"\u001b[0m\u001b[0;34m)\u001b[0m\u001b[0;34m\u001b[0m\u001b[0;34m\u001b[0m\u001b[0m\n",
      "\u001b[0;32m~/opt/miniconda3/lib/python3.8/site-packages/ipykernel/kernelbase.py\u001b[0m in \u001b[0;36mraw_input\u001b[0;34m(self, prompt)\u001b[0m\n\u001b[1;32m    846\u001b[0m                 \u001b[0;34m\"raw_input was called, but this frontend does not support input requests.\"\u001b[0m\u001b[0;34m\u001b[0m\u001b[0;34m\u001b[0m\u001b[0m\n\u001b[1;32m    847\u001b[0m             )\n\u001b[0;32m--> 848\u001b[0;31m         return self._input_request(str(prompt),\n\u001b[0m\u001b[1;32m    849\u001b[0m             \u001b[0mself\u001b[0m\u001b[0;34m.\u001b[0m\u001b[0m_parent_ident\u001b[0m\u001b[0;34m,\u001b[0m\u001b[0;34m\u001b[0m\u001b[0;34m\u001b[0m\u001b[0m\n\u001b[1;32m    850\u001b[0m             \u001b[0mself\u001b[0m\u001b[0;34m.\u001b[0m\u001b[0m_parent_header\u001b[0m\u001b[0;34m,\u001b[0m\u001b[0;34m\u001b[0m\u001b[0;34m\u001b[0m\u001b[0m\n",
      "\u001b[0;32m~/opt/miniconda3/lib/python3.8/site-packages/ipykernel/kernelbase.py\u001b[0m in \u001b[0;36m_input_request\u001b[0;34m(self, prompt, ident, parent, password)\u001b[0m\n\u001b[1;32m    890\u001b[0m             \u001b[0;32mexcept\u001b[0m \u001b[0mKeyboardInterrupt\u001b[0m\u001b[0;34m:\u001b[0m\u001b[0;34m\u001b[0m\u001b[0;34m\u001b[0m\u001b[0m\n\u001b[1;32m    891\u001b[0m                 \u001b[0;31m# re-raise KeyboardInterrupt, to truncate traceback\u001b[0m\u001b[0;34m\u001b[0m\u001b[0;34m\u001b[0m\u001b[0;34m\u001b[0m\u001b[0m\n\u001b[0;32m--> 892\u001b[0;31m                 \u001b[0;32mraise\u001b[0m \u001b[0mKeyboardInterrupt\u001b[0m\u001b[0;34m(\u001b[0m\u001b[0;34m\"Interrupted by user\"\u001b[0m\u001b[0;34m)\u001b[0m \u001b[0;32mfrom\u001b[0m \u001b[0;32mNone\u001b[0m\u001b[0;34m\u001b[0m\u001b[0;34m\u001b[0m\u001b[0m\n\u001b[0m\u001b[1;32m    893\u001b[0m             \u001b[0;32mexcept\u001b[0m \u001b[0mException\u001b[0m \u001b[0;32mas\u001b[0m \u001b[0me\u001b[0m\u001b[0;34m:\u001b[0m\u001b[0;34m\u001b[0m\u001b[0;34m\u001b[0m\u001b[0m\n\u001b[1;32m    894\u001b[0m                 \u001b[0mself\u001b[0m\u001b[0;34m.\u001b[0m\u001b[0mlog\u001b[0m\u001b[0;34m.\u001b[0m\u001b[0mwarning\u001b[0m\u001b[0;34m(\u001b[0m\u001b[0;34m\"Invalid Message:\"\u001b[0m\u001b[0;34m,\u001b[0m \u001b[0mexc_info\u001b[0m\u001b[0;34m=\u001b[0m\u001b[0;32mTrue\u001b[0m\u001b[0;34m)\u001b[0m\u001b[0;34m\u001b[0m\u001b[0;34m\u001b[0m\u001b[0m\n",
      "\u001b[0;31mKeyboardInterrupt\u001b[0m: Interrupted by user"
     ]
    }
   ],
   "source": [
    "while True:\n",
    "    #ask the user for an ingredient\n",
    "    user_ingredient = input(\">> Enter an ingredient: \")\n",
    "    if user_ingredient =='!':\n",
    "        print(\"Guten appetit! Bye :)\")\n",
    "        break\n",
    "    if validate_input(user_ingredient):\n",
    "        #apply the recommendation function\n",
    "        result = available_ingredient(user_ingredient)\n",
    "        if result ==\"***\":\n",
    "            print(\"You're gonna like this recipe: \") \n",
    "            get_random_song_cluster(user_song)\n",
    "        else:\n",
    "            print(\"Recommended for you: \", result)\n",
    "    else:\n",
    "        print(\"That's not a song, try again!\")"
   ]
  },
  {
   "cell_type": "code",
   "execution_count": null,
   "id": "postal-guitar",
   "metadata": {},
   "outputs": [],
   "source": []
  },
  {
   "cell_type": "code",
   "execution_count": null,
   "id": "breathing-jumping",
   "metadata": {},
   "outputs": [],
   "source": []
  },
  {
   "cell_type": "code",
   "execution_count": null,
   "id": "simplified-phrase",
   "metadata": {},
   "outputs": [],
   "source": []
  }
 ],
 "metadata": {
  "kernelspec": {
   "display_name": "Python 3",
   "language": "python",
   "name": "python3"
  },
  "language_info": {
   "codemirror_mode": {
    "name": "ipython",
    "version": 3
   },
   "file_extension": ".py",
   "mimetype": "text/x-python",
   "name": "python",
   "nbconvert_exporter": "python",
   "pygments_lexer": "ipython3",
   "version": "3.8.5"
  }
 },
 "nbformat": 4,
 "nbformat_minor": 5
}
